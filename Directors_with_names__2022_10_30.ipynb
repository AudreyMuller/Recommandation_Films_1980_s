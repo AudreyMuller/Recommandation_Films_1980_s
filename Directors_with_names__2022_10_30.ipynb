{
  "nbformat": 4,
  "nbformat_minor": 0,
  "metadata": {
    "colab": {
      "provenance": [],
      "authorship_tag": "ABX9TyPWp764Foc38QYkaTaCjfbu",
      "include_colab_link": true
    },
    "kernelspec": {
      "name": "python3",
      "display_name": "Python 3"
    },
    "language_info": {
      "name": "python"
    }
  },
  "cells": [
    {
      "cell_type": "markdown",
      "metadata": {
        "id": "view-in-github",
        "colab_type": "text"
      },
      "source": [
        "<a href=\"https://colab.research.google.com/github/AudreyMuller/Recommandation_Films_1980_s/blob/Maria/Directors_with_names__2022_10_30.ipynb\" target=\"_parent\"><img src=\"https://colab.research.google.com/assets/colab-badge.svg\" alt=\"Open In Colab\"/></a>"
      ]
    },
    {
      "cell_type": "code",
      "execution_count": 1,
      "metadata": {
        "colab": {
          "base_uri": "https://localhost:8080/"
        },
        "id": "I-t4xpyT-v9x",
        "outputId": "4be10477-7721-4b8b-b933-e2132f87fb32"
      },
      "outputs": [
        {
          "output_type": "stream",
          "name": "stdout",
          "text": [
            "Mounted at /content/drive/\n"
          ]
        }
      ],
      "source": [
        "import pandas as pd\n",
        "\n",
        "from google.colab import drive\n",
        "drive.mount('/content/drive/')"
      ]
    },
    {
      "cell_type": "markdown",
      "source": [
        "## Read csv"
      ],
      "metadata": {
        "id": "nzN7g1Mm_aOb"
      }
    },
    {
      "cell_type": "code",
      "source": [
        "df_ourmovies = pd.read_csv('/content/drive/MyDrive/2209-Data/Projets/Projet2/MMA/00_CSV_files/00_DATABASE_FINAL.csv', sep=',')"
      ],
      "metadata": {
        "id": "7auwDeZv_b82"
      },
      "execution_count": 2,
      "outputs": []
    },
    {
      "cell_type": "code",
      "source": [
        "df_ourmovies.head()"
      ],
      "metadata": {
        "colab": {
          "base_uri": "https://localhost:8080/",
          "height": 337
        },
        "id": "lZTvmuDFA2rd",
        "outputId": "9511e29e-0efc-450d-e9ea-70d16039096c"
      },
      "execution_count": 3,
      "outputs": [
        {
          "output_type": "execute_result",
          "data": {
            "text/plain": [
              "   Unnamed: 0  Unnamed: 0.1     tconst  \\\n",
              "0         292           292  tt0080684   \n",
              "1        3191          3191  tt0088763   \n",
              "2        2261          2261  tt0086190   \n",
              "3         592           592  tt0081505   \n",
              "4        1129          1129  tt0082971   \n",
              "\n",
              "                                     primaryTitle  \\\n",
              "0  Star Wars: Episode V - The Empire Strikes Back   \n",
              "1                              Back to the Future   \n",
              "2      Star Wars: Episode VI - Return of the Jedi   \n",
              "3                                     The Shining   \n",
              "4   Indiana Jones and the Raiders of the Lost Ark   \n",
              "\n",
              "                                originalTitle  startYear  runtimeMinutes  \\\n",
              "0                     The Empire Strikes Back       1980           124.0   \n",
              "1                          Back to the Future       1985           116.0   \n",
              "2  Star Wars: Episode VI - Return of the Jedi       1983           131.0   \n",
              "3                                 The Shining       1980           146.0   \n",
              "4                     Raiders of the Lost Ark       1981           115.0   \n",
              "\n",
              "                               genres region  averageRating   numVotes  \\\n",
              "0  ['Action', 'Adventure', 'Fantasy']     US            8.7  1282261.0   \n",
              "1   ['Adventure', 'Comedy', 'Sci-Fi']     US            8.5  1192861.0   \n",
              "2  ['Action', 'Adventure', 'Fantasy']     US            8.3  1046826.0   \n",
              "3                 ['Drama', 'Horror']     US            8.4  1012330.0   \n",
              "4             ['Action', 'Adventure']     US            8.4   960289.0   \n",
              "\n",
              "   weight_average  \n",
              "0         0.17131  \n",
              "1         0.15570  \n",
              "2         0.13342  \n",
              "3         0.13058  \n",
              "4         0.12387  "
            ],
            "text/html": [
              "\n",
              "  <div id=\"df-3de068ef-17c1-466f-a5f8-4b72acb7754a\">\n",
              "    <div class=\"colab-df-container\">\n",
              "      <div>\n",
              "<style scoped>\n",
              "    .dataframe tbody tr th:only-of-type {\n",
              "        vertical-align: middle;\n",
              "    }\n",
              "\n",
              "    .dataframe tbody tr th {\n",
              "        vertical-align: top;\n",
              "    }\n",
              "\n",
              "    .dataframe thead th {\n",
              "        text-align: right;\n",
              "    }\n",
              "</style>\n",
              "<table border=\"1\" class=\"dataframe\">\n",
              "  <thead>\n",
              "    <tr style=\"text-align: right;\">\n",
              "      <th></th>\n",
              "      <th>Unnamed: 0</th>\n",
              "      <th>Unnamed: 0.1</th>\n",
              "      <th>tconst</th>\n",
              "      <th>primaryTitle</th>\n",
              "      <th>originalTitle</th>\n",
              "      <th>startYear</th>\n",
              "      <th>runtimeMinutes</th>\n",
              "      <th>genres</th>\n",
              "      <th>region</th>\n",
              "      <th>averageRating</th>\n",
              "      <th>numVotes</th>\n",
              "      <th>weight_average</th>\n",
              "    </tr>\n",
              "  </thead>\n",
              "  <tbody>\n",
              "    <tr>\n",
              "      <th>0</th>\n",
              "      <td>292</td>\n",
              "      <td>292</td>\n",
              "      <td>tt0080684</td>\n",
              "      <td>Star Wars: Episode V - The Empire Strikes Back</td>\n",
              "      <td>The Empire Strikes Back</td>\n",
              "      <td>1980</td>\n",
              "      <td>124.0</td>\n",
              "      <td>['Action', 'Adventure', 'Fantasy']</td>\n",
              "      <td>US</td>\n",
              "      <td>8.7</td>\n",
              "      <td>1282261.0</td>\n",
              "      <td>0.17131</td>\n",
              "    </tr>\n",
              "    <tr>\n",
              "      <th>1</th>\n",
              "      <td>3191</td>\n",
              "      <td>3191</td>\n",
              "      <td>tt0088763</td>\n",
              "      <td>Back to the Future</td>\n",
              "      <td>Back to the Future</td>\n",
              "      <td>1985</td>\n",
              "      <td>116.0</td>\n",
              "      <td>['Adventure', 'Comedy', 'Sci-Fi']</td>\n",
              "      <td>US</td>\n",
              "      <td>8.5</td>\n",
              "      <td>1192861.0</td>\n",
              "      <td>0.15570</td>\n",
              "    </tr>\n",
              "    <tr>\n",
              "      <th>2</th>\n",
              "      <td>2261</td>\n",
              "      <td>2261</td>\n",
              "      <td>tt0086190</td>\n",
              "      <td>Star Wars: Episode VI - Return of the Jedi</td>\n",
              "      <td>Star Wars: Episode VI - Return of the Jedi</td>\n",
              "      <td>1983</td>\n",
              "      <td>131.0</td>\n",
              "      <td>['Action', 'Adventure', 'Fantasy']</td>\n",
              "      <td>US</td>\n",
              "      <td>8.3</td>\n",
              "      <td>1046826.0</td>\n",
              "      <td>0.13342</td>\n",
              "    </tr>\n",
              "    <tr>\n",
              "      <th>3</th>\n",
              "      <td>592</td>\n",
              "      <td>592</td>\n",
              "      <td>tt0081505</td>\n",
              "      <td>The Shining</td>\n",
              "      <td>The Shining</td>\n",
              "      <td>1980</td>\n",
              "      <td>146.0</td>\n",
              "      <td>['Drama', 'Horror']</td>\n",
              "      <td>US</td>\n",
              "      <td>8.4</td>\n",
              "      <td>1012330.0</td>\n",
              "      <td>0.13058</td>\n",
              "    </tr>\n",
              "    <tr>\n",
              "      <th>4</th>\n",
              "      <td>1129</td>\n",
              "      <td>1129</td>\n",
              "      <td>tt0082971</td>\n",
              "      <td>Indiana Jones and the Raiders of the Lost Ark</td>\n",
              "      <td>Raiders of the Lost Ark</td>\n",
              "      <td>1981</td>\n",
              "      <td>115.0</td>\n",
              "      <td>['Action', 'Adventure']</td>\n",
              "      <td>US</td>\n",
              "      <td>8.4</td>\n",
              "      <td>960289.0</td>\n",
              "      <td>0.12387</td>\n",
              "    </tr>\n",
              "  </tbody>\n",
              "</table>\n",
              "</div>\n",
              "      <button class=\"colab-df-convert\" onclick=\"convertToInteractive('df-3de068ef-17c1-466f-a5f8-4b72acb7754a')\"\n",
              "              title=\"Convert this dataframe to an interactive table.\"\n",
              "              style=\"display:none;\">\n",
              "        \n",
              "  <svg xmlns=\"http://www.w3.org/2000/svg\" height=\"24px\"viewBox=\"0 0 24 24\"\n",
              "       width=\"24px\">\n",
              "    <path d=\"M0 0h24v24H0V0z\" fill=\"none\"/>\n",
              "    <path d=\"M18.56 5.44l.94 2.06.94-2.06 2.06-.94-2.06-.94-.94-2.06-.94 2.06-2.06.94zm-11 1L8.5 8.5l.94-2.06 2.06-.94-2.06-.94L8.5 2.5l-.94 2.06-2.06.94zm10 10l.94 2.06.94-2.06 2.06-.94-2.06-.94-.94-2.06-.94 2.06-2.06.94z\"/><path d=\"M17.41 7.96l-1.37-1.37c-.4-.4-.92-.59-1.43-.59-.52 0-1.04.2-1.43.59L10.3 9.45l-7.72 7.72c-.78.78-.78 2.05 0 2.83L4 21.41c.39.39.9.59 1.41.59.51 0 1.02-.2 1.41-.59l7.78-7.78 2.81-2.81c.8-.78.8-2.07 0-2.86zM5.41 20L4 18.59l7.72-7.72 1.47 1.35L5.41 20z\"/>\n",
              "  </svg>\n",
              "      </button>\n",
              "      \n",
              "  <style>\n",
              "    .colab-df-container {\n",
              "      display:flex;\n",
              "      flex-wrap:wrap;\n",
              "      gap: 12px;\n",
              "    }\n",
              "\n",
              "    .colab-df-convert {\n",
              "      background-color: #E8F0FE;\n",
              "      border: none;\n",
              "      border-radius: 50%;\n",
              "      cursor: pointer;\n",
              "      display: none;\n",
              "      fill: #1967D2;\n",
              "      height: 32px;\n",
              "      padding: 0 0 0 0;\n",
              "      width: 32px;\n",
              "    }\n",
              "\n",
              "    .colab-df-convert:hover {\n",
              "      background-color: #E2EBFA;\n",
              "      box-shadow: 0px 1px 2px rgba(60, 64, 67, 0.3), 0px 1px 3px 1px rgba(60, 64, 67, 0.15);\n",
              "      fill: #174EA6;\n",
              "    }\n",
              "\n",
              "    [theme=dark] .colab-df-convert {\n",
              "      background-color: #3B4455;\n",
              "      fill: #D2E3FC;\n",
              "    }\n",
              "\n",
              "    [theme=dark] .colab-df-convert:hover {\n",
              "      background-color: #434B5C;\n",
              "      box-shadow: 0px 1px 3px 1px rgba(0, 0, 0, 0.15);\n",
              "      filter: drop-shadow(0px 1px 2px rgba(0, 0, 0, 0.3));\n",
              "      fill: #FFFFFF;\n",
              "    }\n",
              "  </style>\n",
              "\n",
              "      <script>\n",
              "        const buttonEl =\n",
              "          document.querySelector('#df-3de068ef-17c1-466f-a5f8-4b72acb7754a button.colab-df-convert');\n",
              "        buttonEl.style.display =\n",
              "          google.colab.kernel.accessAllowed ? 'block' : 'none';\n",
              "\n",
              "        async function convertToInteractive(key) {\n",
              "          const element = document.querySelector('#df-3de068ef-17c1-466f-a5f8-4b72acb7754a');\n",
              "          const dataTable =\n",
              "            await google.colab.kernel.invokeFunction('convertToInteractive',\n",
              "                                                     [key], {});\n",
              "          if (!dataTable) return;\n",
              "\n",
              "          const docLinkHtml = 'Like what you see? Visit the ' +\n",
              "            '<a target=\"_blank\" href=https://colab.research.google.com/notebooks/data_table.ipynb>data table notebook</a>'\n",
              "            + ' to learn more about interactive tables.';\n",
              "          element.innerHTML = '';\n",
              "          dataTable['output_type'] = 'display_data';\n",
              "          await google.colab.output.renderOutput(dataTable, element);\n",
              "          const docLink = document.createElement('div');\n",
              "          docLink.innerHTML = docLinkHtml;\n",
              "          element.appendChild(docLink);\n",
              "        }\n",
              "      </script>\n",
              "    </div>\n",
              "  </div>\n",
              "  "
            ]
          },
          "metadata": {},
          "execution_count": 3
        }
      ]
    },
    {
      "cell_type": "code",
      "source": [
        "Fusion_directors = pd.read_csv('/content/drive/MyDrive/2209-Data/Projets/Projet2/MMA/00_CSV_files/2022_10_26_Fusion_Directors_CREW.csv',sep=',')"
      ],
      "metadata": {
        "id": "1ln_S8Mb_plq"
      },
      "execution_count": 4,
      "outputs": []
    },
    {
      "cell_type": "code",
      "source": [
        "Fusion_directors.head()"
      ],
      "metadata": {
        "colab": {
          "base_uri": "https://localhost:8080/",
          "height": 206
        },
        "id": "1Ya6LYRYA8Ed",
        "outputId": "328b5d31-f31b-4112-c242-380cd87538cf"
      },
      "execution_count": 5,
      "outputs": [
        {
          "output_type": "execute_result",
          "data": {
            "text/plain": [
              "   directors       primaryName birthYear deathYear     tconst\n",
              "0  nm0000005    Ingmar Bergman      1918      2007  tt0083922\n",
              "1  nm0000019  Federico Fellini      1920      1993  tt0080539\n",
              "2  nm0000019  Federico Fellini      1920      1993  tt0087188\n",
              "3  nm0000019  Federico Fellini      1920      1993  tt0091113\n",
              "4  nm0000019  Federico Fellini      1920      1993  tt0093267"
            ],
            "text/html": [
              "\n",
              "  <div id=\"df-83df50d0-7621-46e5-9f8a-3b5a67d6fdd0\">\n",
              "    <div class=\"colab-df-container\">\n",
              "      <div>\n",
              "<style scoped>\n",
              "    .dataframe tbody tr th:only-of-type {\n",
              "        vertical-align: middle;\n",
              "    }\n",
              "\n",
              "    .dataframe tbody tr th {\n",
              "        vertical-align: top;\n",
              "    }\n",
              "\n",
              "    .dataframe thead th {\n",
              "        text-align: right;\n",
              "    }\n",
              "</style>\n",
              "<table border=\"1\" class=\"dataframe\">\n",
              "  <thead>\n",
              "    <tr style=\"text-align: right;\">\n",
              "      <th></th>\n",
              "      <th>directors</th>\n",
              "      <th>primaryName</th>\n",
              "      <th>birthYear</th>\n",
              "      <th>deathYear</th>\n",
              "      <th>tconst</th>\n",
              "    </tr>\n",
              "  </thead>\n",
              "  <tbody>\n",
              "    <tr>\n",
              "      <th>0</th>\n",
              "      <td>nm0000005</td>\n",
              "      <td>Ingmar Bergman</td>\n",
              "      <td>1918</td>\n",
              "      <td>2007</td>\n",
              "      <td>tt0083922</td>\n",
              "    </tr>\n",
              "    <tr>\n",
              "      <th>1</th>\n",
              "      <td>nm0000019</td>\n",
              "      <td>Federico Fellini</td>\n",
              "      <td>1920</td>\n",
              "      <td>1993</td>\n",
              "      <td>tt0080539</td>\n",
              "    </tr>\n",
              "    <tr>\n",
              "      <th>2</th>\n",
              "      <td>nm0000019</td>\n",
              "      <td>Federico Fellini</td>\n",
              "      <td>1920</td>\n",
              "      <td>1993</td>\n",
              "      <td>tt0087188</td>\n",
              "    </tr>\n",
              "    <tr>\n",
              "      <th>3</th>\n",
              "      <td>nm0000019</td>\n",
              "      <td>Federico Fellini</td>\n",
              "      <td>1920</td>\n",
              "      <td>1993</td>\n",
              "      <td>tt0091113</td>\n",
              "    </tr>\n",
              "    <tr>\n",
              "      <th>4</th>\n",
              "      <td>nm0000019</td>\n",
              "      <td>Federico Fellini</td>\n",
              "      <td>1920</td>\n",
              "      <td>1993</td>\n",
              "      <td>tt0093267</td>\n",
              "    </tr>\n",
              "  </tbody>\n",
              "</table>\n",
              "</div>\n",
              "      <button class=\"colab-df-convert\" onclick=\"convertToInteractive('df-83df50d0-7621-46e5-9f8a-3b5a67d6fdd0')\"\n",
              "              title=\"Convert this dataframe to an interactive table.\"\n",
              "              style=\"display:none;\">\n",
              "        \n",
              "  <svg xmlns=\"http://www.w3.org/2000/svg\" height=\"24px\"viewBox=\"0 0 24 24\"\n",
              "       width=\"24px\">\n",
              "    <path d=\"M0 0h24v24H0V0z\" fill=\"none\"/>\n",
              "    <path d=\"M18.56 5.44l.94 2.06.94-2.06 2.06-.94-2.06-.94-.94-2.06-.94 2.06-2.06.94zm-11 1L8.5 8.5l.94-2.06 2.06-.94-2.06-.94L8.5 2.5l-.94 2.06-2.06.94zm10 10l.94 2.06.94-2.06 2.06-.94-2.06-.94-.94-2.06-.94 2.06-2.06.94z\"/><path d=\"M17.41 7.96l-1.37-1.37c-.4-.4-.92-.59-1.43-.59-.52 0-1.04.2-1.43.59L10.3 9.45l-7.72 7.72c-.78.78-.78 2.05 0 2.83L4 21.41c.39.39.9.59 1.41.59.51 0 1.02-.2 1.41-.59l7.78-7.78 2.81-2.81c.8-.78.8-2.07 0-2.86zM5.41 20L4 18.59l7.72-7.72 1.47 1.35L5.41 20z\"/>\n",
              "  </svg>\n",
              "      </button>\n",
              "      \n",
              "  <style>\n",
              "    .colab-df-container {\n",
              "      display:flex;\n",
              "      flex-wrap:wrap;\n",
              "      gap: 12px;\n",
              "    }\n",
              "\n",
              "    .colab-df-convert {\n",
              "      background-color: #E8F0FE;\n",
              "      border: none;\n",
              "      border-radius: 50%;\n",
              "      cursor: pointer;\n",
              "      display: none;\n",
              "      fill: #1967D2;\n",
              "      height: 32px;\n",
              "      padding: 0 0 0 0;\n",
              "      width: 32px;\n",
              "    }\n",
              "\n",
              "    .colab-df-convert:hover {\n",
              "      background-color: #E2EBFA;\n",
              "      box-shadow: 0px 1px 2px rgba(60, 64, 67, 0.3), 0px 1px 3px 1px rgba(60, 64, 67, 0.15);\n",
              "      fill: #174EA6;\n",
              "    }\n",
              "\n",
              "    [theme=dark] .colab-df-convert {\n",
              "      background-color: #3B4455;\n",
              "      fill: #D2E3FC;\n",
              "    }\n",
              "\n",
              "    [theme=dark] .colab-df-convert:hover {\n",
              "      background-color: #434B5C;\n",
              "      box-shadow: 0px 1px 3px 1px rgba(0, 0, 0, 0.15);\n",
              "      filter: drop-shadow(0px 1px 2px rgba(0, 0, 0, 0.3));\n",
              "      fill: #FFFFFF;\n",
              "    }\n",
              "  </style>\n",
              "\n",
              "      <script>\n",
              "        const buttonEl =\n",
              "          document.querySelector('#df-83df50d0-7621-46e5-9f8a-3b5a67d6fdd0 button.colab-df-convert');\n",
              "        buttonEl.style.display =\n",
              "          google.colab.kernel.accessAllowed ? 'block' : 'none';\n",
              "\n",
              "        async function convertToInteractive(key) {\n",
              "          const element = document.querySelector('#df-83df50d0-7621-46e5-9f8a-3b5a67d6fdd0');\n",
              "          const dataTable =\n",
              "            await google.colab.kernel.invokeFunction('convertToInteractive',\n",
              "                                                     [key], {});\n",
              "          if (!dataTable) return;\n",
              "\n",
              "          const docLinkHtml = 'Like what you see? Visit the ' +\n",
              "            '<a target=\"_blank\" href=https://colab.research.google.com/notebooks/data_table.ipynb>data table notebook</a>'\n",
              "            + ' to learn more about interactive tables.';\n",
              "          element.innerHTML = '';\n",
              "          dataTable['output_type'] = 'display_data';\n",
              "          await google.colab.output.renderOutput(dataTable, element);\n",
              "          const docLink = document.createElement('div');\n",
              "          docLink.innerHTML = docLinkHtml;\n",
              "          element.appendChild(docLink);\n",
              "        }\n",
              "      </script>\n",
              "    </div>\n",
              "  </div>\n",
              "  "
            ]
          },
          "metadata": {},
          "execution_count": 5
        }
      ]
    },
    {
      "cell_type": "markdown",
      "source": [
        "## Merge Tables"
      ],
      "metadata": {
        "id": "MDbI1RPwAHpZ"
      }
    },
    {
      "cell_type": "code",
      "source": [
        "directors_ourmovies = Fusion_directors.merge(df_ourmovies, how= 'right', on = 'tconst')\n",
        "directors_ourmovies = pd.DataFrame(directors_ourmovies, columns = ['directors','primaryName','birthYear','deathYear','tconst','genres','primaryTitle','startYear','runtimeMinutes','averageRating','Weight'])"
      ],
      "metadata": {
        "id": "7n0o074yAKY_"
      },
      "execution_count": 6,
      "outputs": []
    },
    {
      "cell_type": "code",
      "source": [
        "print(directors_ourmovies.head(10).to_markdown())"
      ],
      "metadata": {
        "colab": {
          "base_uri": "https://localhost:8080/"
        },
        "id": "LiG6mYDwUAXv",
        "outputId": "2aaf3ef7-6459-4744-f7a6-595fc81bfe1f"
      },
      "execution_count": null,
      "outputs": [
        {
          "output_type": "stream",
          "name": "stdout",
          "text": [
            "|    | directors   | primaryName      |   birthYear | deathYear   | tconst    | genres                             | primaryTitle                                   |   startYear |   runtimeMinutes |   averageRating |      Weight |\n",
            "|---:|:------------|:-----------------|------------:|:------------|:----------|:-----------------------------------|:-----------------------------------------------|------------:|-----------------:|----------------:|------------:|\n",
            "|  0 | nm0449984   | Irvin Kershner   |        1923 | 2010        | tt0080684 | ['Action', 'Adventure', 'Fantasy'] | Star Wars: Episode V - The Empire Strikes Back |        1980 |              124 |             8.7 | 1.11543e+07 |\n",
            "|  1 | nm0000709   | Robert Zemeckis  |        1951 | \\N          | tt0088763 | ['Adventure', 'Comedy', 'Sci-Fi']  | Back to the Future                             |        1985 |              116 |             8.5 | 1.01378e+07 |\n",
            "|  2 | nm0549658   | Richard Marquand |        1937 | 1987        | tt0086190 | ['Action', 'Adventure', 'Fantasy'] | Star Wars: Episode VI - Return of the Jedi     |        1983 |              131 |             8.3 | 8.68775e+06 |\n",
            "|  3 | nm0000040   | Stanley Kubrick  |        1928 | 1999        | tt0081505 | ['Drama', 'Horror']                | The Shining                                    |        1980 |              146 |             8.4 | 8.50203e+06 |\n",
            "|  4 | nm0000229   | Steven Spielberg |        1946 | \\N          | tt0082971 | ['Action', 'Adventure']            | Indiana Jones and the Raiders of the Lost Ark  |        1981 |              115 |             8.4 | 8.06573e+06 |\n",
            "|  5 | nm0001532   | John McTiernan   |        1951 | \\N          | tt0095016 | ['Action', 'Thriller']             | Die Hard                                       |        1988 |              132 |             8.2 | 7.14568e+06 |\n",
            "|  6 | nm0000116   | James Cameron    |        1954 | \\N          | tt0088247 | ['Action', 'Sci-Fi']               | The Terminator                                 |        1984 |              107 |             8.1 | 6.96803e+06 |\n",
            "|  7 | nm0000361   | Brian De Palma   |        1940 | \\N          | tt0086250 | ['Crime', 'Drama']                 | Scarface                                       |        1983 |              170 |             8.3 | 6.92316e+06 |\n",
            "|  8 | nm0000631   | Ridley Scott     |        1937 | \\N          | tt0083658 | ['Action', 'Drama', 'Sci-Fi']      | Blade Runner                                   |        1982 |              117 |             8.1 | 6.19741e+06 |\n",
            "|  9 | nm0000229   | Steven Spielberg |        1946 | \\N          | tt0097576 | ['Action', 'Adventure']            | Indiana Jones and the Last Crusade             |        1989 |              127 |             8.2 | 6.15873e+06 |\n"
          ]
        }
      ]
    },
    {
      "cell_type": "code",
      "source": [
        "directors_ourmovies.shape"
      ],
      "metadata": {
        "colab": {
          "base_uri": "https://localhost:8080/"
        },
        "id": "tulFsi_MWeWN",
        "outputId": "ac400b26-8985-473a-fc3d-b0a4a97acd2f"
      },
      "execution_count": 7,
      "outputs": [
        {
          "output_type": "execute_result",
          "data": {
            "text/plain": [
              "(9819, 11)"
            ]
          },
          "metadata": {},
          "execution_count": 7
        }
      ]
    },
    {
      "cell_type": "markdown",
      "source": [
        "## EXPORT CSV"
      ],
      "metadata": {
        "id": "HIW1RYMoalGO"
      }
    },
    {
      "cell_type": "code",
      "source": [
        "directors_ourmovies.to_csv('/content/drive/MyDrive/2209-Data/Projets/Projet2/MMA/00_CSV_files/2022_10_30_DIRECTORS_with_names.csv',sep=',',index=False)"
      ],
      "metadata": {
        "id": "yqqedZyPanT6"
      },
      "execution_count": 8,
      "outputs": []
    }
  ]
}