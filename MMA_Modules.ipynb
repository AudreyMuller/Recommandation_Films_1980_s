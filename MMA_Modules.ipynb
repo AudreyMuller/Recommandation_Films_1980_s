{
  "nbformat": 4,
  "nbformat_minor": 0,
  "metadata": {
    "colab": {
      "provenance": [],
      "authorship_tag": "ABX9TyPezHt0fmko0R55yWcKrP2g",
      "include_colab_link": true
    },
    "kernelspec": {
      "name": "python3",
      "display_name": "Python 3"
    },
    "language_info": {
      "name": "python"
    }
  },
  "cells": [
    {
      "cell_type": "markdown",
      "metadata": {
        "id": "view-in-github",
        "colab_type": "text"
      },
      "source": [
        "<a href=\"https://colab.research.google.com/github/AudreyMuller/Recommandation_Films_1980_s/blob/Rewiew/MMA_Modules.ipynb\" target=\"_parent\"><img src=\"https://colab.research.google.com/assets/colab-badge.svg\" alt=\"Open In Colab\"/></a>"
      ]
    },
    {
      "cell_type": "code",
      "execution_count": 2,
      "metadata": {
        "id": "usuFX17dKe7E"
      },
      "outputs": [],
      "source": [
        "import pandas as pd\n",
        "import numpy as np\n",
        "\n"
      ]
    },
    {
      "cell_type": "code",
      "source": [
        "def read_1980_Movies_Rating():\n",
        "  '''\n",
        "  No input\n",
        "  Read CSV database_1980_Rating.csv from Github\n",
        "  Return a DataFrame with 'genres' in list type\n",
        "  '''\n",
        "  #read the CSV file\n",
        "  df_movies=pd.read_csv('https://raw.githubusercontent.com/AudreyMuller/Recommandation_Films_1980_s/Main/00_CSV/database_1980_Rating.csv', sep=';')\n",
        "  \n",
        "  #dropt the first column created woth 'to_CSV'\n",
        "  df_movies.drop(columns='Unnamed: 0',inplace=True)\n",
        "  #convert 'genres' en list  --> .split(',')\n",
        "  df_movies['genres'] = df_movies['genres'].apply(lambda x: eval(x.strip()))\n",
        "\n",
        "  #set 'tconst' as Index\n",
        "  df_movies.set_index('tconst',inplace=True)\n",
        "  return df_movies\n",
        "\n",
        "\n"
      ],
      "metadata": {
        "id": "hOxkIL1lNfOe"
      },
      "execution_count": 25,
      "outputs": []
    }
  ]
}