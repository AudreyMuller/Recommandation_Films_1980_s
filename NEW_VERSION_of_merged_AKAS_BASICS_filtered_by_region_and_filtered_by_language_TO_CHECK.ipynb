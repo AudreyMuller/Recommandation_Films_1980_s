{
  "cells": [
    {
      "cell_type": "markdown",
      "metadata": {
        "id": "view-in-github",
        "colab_type": "text"
      },
      "source": [
        "<a href=\"https://colab.research.google.com/github/AudreyMuller/Recommandation_Films_1980_s/blob/Maria/NEW_VERSION_of_merged_AKAS_BASICS_filtered_by_region_and_filtered_by_language_TO_CHECK.ipynb\" target=\"_parent\"><img src=\"https://colab.research.google.com/assets/colab-badge.svg\" alt=\"Open In Colab\"/></a>"
      ]
    },
    {
      "cell_type": "code",
      "execution_count": null,
      "metadata": {
        "colab": {
          "base_uri": "https://localhost:8080/"
        },
        "id": "BmcIz5UZUh0b",
        "outputId": "165fdaeb-5548-4bdb-fe76-4d7b3622a460"
      },
      "outputs": [
        {
          "output_type": "stream",
          "name": "stdout",
          "text": [
            "Drive already mounted at /content/drive; to attempt to forcibly remount, call drive.mount(\"/content/drive\", force_remount=True).\n"
          ]
        }
      ],
      "source": [
        "import pandas as pd\n",
        "import numpy as np\n",
        "from google.colab import drive\n",
        "drive.mount('/content/drive')"
      ]
    },
    {
      "cell_type": "markdown",
      "metadata": {
        "id": "XDhCuxTT6L0g"
      },
      "source": [
        "## read CSV"
      ]
    },
    {
      "cell_type": "code",
      "source": [
        "#When saving a pandas.DataFrame to disk, use index=False like this:\n",
        "#df.to_csv(path, index=False)"
      ],
      "metadata": {
        "id": "QwNAFQWDzQUK"
      },
      "execution_count": null,
      "outputs": []
    },
    {
      "cell_type": "code",
      "execution_count": null,
      "metadata": {
        "id": "V20XKH0WbPxo"
      },
      "outputs": [],
      "source": [
        "csv1_akas=pd.read_csv(\"/content/drive/MyDrive/2209-Data/Projets/Projet2/MMA/00_CSV_files/2022_10_25_database_AKAS_region.csv\",sep=';')\n"
      ]
    },
    {
      "cell_type": "code",
      "execution_count": null,
      "metadata": {
        "colab": {
          "base_uri": "https://localhost:8080/"
        },
        "id": "NKFdXFH6UJbG",
        "outputId": "a34d9676-82a6-457c-a02b-6d65de2cf78f"
      },
      "outputs": [
        {
          "output_type": "stream",
          "name": "stdout",
          "text": [
            "|    |   Unnamed: 0 | titleId   | title                                                   | region   |\n",
            "|---:|-------------:|:----------|:--------------------------------------------------------|:---------|\n",
            "|  0 |            5 | tt0000001 | Carmencita                                              | US       |\n",
            "|  1 |           14 | tt0000002 | The Clown and His Dogs                                  | US       |\n",
            "|  2 |           22 | tt0000003 | Poor Pierrot                                            | GB       |\n",
            "|  3 |           26 | tt0000004 | Un bon bock                                             | FR       |\n",
            "|  4 |           33 | tt0000005 | Blacksmith Scene                                        | US       |\n",
            "|  5 |           47 | tt0000006 | Chinese Opium Den                                       | US       |\n",
            "|  6 |           51 | tt0000007 | Corbett and Courtney Before the Kinetograph             | US       |\n",
            "|  7 |           64 | tt0000008 | Edison Kinetoscopic Record of a Sneeze, January 7, 1894 | US       |\n",
            "|  8 |           74 | tt0000009 | Miss Jerry                                              | US       |\n",
            "|  9 |           81 | tt0000010 | Exiting the Factory                                     | US       |\n",
            "| 10 |          113 | tt0000012 | The Arrival of a Train                                  | US       |\n",
            "| 11 |          142 | tt0000013 | The Photographical Congress Arrives in Lyon             | US       |\n",
            "| 12 |          146 | tt0000014 | The Sprayer Sprayed                                     | US       |\n",
            "| 13 |          171 | tt0000015 | Around a Bathing Hut                                    | US       |\n",
            "| 14 |          185 | tt0000016 | Boat Leaving the Port                                   | US       |\n",
            "| 15 |          195 | tt0000018 | Mr. Delaware and the Boxing Kangaroo                    | GB       |\n",
            "| 16 |          196 | tt0000019 | The Clown Barber                                        | GB       |\n",
            "| 17 |          200 | tt0000020 | The Derby 1895                                          | GB       |\n",
            "| 18 |          201 | tt0000022 | The Blacksmiths                                         | US       |\n",
            "| 19 |          221 | tt0000023 | The Sea                                                 | US       |\n"
          ]
        }
      ],
      "source": [
        "print(csv1_akas.head(20).to_markdown())"
      ]
    },
    {
      "cell_type": "code",
      "source": [
        "csv1_akas.value_counts('region')"
      ],
      "metadata": {
        "colab": {
          "base_uri": "https://localhost:8080/"
        },
        "id": "3KO18bkrOFA2",
        "outputId": "966c1ba6-9be4-4f7f-fd2d-ec0ea9f8237d"
      },
      "execution_count": null,
      "outputs": [
        {
          "output_type": "execute_result",
          "data": {
            "text/plain": [
              "region\n",
              "FR    3915639\n",
              "US    1282476\n",
              "GB     238571\n",
              "dtype: int64"
            ]
          },
          "metadata": {},
          "execution_count": 16
        }
      ]
    },
    {
      "cell_type": "code",
      "execution_count": null,
      "metadata": {
        "id": "vBzTgcFSbU4G"
      },
      "outputs": [],
      "source": [
        "csv2_basics =pd.read_csv('//content/drive/MyDrive/2209-Data/Projets/Projet2/MMA/00_CSV_files/2022_10_19_database_BASICS_1980.csv', sep=';')"
      ]
    },
    {
      "cell_type": "code",
      "execution_count": null,
      "metadata": {
        "colab": {
          "base_uri": "https://localhost:8080/"
        },
        "id": "eQMHRtM7UV7y",
        "outputId": "59a2ecba-3ecb-4ab2-b5a5-7a2f54f1a268"
      },
      "outputs": [
        {
          "output_type": "stream",
          "name": "stdout",
          "text": [
            "|    | tconst    | titleType   | primaryTitle                | originalTitle               | isAdult   |   startYear |   endYear |   runtimeMinutes | genres                 |\n",
            "|---:|:----------|:------------|:----------------------------|:----------------------------|:----------|------------:|----------:|-----------------:|:-----------------------|\n",
            "|  0 | tt0036606 | movie       | Another Time, Another Place | Another Time, Another Place | False     |        1983 |       nan |              118 | ['Drama', 'War']       |\n",
            "|  1 | tt0038687 | movie       | Let There Be Light          | Let There Be Light          | False     |        1980 |       nan |               58 | ['Documentary', 'War'] |\n",
            "|  2 | tt0057461 | movie       | La rosa de los vientos      | La rosa de los vientos      | False     |        1983 |       nan |               84 | ['Drama', 'Fantasy']   |\n",
            "|  3 | tt0062181 | movie       | Rece do góry                | Rece do góry                | False     |        1981 |       nan |               76 | ['Drama']              |\n",
            "|  4 | tt0064820 | movie       | The Plot Against Harry      | The Plot Against Harry      | False     |        1989 |       nan |               81 | ['Comedy', 'Crime']    |\n"
          ]
        }
      ],
      "source": [
        "print(csv2_basics.head().to_markdown())"
      ]
    },
    {
      "cell_type": "code",
      "execution_count": null,
      "metadata": {
        "colab": {
          "base_uri": "https://localhost:8080/"
        },
        "id": "iYx-TVxGWAFY",
        "outputId": "35e8558b-cad6-4407-971d-9e679d967140"
      },
      "outputs": [
        {
          "output_type": "stream",
          "name": "stdout",
          "text": [
            "(27595, 9)\n"
          ]
        }
      ],
      "source": [
        "print(csv2_basics.shape) #tested no duplication"
      ]
    },
    {
      "cell_type": "markdown",
      "metadata": {
        "id": "wciXzaKg96Za"
      },
      "source": [
        "## Basics - Drop of end Year"
      ]
    },
    {
      "cell_type": "code",
      "execution_count": null,
      "metadata": {
        "id": "re6Ai5V--DC0"
      },
      "outputs": [],
      "source": [
        "del csv2_basics['endYear']"
      ]
    },
    {
      "cell_type": "code",
      "source": [
        "del csv2_basics['isAdult']"
      ],
      "metadata": {
        "id": "tLbR-ISURQIM"
      },
      "execution_count": null,
      "outputs": []
    },
    {
      "cell_type": "code",
      "source": [
        "del csv2_basics['titleType']"
      ],
      "metadata": {
        "id": "2UuvfniQw7c6"
      },
      "execution_count": null,
      "outputs": []
    },
    {
      "cell_type": "markdown",
      "metadata": {
        "id": "rkfq_BXZ-kP4"
      },
      "source": [
        "## Merge the tables Akas and Basics : Like this we keep the languages of the movies in 1980s"
      ]
    },
    {
      "cell_type": "code",
      "execution_count": null,
      "metadata": {
        "id": "jsYyxDal-a8Q"
      },
      "outputs": [],
      "source": [
        "merge_basics_akas =  pd.merge(csv2_basics,csv1_akas, left_on = 'tconst', right_on = 'titleId',how = 'inner') #by default how = 'inner' you can change it how = 'left'"
      ]
    },
    {
      "cell_type": "code",
      "execution_count": null,
      "metadata": {
        "colab": {
          "base_uri": "https://localhost:8080/"
        },
        "id": "gnSrYmQG-e_c",
        "outputId": "40cdf450-11bb-4cff-a079-9324ab074c4c"
      },
      "outputs": [
        {
          "output_type": "stream",
          "name": "stdout",
          "text": [
            "|    | tconst    | primaryTitle                | originalTitle               |   startYear |   runtimeMinutes | genres                 |   Unnamed: 0 | titleId   | title                       | region   |\n",
            "|---:|:----------|:----------------------------|:----------------------------|------------:|-----------------:|:-----------------------|-------------:|:----------|:----------------------------|:---------|\n",
            "|  0 | tt0036606 | Another Time, Another Place | Another Time, Another Place |        1983 |              118 | ['Drama', 'War']       |       205761 | tt0036606 | Another Time, Another Place | US       |\n",
            "|  1 | tt0038687 | Let There Be Light          | Let There Be Light          |        1980 |               58 | ['Documentary', 'War'] |       223439 | tt0038687 | Let There Be Light          | US       |\n",
            "|  2 | tt0062181 | Rece do góry                | Rece do góry                |        1981 |               76 | ['Drama']              |       460449 | tt0062181 | Haut les mains!             | FR       |\n",
            "|  3 | tt0064820 | The Plot Against Harry      | The Plot Against Harry      |        1989 |               81 | ['Comedy', 'Crime']    |       487287 | tt0064820 | The Plot Against Harry      | US       |\n",
            "|  4 | tt0065530 | Le cercle des passions      | Le cercle des passions      |        1983 |              108 | ['Drama']              |       494185 | tt0065530 | Le cercle des passions      | FR       |\n"
          ]
        }
      ],
      "source": [
        "print(merge_basics_akas.head().to_markdown())"
      ]
    },
    {
      "cell_type": "markdown",
      "metadata": {
        "id": "zrdfIIGy8_ze"
      },
      "source": [
        "## Treatment of merge_basics_akas"
      ]
    },
    {
      "cell_type": "markdown",
      "metadata": {
        "id": "2td6Kh-HAIlh"
      },
      "source": [
        "We decided to keep the movies that their title is in FR, EN or the 'isOriginalTitle' = TRUE"
      ]
    },
    {
      "cell_type": "code",
      "source": [
        "merge_basics_akas.info()\n"
      ],
      "metadata": {
        "colab": {
          "base_uri": "https://localhost:8080/"
        },
        "id": "VMtvpE7BPxok",
        "outputId": "aec63b50-2dcd-449f-e1fe-5b7cdbdf449d"
      },
      "execution_count": null,
      "outputs": [
        {
          "output_type": "stream",
          "name": "stdout",
          "text": [
            "<class 'pandas.core.frame.DataFrame'>\n",
            "Int64Index: 11145 entries, 0 to 11144\n",
            "Data columns (total 10 columns):\n",
            " #   Column          Non-Null Count  Dtype  \n",
            "---  ------          --------------  -----  \n",
            " 0   tconst          11145 non-null  object \n",
            " 1   primaryTitle    11145 non-null  object \n",
            " 2   originalTitle   11145 non-null  object \n",
            " 3   startYear       11145 non-null  int64  \n",
            " 4   runtimeMinutes  10561 non-null  float64\n",
            " 5   genres          11145 non-null  object \n",
            " 6   Unnamed: 0      11145 non-null  int64  \n",
            " 7   titleId         11145 non-null  object \n",
            " 8   title           11145 non-null  object \n",
            " 9   region          11145 non-null  object \n",
            "dtypes: float64(1), int64(2), object(7)\n",
            "memory usage: 957.8+ KB\n"
          ]
        }
      ]
    },
    {
      "cell_type": "code",
      "source": [
        "print(merge_basics_akas.tail(20).to_markdown())\n"
      ],
      "metadata": {
        "colab": {
          "base_uri": "https://localhost:8080/"
        },
        "id": "RYlbn4onQv5_",
        "outputId": "fbf5b361-5f06-49db-addf-60fc032bd160"
      },
      "execution_count": null,
      "outputs": [
        {
          "output_type": "stream",
          "name": "stdout",
          "text": [
            "|       | tconst    | primaryTitle                                           | originalTitle                                          |   startYear |   runtimeMinutes | genres                            |   Unnamed: 0 | titleId   | title                                                  | region   |\n",
            "|------:|:----------|:-------------------------------------------------------|:-------------------------------------------------------|------------:|-----------------:|:----------------------------------|-------------:|:----------|:-------------------------------------------------------|:---------|\n",
            "| 11125 | tt9408114 | Revenge in the Great World                             | Fu chou da shi jie                                     |        1989 |               89 | ['Action', 'Drama']               |     32648102 | tt9408114 | Revenge in the Great World                             | US       |\n",
            "| 11126 | tt9492214 | The Problem of Patty Melt                              | The Problem of Patty Melt                              |        1980 |              nan | ['Mystery']                       |     32809803 | tt9492214 | The Problem of Patty Melt                              | US       |\n",
            "| 11127 | tt9558700 | Recent Sorrows                                         | Recent Sorrows                                         |        1984 |               80 | ['Drama']                         |     32928356 | tt9558700 | Recent Sorrows                                         | US       |\n",
            "| 11128 | tt9569006 | Breaking Point                                         | Breaking Point                                         |        1980 |               51 | ['Documentary', 'Drama']          |     32944216 | tt9569006 | Breaking Point                                         | US       |\n",
            "| 11129 | tt9586280 | Oklahoma Bound                                         | Oklahoma Bound                                         |        1981 |               92 | ['Comedy']                        |     32977741 | tt9586280 | Oklahoma Bound                                         | US       |\n",
            "| 11130 | tt9600712 | Gold Pencil and Alien Boy                              | Hwanggeumnyeonpilgwa gaegujangi oegyesonyeon           |        1983 |               66 | ['Action', 'Animation', 'Family'] |     33007476 | tt9600712 | Gold Pencil and Alien Boy                              | US       |\n",
            "| 11131 | tt9619962 | Hi-Tops                                                | Hi-Tops                                                |        1985 |              103 | ['Comedy', 'Musical']             |     33038902 | tt9619962 | Hi-Tops                                                | US       |\n",
            "| 11132 | tt9646534 | Tricks of the Trade                                    | Tricks of the Trade                                    |        1980 |              nan | ['Comedy']                        |     33094400 | tt9646534 | Tricks of the Trade                                    | US       |\n",
            "| 11133 | tt9657382 | Managing Problem People. Behavioral Skills for Leaders | Managing Problem People. Behavioral Skills for Leaders |        1988 |               93 | ['Comedy']                        |     33116723 | tt9657382 | Managing Problem People. Behavioral Skills for Leaders | GB       |\n",
            "| 11134 | tt9670458 | The Gift of A-Fu                                       | A Fu de li wu                                          |        1984 |               95 | ['Drama']                         |     33143611 | tt9670458 | The Gift of A-Fu                                       | US       |\n",
            "| 11135 | tt9686514 | The Hero in Northeast                                  | Guan dong da xia                                       |        1987 |               99 | ['Drama', 'War']                  |     33175068 | tt9686514 | The Hero in Northeast                                  | US       |\n",
            "| 11136 | tt9689922 | Love Is Love                                           | Ai shi zuo gui ye ai                                   |        1986 |              100 | ['Comedy', 'Fantasy', 'Romance']  |     33183349 | tt9689922 | Love Is Love                                           | US       |\n",
            "| 11137 | tt9799196 | Rough, Tough & Company                                 | Rough, Tough & Company                                 |        1980 |               80 | ['Action', 'Adventure', 'Comedy'] |     33400888 | tt9799196 | Rough, Tough & Company                                 | GB       |\n",
            "| 11138 | tt9801096 | Perverted Fingers: Stop!                               | Ijôna yubi: yamete!                                    |        1980 |               64 | ['Drama']                         |     33403518 | tt9801096 | Perverted Fingers: Stop!                               | US       |\n",
            "| 11139 | tt9823772 | A Small Gold Fish                                      | Xiao jin yu                                            |        1982 |               89 | ['Drama']                         |     33447306 | tt9823772 | A Small Gold Fish                                      | US       |\n",
            "| 11140 | tt9828802 | Vaya luna de miel                                      | Vaya luna de miel                                      |        1980 |               93 | ['Adventure', 'Comedy']           |     33455005 | tt9828802 | What a Honeymoon                                       | US       |\n",
            "| 11141 | tt9843632 | We Didn't Know Love During First Love                  | Chu lian shi, wo men bu dong ai qing                   |        1987 |               98 | ['Drama', 'Romance']              |     33483516 | tt9843632 | We Didn't Know Love During First Love                  | US       |\n",
            "| 11142 | tt9844604 | Séduction                                              | Séduction                                              |        1984 |               70 | ['Drama']                         |     33484517 | tt9844604 | Séduction                                              | FR       |\n",
            "| 11143 | tt9855210 | An Actress' Dream                                      | Yi ge nü yan yuan de meng                              |        1985 |               91 | ['Crime', 'Drama']                |     33504529 | tt9855210 | An Actress' Dream                                      | US       |\n",
            "| 11144 | tt9899972 | Spring Comes Late                                      | Chi dao de chun tian                                   |        1980 |               81 | ['Drama']                         |     33583536 | tt9899972 | Spring Comes Late                                      | US       |\n"
          ]
        }
      ]
    },
    {
      "cell_type": "code",
      "source": [
        "del merge_basics_akas['titleId']"
      ],
      "metadata": {
        "id": "qsonPWpxyTS2"
      },
      "execution_count": null,
      "outputs": []
    },
    {
      "cell_type": "code",
      "source": [
        "del merge_basics_akas['title']"
      ],
      "metadata": {
        "id": "NtA8i8z6yW_i"
      },
      "execution_count": null,
      "outputs": []
    },
    {
      "cell_type": "markdown",
      "source": [
        "## Remove the index column after merging the 2 tables"
      ],
      "metadata": {
        "id": "zKiPmKFs0H1Z"
      }
    },
    {
      "cell_type": "code",
      "source": [
        "merge_basics_akas.drop(merge_basics_akas.filter(regex=\"Unname\"),axis=1, inplace=True) "
      ],
      "metadata": {
        "id": "B1yJeqd-z8dC"
      },
      "execution_count": null,
      "outputs": []
    },
    {
      "cell_type": "code",
      "source": [
        "print(merge_basics_akas.tail(20).to_markdown())\n"
      ],
      "metadata": {
        "colab": {
          "base_uri": "https://localhost:8080/"
        },
        "id": "q3fw976c0DcY",
        "outputId": "2cbd2621-1a05-4390-846e-7c06cd9e9ce7"
      },
      "execution_count": null,
      "outputs": [
        {
          "output_type": "stream",
          "name": "stdout",
          "text": [
            "|       | tconst    | primaryTitle                                           | originalTitle                                          |   startYear |   runtimeMinutes | genres                            | region   |\n",
            "|------:|:----------|:-------------------------------------------------------|:-------------------------------------------------------|------------:|-----------------:|:----------------------------------|:---------|\n",
            "| 11125 | tt9408114 | Revenge in the Great World                             | Fu chou da shi jie                                     |        1989 |               89 | ['Action', 'Drama']               | US       |\n",
            "| 11126 | tt9492214 | The Problem of Patty Melt                              | The Problem of Patty Melt                              |        1980 |              nan | ['Mystery']                       | US       |\n",
            "| 11127 | tt9558700 | Recent Sorrows                                         | Recent Sorrows                                         |        1984 |               80 | ['Drama']                         | US       |\n",
            "| 11128 | tt9569006 | Breaking Point                                         | Breaking Point                                         |        1980 |               51 | ['Documentary', 'Drama']          | US       |\n",
            "| 11129 | tt9586280 | Oklahoma Bound                                         | Oklahoma Bound                                         |        1981 |               92 | ['Comedy']                        | US       |\n",
            "| 11130 | tt9600712 | Gold Pencil and Alien Boy                              | Hwanggeumnyeonpilgwa gaegujangi oegyesonyeon           |        1983 |               66 | ['Action', 'Animation', 'Family'] | US       |\n",
            "| 11131 | tt9619962 | Hi-Tops                                                | Hi-Tops                                                |        1985 |              103 | ['Comedy', 'Musical']             | US       |\n",
            "| 11132 | tt9646534 | Tricks of the Trade                                    | Tricks of the Trade                                    |        1980 |              nan | ['Comedy']                        | US       |\n",
            "| 11133 | tt9657382 | Managing Problem People. Behavioral Skills for Leaders | Managing Problem People. Behavioral Skills for Leaders |        1988 |               93 | ['Comedy']                        | GB       |\n",
            "| 11134 | tt9670458 | The Gift of A-Fu                                       | A Fu de li wu                                          |        1984 |               95 | ['Drama']                         | US       |\n",
            "| 11135 | tt9686514 | The Hero in Northeast                                  | Guan dong da xia                                       |        1987 |               99 | ['Drama', 'War']                  | US       |\n",
            "| 11136 | tt9689922 | Love Is Love                                           | Ai shi zuo gui ye ai                                   |        1986 |              100 | ['Comedy', 'Fantasy', 'Romance']  | US       |\n",
            "| 11137 | tt9799196 | Rough, Tough & Company                                 | Rough, Tough & Company                                 |        1980 |               80 | ['Action', 'Adventure', 'Comedy'] | GB       |\n",
            "| 11138 | tt9801096 | Perverted Fingers: Stop!                               | Ijôna yubi: yamete!                                    |        1980 |               64 | ['Drama']                         | US       |\n",
            "| 11139 | tt9823772 | A Small Gold Fish                                      | Xiao jin yu                                            |        1982 |               89 | ['Drama']                         | US       |\n",
            "| 11140 | tt9828802 | Vaya luna de miel                                      | Vaya luna de miel                                      |        1980 |               93 | ['Adventure', 'Comedy']           | US       |\n",
            "| 11141 | tt9843632 | We Didn't Know Love During First Love                  | Chu lian shi, wo men bu dong ai qing                   |        1987 |               98 | ['Drama', 'Romance']              | US       |\n",
            "| 11142 | tt9844604 | Séduction                                              | Séduction                                              |        1984 |               70 | ['Drama']                         | FR       |\n",
            "| 11143 | tt9855210 | An Actress' Dream                                      | Yi ge nü yan yuan de meng                              |        1985 |               91 | ['Crime', 'Drama']                | US       |\n",
            "| 11144 | tt9899972 | Spring Comes Late                                      | Chi dao de chun tian                                   |        1980 |               81 | ['Drama']                         | US       |\n"
          ]
        }
      ]
    },
    {
      "cell_type": "code",
      "source": [
        "merge_basics_akas.info()"
      ],
      "metadata": {
        "colab": {
          "base_uri": "https://localhost:8080/"
        },
        "id": "xCw0iE8t0WGt",
        "outputId": "32f401f3-1d7e-44ab-e459-e78b13ae27db"
      },
      "execution_count": null,
      "outputs": [
        {
          "output_type": "stream",
          "name": "stdout",
          "text": [
            "<class 'pandas.core.frame.DataFrame'>\n",
            "Int64Index: 11145 entries, 0 to 11144\n",
            "Data columns (total 7 columns):\n",
            " #   Column          Non-Null Count  Dtype  \n",
            "---  ------          --------------  -----  \n",
            " 0   tconst          11145 non-null  object \n",
            " 1   primaryTitle    11145 non-null  object \n",
            " 2   originalTitle   11145 non-null  object \n",
            " 3   startYear       11145 non-null  int64  \n",
            " 4   runtimeMinutes  10561 non-null  float64\n",
            " 5   genres          11145 non-null  object \n",
            " 6   region          11145 non-null  object \n",
            "dtypes: float64(1), int64(1), object(5)\n",
            "memory usage: 696.6+ KB\n"
          ]
        }
      ]
    },
    {
      "cell_type": "code",
      "source": [
        "merge_basics_akas.to_csv('/content/drive/MyDrive/2209-Data/Projets/Projet2/MMA/2022_10_25_database_AKAS_region_BASICS.csv',sep=';')"
      ],
      "metadata": {
        "id": "ISt-s4gz0g0_"
      },
      "execution_count": null,
      "outputs": []
    }
  ],
  "metadata": {
    "colab": {
      "collapsed_sections": [],
      "provenance": [],
      "include_colab_link": true
    },
    "kernelspec": {
      "display_name": "Python 3",
      "name": "python3"
    },
    "language_info": {
      "name": "python"
    }
  },
  "nbformat": 4,
  "nbformat_minor": 0
}