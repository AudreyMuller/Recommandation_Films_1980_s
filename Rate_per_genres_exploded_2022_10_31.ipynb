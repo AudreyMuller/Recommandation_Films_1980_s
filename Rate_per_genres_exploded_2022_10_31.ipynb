{
  "nbformat": 4,
  "nbformat_minor": 0,
  "metadata": {
    "colab": {
      "provenance": [],
      "collapsed_sections": [],
      "include_colab_link": true
    },
    "kernelspec": {
      "name": "python3",
      "display_name": "Python 3"
    },
    "language_info": {
      "name": "python"
    }
  },
  "cells": [
    {
      "cell_type": "markdown",
      "metadata": {
        "id": "view-in-github",
        "colab_type": "text"
      },
      "source": [
        "<a href=\"https://colab.research.google.com/github/AudreyMuller/Recommandation_Films_1980_s/blob/Maria/Rate_per_genres_exploded_2022_10_31.ipynb\" target=\"_parent\"><img src=\"https://colab.research.google.com/assets/colab-badge.svg\" alt=\"Open In Colab\"/></a>"
      ]
    },
    {
      "cell_type": "code",
      "execution_count": 1,
      "metadata": {
        "colab": {
          "base_uri": "https://localhost:8080/"
        },
        "id": "Wgfxaxkwqy25",
        "outputId": "6acc3274-1dce-41e6-810d-abaf8997789e"
      },
      "outputs": [
        {
          "output_type": "stream",
          "name": "stdout",
          "text": [
            "Mounted at /content/drive/\n"
          ]
        }
      ],
      "source": [
        "import pandas as pd\n",
        "\n",
        "from google.colab import drive\n",
        "drive.mount('/content/drive/')"
      ]
    },
    {
      "cell_type": "markdown",
      "source": [
        "#read CSV"
      ],
      "metadata": {
        "id": "9MpwxZx-zFiA"
      }
    },
    {
      "cell_type": "code",
      "source": [
        "df_ourmovies=pd.read_csv(\"/content/drive/MyDrive/2209-Data/Projets/Projet2/MMA/00_CSV_files/2022_10_19_database_BASICS_1980_explode.csv\",sep=';')"
      ],
      "metadata": {
        "id": "8nGMoXITrK6K"
      },
      "execution_count": 2,
      "outputs": []
    },
    {
      "cell_type": "code",
      "source": [
        "df_ourmovies.head()"
      ],
      "metadata": {
        "colab": {
          "base_uri": "https://localhost:8080/",
          "height": 206
        },
        "id": "J3jDmCa37kpj",
        "outputId": "79e52ef4-fe42-4a07-83f0-9ae3c93efa89"
      },
      "execution_count": 3,
      "outputs": [
        {
          "output_type": "execute_result",
          "data": {
            "text/plain": [
              "      tconst titleType                 primaryTitle  \\\n",
              "0  tt0036606     movie  Another Time, Another Place   \n",
              "1  tt0036606     movie  Another Time, Another Place   \n",
              "2  tt0038687     movie           Let There Be Light   \n",
              "3  tt0057461     movie       La rosa de los vientos   \n",
              "4  tt0057461     movie       La rosa de los vientos   \n",
              "\n",
              "                 originalTitle  isAdult  startYear  endYear  runtimeMinutes  \\\n",
              "0  Another Time, Another Place    False       1983      NaN           118.0   \n",
              "1  Another Time, Another Place    False       1983      NaN           118.0   \n",
              "2           Let There Be Light    False       1980      NaN            58.0   \n",
              "3       La rosa de los vientos    False       1983      NaN            84.0   \n",
              "4       La rosa de los vientos    False       1983      NaN            84.0   \n",
              "\n",
              "    genres  \n",
              "0    Drama  \n",
              "1      War  \n",
              "2      War  \n",
              "3    Drama  \n",
              "4  Fantasy  "
            ],
            "text/html": [
              "\n",
              "  <div id=\"df-0b104cca-c0ef-4b71-a234-e3943ef0b134\">\n",
              "    <div class=\"colab-df-container\">\n",
              "      <div>\n",
              "<style scoped>\n",
              "    .dataframe tbody tr th:only-of-type {\n",
              "        vertical-align: middle;\n",
              "    }\n",
              "\n",
              "    .dataframe tbody tr th {\n",
              "        vertical-align: top;\n",
              "    }\n",
              "\n",
              "    .dataframe thead th {\n",
              "        text-align: right;\n",
              "    }\n",
              "</style>\n",
              "<table border=\"1\" class=\"dataframe\">\n",
              "  <thead>\n",
              "    <tr style=\"text-align: right;\">\n",
              "      <th></th>\n",
              "      <th>tconst</th>\n",
              "      <th>titleType</th>\n",
              "      <th>primaryTitle</th>\n",
              "      <th>originalTitle</th>\n",
              "      <th>isAdult</th>\n",
              "      <th>startYear</th>\n",
              "      <th>endYear</th>\n",
              "      <th>runtimeMinutes</th>\n",
              "      <th>genres</th>\n",
              "    </tr>\n",
              "  </thead>\n",
              "  <tbody>\n",
              "    <tr>\n",
              "      <th>0</th>\n",
              "      <td>tt0036606</td>\n",
              "      <td>movie</td>\n",
              "      <td>Another Time, Another Place</td>\n",
              "      <td>Another Time, Another Place</td>\n",
              "      <td>False</td>\n",
              "      <td>1983</td>\n",
              "      <td>NaN</td>\n",
              "      <td>118.0</td>\n",
              "      <td>Drama</td>\n",
              "    </tr>\n",
              "    <tr>\n",
              "      <th>1</th>\n",
              "      <td>tt0036606</td>\n",
              "      <td>movie</td>\n",
              "      <td>Another Time, Another Place</td>\n",
              "      <td>Another Time, Another Place</td>\n",
              "      <td>False</td>\n",
              "      <td>1983</td>\n",
              "      <td>NaN</td>\n",
              "      <td>118.0</td>\n",
              "      <td>War</td>\n",
              "    </tr>\n",
              "    <tr>\n",
              "      <th>2</th>\n",
              "      <td>tt0038687</td>\n",
              "      <td>movie</td>\n",
              "      <td>Let There Be Light</td>\n",
              "      <td>Let There Be Light</td>\n",
              "      <td>False</td>\n",
              "      <td>1980</td>\n",
              "      <td>NaN</td>\n",
              "      <td>58.0</td>\n",
              "      <td>War</td>\n",
              "    </tr>\n",
              "    <tr>\n",
              "      <th>3</th>\n",
              "      <td>tt0057461</td>\n",
              "      <td>movie</td>\n",
              "      <td>La rosa de los vientos</td>\n",
              "      <td>La rosa de los vientos</td>\n",
              "      <td>False</td>\n",
              "      <td>1983</td>\n",
              "      <td>NaN</td>\n",
              "      <td>84.0</td>\n",
              "      <td>Drama</td>\n",
              "    </tr>\n",
              "    <tr>\n",
              "      <th>4</th>\n",
              "      <td>tt0057461</td>\n",
              "      <td>movie</td>\n",
              "      <td>La rosa de los vientos</td>\n",
              "      <td>La rosa de los vientos</td>\n",
              "      <td>False</td>\n",
              "      <td>1983</td>\n",
              "      <td>NaN</td>\n",
              "      <td>84.0</td>\n",
              "      <td>Fantasy</td>\n",
              "    </tr>\n",
              "  </tbody>\n",
              "</table>\n",
              "</div>\n",
              "      <button class=\"colab-df-convert\" onclick=\"convertToInteractive('df-0b104cca-c0ef-4b71-a234-e3943ef0b134')\"\n",
              "              title=\"Convert this dataframe to an interactive table.\"\n",
              "              style=\"display:none;\">\n",
              "        \n",
              "  <svg xmlns=\"http://www.w3.org/2000/svg\" height=\"24px\"viewBox=\"0 0 24 24\"\n",
              "       width=\"24px\">\n",
              "    <path d=\"M0 0h24v24H0V0z\" fill=\"none\"/>\n",
              "    <path d=\"M18.56 5.44l.94 2.06.94-2.06 2.06-.94-2.06-.94-.94-2.06-.94 2.06-2.06.94zm-11 1L8.5 8.5l.94-2.06 2.06-.94-2.06-.94L8.5 2.5l-.94 2.06-2.06.94zm10 10l.94 2.06.94-2.06 2.06-.94-2.06-.94-.94-2.06-.94 2.06-2.06.94z\"/><path d=\"M17.41 7.96l-1.37-1.37c-.4-.4-.92-.59-1.43-.59-.52 0-1.04.2-1.43.59L10.3 9.45l-7.72 7.72c-.78.78-.78 2.05 0 2.83L4 21.41c.39.39.9.59 1.41.59.51 0 1.02-.2 1.41-.59l7.78-7.78 2.81-2.81c.8-.78.8-2.07 0-2.86zM5.41 20L4 18.59l7.72-7.72 1.47 1.35L5.41 20z\"/>\n",
              "  </svg>\n",
              "      </button>\n",
              "      \n",
              "  <style>\n",
              "    .colab-df-container {\n",
              "      display:flex;\n",
              "      flex-wrap:wrap;\n",
              "      gap: 12px;\n",
              "    }\n",
              "\n",
              "    .colab-df-convert {\n",
              "      background-color: #E8F0FE;\n",
              "      border: none;\n",
              "      border-radius: 50%;\n",
              "      cursor: pointer;\n",
              "      display: none;\n",
              "      fill: #1967D2;\n",
              "      height: 32px;\n",
              "      padding: 0 0 0 0;\n",
              "      width: 32px;\n",
              "    }\n",
              "\n",
              "    .colab-df-convert:hover {\n",
              "      background-color: #E2EBFA;\n",
              "      box-shadow: 0px 1px 2px rgba(60, 64, 67, 0.3), 0px 1px 3px 1px rgba(60, 64, 67, 0.15);\n",
              "      fill: #174EA6;\n",
              "    }\n",
              "\n",
              "    [theme=dark] .colab-df-convert {\n",
              "      background-color: #3B4455;\n",
              "      fill: #D2E3FC;\n",
              "    }\n",
              "\n",
              "    [theme=dark] .colab-df-convert:hover {\n",
              "      background-color: #434B5C;\n",
              "      box-shadow: 0px 1px 3px 1px rgba(0, 0, 0, 0.15);\n",
              "      filter: drop-shadow(0px 1px 2px rgba(0, 0, 0, 0.3));\n",
              "      fill: #FFFFFF;\n",
              "    }\n",
              "  </style>\n",
              "\n",
              "      <script>\n",
              "        const buttonEl =\n",
              "          document.querySelector('#df-0b104cca-c0ef-4b71-a234-e3943ef0b134 button.colab-df-convert');\n",
              "        buttonEl.style.display =\n",
              "          google.colab.kernel.accessAllowed ? 'block' : 'none';\n",
              "\n",
              "        async function convertToInteractive(key) {\n",
              "          const element = document.querySelector('#df-0b104cca-c0ef-4b71-a234-e3943ef0b134');\n",
              "          const dataTable =\n",
              "            await google.colab.kernel.invokeFunction('convertToInteractive',\n",
              "                                                     [key], {});\n",
              "          if (!dataTable) return;\n",
              "\n",
              "          const docLinkHtml = 'Like what you see? Visit the ' +\n",
              "            '<a target=\"_blank\" href=https://colab.research.google.com/notebooks/data_table.ipynb>data table notebook</a>'\n",
              "            + ' to learn more about interactive tables.';\n",
              "          element.innerHTML = '';\n",
              "          dataTable['output_type'] = 'display_data';\n",
              "          await google.colab.output.renderOutput(dataTable, element);\n",
              "          const docLink = document.createElement('div');\n",
              "          docLink.innerHTML = docLinkHtml;\n",
              "          element.appendChild(docLink);\n",
              "        }\n",
              "      </script>\n",
              "    </div>\n",
              "  </div>\n",
              "  "
            ]
          },
          "metadata": {},
          "execution_count": 3
        }
      ]
    },
    {
      "cell_type": "code",
      "source": [
        "df_rating=pd.read_csv(\"/content/drive/MyDrive/2209-Data/Projets/Projet2/MMA/00_CSV_files/2022_10_26_RATINGS.csv\",sep=';')"
      ],
      "metadata": {
        "id": "nPAiqxDI8TJD"
      },
      "execution_count": 4,
      "outputs": []
    },
    {
      "cell_type": "code",
      "source": [
        "df_rating.drop(df_rating.filter(regex=\"Unname\"),axis=1, inplace=True)"
      ],
      "metadata": {
        "id": "n6Esah3pUVs9"
      },
      "execution_count": 5,
      "outputs": []
    },
    {
      "cell_type": "code",
      "source": [
        "df_rating.head()"
      ],
      "metadata": {
        "colab": {
          "base_uri": "https://localhost:8080/",
          "height": 206
        },
        "id": "OQjfbeaM8qtL",
        "outputId": "e3c2ddad-29ed-4463-a030-09f0469237ec"
      },
      "execution_count": 6,
      "outputs": [
        {
          "output_type": "execute_result",
          "data": {
            "text/plain": [
              "      tconst  averageRating  numVotes\n",
              "0  tt0000001            5.7      1920\n",
              "1  tt0000002            5.8       260\n",
              "2  tt0000003            6.5      1728\n",
              "3  tt0000004            5.6       173\n",
              "4  tt0000005            6.2      2541"
            ],
            "text/html": [
              "\n",
              "  <div id=\"df-291d7377-8f33-45cd-b26c-e81686284291\">\n",
              "    <div class=\"colab-df-container\">\n",
              "      <div>\n",
              "<style scoped>\n",
              "    .dataframe tbody tr th:only-of-type {\n",
              "        vertical-align: middle;\n",
              "    }\n",
              "\n",
              "    .dataframe tbody tr th {\n",
              "        vertical-align: top;\n",
              "    }\n",
              "\n",
              "    .dataframe thead th {\n",
              "        text-align: right;\n",
              "    }\n",
              "</style>\n",
              "<table border=\"1\" class=\"dataframe\">\n",
              "  <thead>\n",
              "    <tr style=\"text-align: right;\">\n",
              "      <th></th>\n",
              "      <th>tconst</th>\n",
              "      <th>averageRating</th>\n",
              "      <th>numVotes</th>\n",
              "    </tr>\n",
              "  </thead>\n",
              "  <tbody>\n",
              "    <tr>\n",
              "      <th>0</th>\n",
              "      <td>tt0000001</td>\n",
              "      <td>5.7</td>\n",
              "      <td>1920</td>\n",
              "    </tr>\n",
              "    <tr>\n",
              "      <th>1</th>\n",
              "      <td>tt0000002</td>\n",
              "      <td>5.8</td>\n",
              "      <td>260</td>\n",
              "    </tr>\n",
              "    <tr>\n",
              "      <th>2</th>\n",
              "      <td>tt0000003</td>\n",
              "      <td>6.5</td>\n",
              "      <td>1728</td>\n",
              "    </tr>\n",
              "    <tr>\n",
              "      <th>3</th>\n",
              "      <td>tt0000004</td>\n",
              "      <td>5.6</td>\n",
              "      <td>173</td>\n",
              "    </tr>\n",
              "    <tr>\n",
              "      <th>4</th>\n",
              "      <td>tt0000005</td>\n",
              "      <td>6.2</td>\n",
              "      <td>2541</td>\n",
              "    </tr>\n",
              "  </tbody>\n",
              "</table>\n",
              "</div>\n",
              "      <button class=\"colab-df-convert\" onclick=\"convertToInteractive('df-291d7377-8f33-45cd-b26c-e81686284291')\"\n",
              "              title=\"Convert this dataframe to an interactive table.\"\n",
              "              style=\"display:none;\">\n",
              "        \n",
              "  <svg xmlns=\"http://www.w3.org/2000/svg\" height=\"24px\"viewBox=\"0 0 24 24\"\n",
              "       width=\"24px\">\n",
              "    <path d=\"M0 0h24v24H0V0z\" fill=\"none\"/>\n",
              "    <path d=\"M18.56 5.44l.94 2.06.94-2.06 2.06-.94-2.06-.94-.94-2.06-.94 2.06-2.06.94zm-11 1L8.5 8.5l.94-2.06 2.06-.94-2.06-.94L8.5 2.5l-.94 2.06-2.06.94zm10 10l.94 2.06.94-2.06 2.06-.94-2.06-.94-.94-2.06-.94 2.06-2.06.94z\"/><path d=\"M17.41 7.96l-1.37-1.37c-.4-.4-.92-.59-1.43-.59-.52 0-1.04.2-1.43.59L10.3 9.45l-7.72 7.72c-.78.78-.78 2.05 0 2.83L4 21.41c.39.39.9.59 1.41.59.51 0 1.02-.2 1.41-.59l7.78-7.78 2.81-2.81c.8-.78.8-2.07 0-2.86zM5.41 20L4 18.59l7.72-7.72 1.47 1.35L5.41 20z\"/>\n",
              "  </svg>\n",
              "      </button>\n",
              "      \n",
              "  <style>\n",
              "    .colab-df-container {\n",
              "      display:flex;\n",
              "      flex-wrap:wrap;\n",
              "      gap: 12px;\n",
              "    }\n",
              "\n",
              "    .colab-df-convert {\n",
              "      background-color: #E8F0FE;\n",
              "      border: none;\n",
              "      border-radius: 50%;\n",
              "      cursor: pointer;\n",
              "      display: none;\n",
              "      fill: #1967D2;\n",
              "      height: 32px;\n",
              "      padding: 0 0 0 0;\n",
              "      width: 32px;\n",
              "    }\n",
              "\n",
              "    .colab-df-convert:hover {\n",
              "      background-color: #E2EBFA;\n",
              "      box-shadow: 0px 1px 2px rgba(60, 64, 67, 0.3), 0px 1px 3px 1px rgba(60, 64, 67, 0.15);\n",
              "      fill: #174EA6;\n",
              "    }\n",
              "\n",
              "    [theme=dark] .colab-df-convert {\n",
              "      background-color: #3B4455;\n",
              "      fill: #D2E3FC;\n",
              "    }\n",
              "\n",
              "    [theme=dark] .colab-df-convert:hover {\n",
              "      background-color: #434B5C;\n",
              "      box-shadow: 0px 1px 3px 1px rgba(0, 0, 0, 0.15);\n",
              "      filter: drop-shadow(0px 1px 2px rgba(0, 0, 0, 0.3));\n",
              "      fill: #FFFFFF;\n",
              "    }\n",
              "  </style>\n",
              "\n",
              "      <script>\n",
              "        const buttonEl =\n",
              "          document.querySelector('#df-291d7377-8f33-45cd-b26c-e81686284291 button.colab-df-convert');\n",
              "        buttonEl.style.display =\n",
              "          google.colab.kernel.accessAllowed ? 'block' : 'none';\n",
              "\n",
              "        async function convertToInteractive(key) {\n",
              "          const element = document.querySelector('#df-291d7377-8f33-45cd-b26c-e81686284291');\n",
              "          const dataTable =\n",
              "            await google.colab.kernel.invokeFunction('convertToInteractive',\n",
              "                                                     [key], {});\n",
              "          if (!dataTable) return;\n",
              "\n",
              "          const docLinkHtml = 'Like what you see? Visit the ' +\n",
              "            '<a target=\"_blank\" href=https://colab.research.google.com/notebooks/data_table.ipynb>data table notebook</a>'\n",
              "            + ' to learn more about interactive tables.';\n",
              "          element.innerHTML = '';\n",
              "          dataTable['output_type'] = 'display_data';\n",
              "          await google.colab.output.renderOutput(dataTable, element);\n",
              "          const docLink = document.createElement('div');\n",
              "          docLink.innerHTML = docLinkHtml;\n",
              "          element.appendChild(docLink);\n",
              "        }\n",
              "      </script>\n",
              "    </div>\n",
              "  </div>\n",
              "  "
            ]
          },
          "metadata": {},
          "execution_count": 6
        }
      ]
    },
    {
      "cell_type": "markdown",
      "source": [
        "## Merge movie database with ratings"
      ],
      "metadata": {
        "id": "Z_4dVBUx98rn"
      }
    },
    {
      "cell_type": "code",
      "source": [
        "df_ourmovies_rating=df_ourmovies.merge(df_rating, on='tconst',how='left')"
      ],
      "metadata": {
        "id": "kibXDU15yPDN"
      },
      "execution_count": 7,
      "outputs": []
    },
    {
      "cell_type": "code",
      "source": [
        "df_ourmovies_rating.head()"
      ],
      "metadata": {
        "colab": {
          "base_uri": "https://localhost:8080/",
          "height": 206
        },
        "id": "72fjKWqN9OHt",
        "outputId": "a5f15938-762e-4e1e-9b77-44c74a5afa4a"
      },
      "execution_count": 8,
      "outputs": [
        {
          "output_type": "execute_result",
          "data": {
            "text/plain": [
              "      tconst titleType                 primaryTitle  \\\n",
              "0  tt0036606     movie  Another Time, Another Place   \n",
              "1  tt0036606     movie  Another Time, Another Place   \n",
              "2  tt0038687     movie           Let There Be Light   \n",
              "3  tt0057461     movie       La rosa de los vientos   \n",
              "4  tt0057461     movie       La rosa de los vientos   \n",
              "\n",
              "                 originalTitle  isAdult  startYear  endYear  runtimeMinutes  \\\n",
              "0  Another Time, Another Place    False       1983      NaN           118.0   \n",
              "1  Another Time, Another Place    False       1983      NaN           118.0   \n",
              "2           Let There Be Light    False       1980      NaN            58.0   \n",
              "3       La rosa de los vientos    False       1983      NaN            84.0   \n",
              "4       La rosa de los vientos    False       1983      NaN            84.0   \n",
              "\n",
              "    genres  averageRating  numVotes  \n",
              "0    Drama            6.5     326.0  \n",
              "1      War            6.5     326.0  \n",
              "2      War            7.5    1893.0  \n",
              "3    Drama            4.6      22.0  \n",
              "4  Fantasy            4.6      22.0  "
            ],
            "text/html": [
              "\n",
              "  <div id=\"df-20f1d0c6-aa82-40e0-99da-5c421ded0ab5\">\n",
              "    <div class=\"colab-df-container\">\n",
              "      <div>\n",
              "<style scoped>\n",
              "    .dataframe tbody tr th:only-of-type {\n",
              "        vertical-align: middle;\n",
              "    }\n",
              "\n",
              "    .dataframe tbody tr th {\n",
              "        vertical-align: top;\n",
              "    }\n",
              "\n",
              "    .dataframe thead th {\n",
              "        text-align: right;\n",
              "    }\n",
              "</style>\n",
              "<table border=\"1\" class=\"dataframe\">\n",
              "  <thead>\n",
              "    <tr style=\"text-align: right;\">\n",
              "      <th></th>\n",
              "      <th>tconst</th>\n",
              "      <th>titleType</th>\n",
              "      <th>primaryTitle</th>\n",
              "      <th>originalTitle</th>\n",
              "      <th>isAdult</th>\n",
              "      <th>startYear</th>\n",
              "      <th>endYear</th>\n",
              "      <th>runtimeMinutes</th>\n",
              "      <th>genres</th>\n",
              "      <th>averageRating</th>\n",
              "      <th>numVotes</th>\n",
              "    </tr>\n",
              "  </thead>\n",
              "  <tbody>\n",
              "    <tr>\n",
              "      <th>0</th>\n",
              "      <td>tt0036606</td>\n",
              "      <td>movie</td>\n",
              "      <td>Another Time, Another Place</td>\n",
              "      <td>Another Time, Another Place</td>\n",
              "      <td>False</td>\n",
              "      <td>1983</td>\n",
              "      <td>NaN</td>\n",
              "      <td>118.0</td>\n",
              "      <td>Drama</td>\n",
              "      <td>6.5</td>\n",
              "      <td>326.0</td>\n",
              "    </tr>\n",
              "    <tr>\n",
              "      <th>1</th>\n",
              "      <td>tt0036606</td>\n",
              "      <td>movie</td>\n",
              "      <td>Another Time, Another Place</td>\n",
              "      <td>Another Time, Another Place</td>\n",
              "      <td>False</td>\n",
              "      <td>1983</td>\n",
              "      <td>NaN</td>\n",
              "      <td>118.0</td>\n",
              "      <td>War</td>\n",
              "      <td>6.5</td>\n",
              "      <td>326.0</td>\n",
              "    </tr>\n",
              "    <tr>\n",
              "      <th>2</th>\n",
              "      <td>tt0038687</td>\n",
              "      <td>movie</td>\n",
              "      <td>Let There Be Light</td>\n",
              "      <td>Let There Be Light</td>\n",
              "      <td>False</td>\n",
              "      <td>1980</td>\n",
              "      <td>NaN</td>\n",
              "      <td>58.0</td>\n",
              "      <td>War</td>\n",
              "      <td>7.5</td>\n",
              "      <td>1893.0</td>\n",
              "    </tr>\n",
              "    <tr>\n",
              "      <th>3</th>\n",
              "      <td>tt0057461</td>\n",
              "      <td>movie</td>\n",
              "      <td>La rosa de los vientos</td>\n",
              "      <td>La rosa de los vientos</td>\n",
              "      <td>False</td>\n",
              "      <td>1983</td>\n",
              "      <td>NaN</td>\n",
              "      <td>84.0</td>\n",
              "      <td>Drama</td>\n",
              "      <td>4.6</td>\n",
              "      <td>22.0</td>\n",
              "    </tr>\n",
              "    <tr>\n",
              "      <th>4</th>\n",
              "      <td>tt0057461</td>\n",
              "      <td>movie</td>\n",
              "      <td>La rosa de los vientos</td>\n",
              "      <td>La rosa de los vientos</td>\n",
              "      <td>False</td>\n",
              "      <td>1983</td>\n",
              "      <td>NaN</td>\n",
              "      <td>84.0</td>\n",
              "      <td>Fantasy</td>\n",
              "      <td>4.6</td>\n",
              "      <td>22.0</td>\n",
              "    </tr>\n",
              "  </tbody>\n",
              "</table>\n",
              "</div>\n",
              "      <button class=\"colab-df-convert\" onclick=\"convertToInteractive('df-20f1d0c6-aa82-40e0-99da-5c421ded0ab5')\"\n",
              "              title=\"Convert this dataframe to an interactive table.\"\n",
              "              style=\"display:none;\">\n",
              "        \n",
              "  <svg xmlns=\"http://www.w3.org/2000/svg\" height=\"24px\"viewBox=\"0 0 24 24\"\n",
              "       width=\"24px\">\n",
              "    <path d=\"M0 0h24v24H0V0z\" fill=\"none\"/>\n",
              "    <path d=\"M18.56 5.44l.94 2.06.94-2.06 2.06-.94-2.06-.94-.94-2.06-.94 2.06-2.06.94zm-11 1L8.5 8.5l.94-2.06 2.06-.94-2.06-.94L8.5 2.5l-.94 2.06-2.06.94zm10 10l.94 2.06.94-2.06 2.06-.94-2.06-.94-.94-2.06-.94 2.06-2.06.94z\"/><path d=\"M17.41 7.96l-1.37-1.37c-.4-.4-.92-.59-1.43-.59-.52 0-1.04.2-1.43.59L10.3 9.45l-7.72 7.72c-.78.78-.78 2.05 0 2.83L4 21.41c.39.39.9.59 1.41.59.51 0 1.02-.2 1.41-.59l7.78-7.78 2.81-2.81c.8-.78.8-2.07 0-2.86zM5.41 20L4 18.59l7.72-7.72 1.47 1.35L5.41 20z\"/>\n",
              "  </svg>\n",
              "      </button>\n",
              "      \n",
              "  <style>\n",
              "    .colab-df-container {\n",
              "      display:flex;\n",
              "      flex-wrap:wrap;\n",
              "      gap: 12px;\n",
              "    }\n",
              "\n",
              "    .colab-df-convert {\n",
              "      background-color: #E8F0FE;\n",
              "      border: none;\n",
              "      border-radius: 50%;\n",
              "      cursor: pointer;\n",
              "      display: none;\n",
              "      fill: #1967D2;\n",
              "      height: 32px;\n",
              "      padding: 0 0 0 0;\n",
              "      width: 32px;\n",
              "    }\n",
              "\n",
              "    .colab-df-convert:hover {\n",
              "      background-color: #E2EBFA;\n",
              "      box-shadow: 0px 1px 2px rgba(60, 64, 67, 0.3), 0px 1px 3px 1px rgba(60, 64, 67, 0.15);\n",
              "      fill: #174EA6;\n",
              "    }\n",
              "\n",
              "    [theme=dark] .colab-df-convert {\n",
              "      background-color: #3B4455;\n",
              "      fill: #D2E3FC;\n",
              "    }\n",
              "\n",
              "    [theme=dark] .colab-df-convert:hover {\n",
              "      background-color: #434B5C;\n",
              "      box-shadow: 0px 1px 3px 1px rgba(0, 0, 0, 0.15);\n",
              "      filter: drop-shadow(0px 1px 2px rgba(0, 0, 0, 0.3));\n",
              "      fill: #FFFFFF;\n",
              "    }\n",
              "  </style>\n",
              "\n",
              "      <script>\n",
              "        const buttonEl =\n",
              "          document.querySelector('#df-20f1d0c6-aa82-40e0-99da-5c421ded0ab5 button.colab-df-convert');\n",
              "        buttonEl.style.display =\n",
              "          google.colab.kernel.accessAllowed ? 'block' : 'none';\n",
              "\n",
              "        async function convertToInteractive(key) {\n",
              "          const element = document.querySelector('#df-20f1d0c6-aa82-40e0-99da-5c421ded0ab5');\n",
              "          const dataTable =\n",
              "            await google.colab.kernel.invokeFunction('convertToInteractive',\n",
              "                                                     [key], {});\n",
              "          if (!dataTable) return;\n",
              "\n",
              "          const docLinkHtml = 'Like what you see? Visit the ' +\n",
              "            '<a target=\"_blank\" href=https://colab.research.google.com/notebooks/data_table.ipynb>data table notebook</a>'\n",
              "            + ' to learn more about interactive tables.';\n",
              "          element.innerHTML = '';\n",
              "          dataTable['output_type'] = 'display_data';\n",
              "          await google.colab.output.renderOutput(dataTable, element);\n",
              "          const docLink = document.createElement('div');\n",
              "          docLink.innerHTML = docLinkHtml;\n",
              "          element.appendChild(docLink);\n",
              "        }\n",
              "      </script>\n",
              "    </div>\n",
              "  </div>\n",
              "  "
            ]
          },
          "metadata": {},
          "execution_count": 8
        }
      ]
    },
    {
      "cell_type": "code",
      "source": [
        "df_ourmovies_rating[\"weight_average\"]=(df_ourmovies_rating['averageRating']*df_ourmovies_rating['numVotes'])/(df_ourmovies_rating['numVotes'].sum())"
      ],
      "metadata": {
        "id": "XW7ieWAPBZNn"
      },
      "execution_count": 9,
      "outputs": []
    },
    {
      "cell_type": "code",
      "source": [
        "df_ourmovies_rating[\"weight_average\"]=df_ourmovies_rating[\"weight_average\"].round(5)"
      ],
      "metadata": {
        "id": "7plW0hFuBhnW"
      },
      "execution_count": 10,
      "outputs": []
    },
    {
      "cell_type": "code",
      "source": [
        "df_ourmovies_rating.sort_values(\"weight_average\",ascending=False,inplace=True)"
      ],
      "metadata": {
        "id": "c5dXS02UBmfq"
      },
      "execution_count": 11,
      "outputs": []
    },
    {
      "cell_type": "code",
      "source": [
        "df_ourmovies_rating"
      ],
      "metadata": {
        "colab": {
          "base_uri": "https://localhost:8080/",
          "height": 424
        },
        "id": "D6Fr6ZLbBtDe",
        "outputId": "9a69fcb1-6ff0-4ca4-a7dc-339e87c4a75a"
      },
      "execution_count": 12,
      "outputs": [
        {
          "output_type": "execute_result",
          "data": {
            "text/plain": [
              "          tconst titleType                                    primaryTitle  \\\n",
              "793    tt0080684     movie  Star Wars: Episode V - The Empire Strikes Back   \n",
              "792    tt0080684     movie  Star Wars: Episode V - The Empire Strikes Back   \n",
              "791    tt0080684     movie  Star Wars: Episode V - The Empire Strikes Back   \n",
              "8248   tt0088763     movie                              Back to the Future   \n",
              "8249   tt0088763     movie                              Back to the Future   \n",
              "...          ...       ...                                             ...   \n",
              "43492  tt9866884     movie                            Samsaram O Sangeetam   \n",
              "43493  tt9898368     movie                       Langit Tidak Selalu Cerah   \n",
              "43494  tt9899972     movie                               Spring Comes Late   \n",
              "43495  tt9900354     movie                     Anak Sulung Tujuh Keturunan   \n",
              "43496  tt9911750     movie                                   Chambu Gabale   \n",
              "\n",
              "                     originalTitle  isAdult  startYear  endYear  \\\n",
              "793        The Empire Strikes Back    False       1980      NaN   \n",
              "792        The Empire Strikes Back    False       1980      NaN   \n",
              "791        The Empire Strikes Back    False       1980      NaN   \n",
              "8248            Back to the Future    False       1985      NaN   \n",
              "8249            Back to the Future    False       1985      NaN   \n",
              "...                            ...      ...        ...      ...   \n",
              "43492         Samsaram O Sangeetam    False       1985      NaN   \n",
              "43493    Langit Tidak Selalu Cerah    False       1981      NaN   \n",
              "43494         Chi dao de chun tian    False       1980      NaN   \n",
              "43495  Anak Sulung Tujuh Keturunan    False       1982      NaN   \n",
              "43496                Chambu Gabale    False       1989      NaN   \n",
              "\n",
              "       runtimeMinutes     genres  averageRating   numVotes  weight_average  \n",
              "793             124.0    Fantasy            8.7  1281945.0         0.07245  \n",
              "792             124.0  Adventure            8.7  1281945.0         0.07245  \n",
              "791             124.0     Action            8.7  1281945.0         0.07245  \n",
              "8248            116.0     Comedy            8.5  1192491.0         0.06585  \n",
              "8249            116.0     Sci-Fi            8.5  1192491.0         0.06585  \n",
              "...               ...        ...            ...        ...             ...  \n",
              "43492             NaN      Drama            NaN        NaN             NaN  \n",
              "43493             NaN      Drama            NaN        NaN             NaN  \n",
              "43494            81.0      Drama            NaN        NaN             NaN  \n",
              "43495             NaN     Action            NaN        NaN             NaN  \n",
              "43496           131.0     Comedy            NaN        NaN             NaN  \n",
              "\n",
              "[43497 rows x 12 columns]"
            ],
            "text/html": [
              "\n",
              "  <div id=\"df-1628c51c-f89c-48d0-b91f-ac595f2463fe\">\n",
              "    <div class=\"colab-df-container\">\n",
              "      <div>\n",
              "<style scoped>\n",
              "    .dataframe tbody tr th:only-of-type {\n",
              "        vertical-align: middle;\n",
              "    }\n",
              "\n",
              "    .dataframe tbody tr th {\n",
              "        vertical-align: top;\n",
              "    }\n",
              "\n",
              "    .dataframe thead th {\n",
              "        text-align: right;\n",
              "    }\n",
              "</style>\n",
              "<table border=\"1\" class=\"dataframe\">\n",
              "  <thead>\n",
              "    <tr style=\"text-align: right;\">\n",
              "      <th></th>\n",
              "      <th>tconst</th>\n",
              "      <th>titleType</th>\n",
              "      <th>primaryTitle</th>\n",
              "      <th>originalTitle</th>\n",
              "      <th>isAdult</th>\n",
              "      <th>startYear</th>\n",
              "      <th>endYear</th>\n",
              "      <th>runtimeMinutes</th>\n",
              "      <th>genres</th>\n",
              "      <th>averageRating</th>\n",
              "      <th>numVotes</th>\n",
              "      <th>weight_average</th>\n",
              "    </tr>\n",
              "  </thead>\n",
              "  <tbody>\n",
              "    <tr>\n",
              "      <th>793</th>\n",
              "      <td>tt0080684</td>\n",
              "      <td>movie</td>\n",
              "      <td>Star Wars: Episode V - The Empire Strikes Back</td>\n",
              "      <td>The Empire Strikes Back</td>\n",
              "      <td>False</td>\n",
              "      <td>1980</td>\n",
              "      <td>NaN</td>\n",
              "      <td>124.0</td>\n",
              "      <td>Fantasy</td>\n",
              "      <td>8.7</td>\n",
              "      <td>1281945.0</td>\n",
              "      <td>0.07245</td>\n",
              "    </tr>\n",
              "    <tr>\n",
              "      <th>792</th>\n",
              "      <td>tt0080684</td>\n",
              "      <td>movie</td>\n",
              "      <td>Star Wars: Episode V - The Empire Strikes Back</td>\n",
              "      <td>The Empire Strikes Back</td>\n",
              "      <td>False</td>\n",
              "      <td>1980</td>\n",
              "      <td>NaN</td>\n",
              "      <td>124.0</td>\n",
              "      <td>Adventure</td>\n",
              "      <td>8.7</td>\n",
              "      <td>1281945.0</td>\n",
              "      <td>0.07245</td>\n",
              "    </tr>\n",
              "    <tr>\n",
              "      <th>791</th>\n",
              "      <td>tt0080684</td>\n",
              "      <td>movie</td>\n",
              "      <td>Star Wars: Episode V - The Empire Strikes Back</td>\n",
              "      <td>The Empire Strikes Back</td>\n",
              "      <td>False</td>\n",
              "      <td>1980</td>\n",
              "      <td>NaN</td>\n",
              "      <td>124.0</td>\n",
              "      <td>Action</td>\n",
              "      <td>8.7</td>\n",
              "      <td>1281945.0</td>\n",
              "      <td>0.07245</td>\n",
              "    </tr>\n",
              "    <tr>\n",
              "      <th>8248</th>\n",
              "      <td>tt0088763</td>\n",
              "      <td>movie</td>\n",
              "      <td>Back to the Future</td>\n",
              "      <td>Back to the Future</td>\n",
              "      <td>False</td>\n",
              "      <td>1985</td>\n",
              "      <td>NaN</td>\n",
              "      <td>116.0</td>\n",
              "      <td>Comedy</td>\n",
              "      <td>8.5</td>\n",
              "      <td>1192491.0</td>\n",
              "      <td>0.06585</td>\n",
              "    </tr>\n",
              "    <tr>\n",
              "      <th>8249</th>\n",
              "      <td>tt0088763</td>\n",
              "      <td>movie</td>\n",
              "      <td>Back to the Future</td>\n",
              "      <td>Back to the Future</td>\n",
              "      <td>False</td>\n",
              "      <td>1985</td>\n",
              "      <td>NaN</td>\n",
              "      <td>116.0</td>\n",
              "      <td>Sci-Fi</td>\n",
              "      <td>8.5</td>\n",
              "      <td>1192491.0</td>\n",
              "      <td>0.06585</td>\n",
              "    </tr>\n",
              "    <tr>\n",
              "      <th>...</th>\n",
              "      <td>...</td>\n",
              "      <td>...</td>\n",
              "      <td>...</td>\n",
              "      <td>...</td>\n",
              "      <td>...</td>\n",
              "      <td>...</td>\n",
              "      <td>...</td>\n",
              "      <td>...</td>\n",
              "      <td>...</td>\n",
              "      <td>...</td>\n",
              "      <td>...</td>\n",
              "      <td>...</td>\n",
              "    </tr>\n",
              "    <tr>\n",
              "      <th>43492</th>\n",
              "      <td>tt9866884</td>\n",
              "      <td>movie</td>\n",
              "      <td>Samsaram O Sangeetam</td>\n",
              "      <td>Samsaram O Sangeetam</td>\n",
              "      <td>False</td>\n",
              "      <td>1985</td>\n",
              "      <td>NaN</td>\n",
              "      <td>NaN</td>\n",
              "      <td>Drama</td>\n",
              "      <td>NaN</td>\n",
              "      <td>NaN</td>\n",
              "      <td>NaN</td>\n",
              "    </tr>\n",
              "    <tr>\n",
              "      <th>43493</th>\n",
              "      <td>tt9898368</td>\n",
              "      <td>movie</td>\n",
              "      <td>Langit Tidak Selalu Cerah</td>\n",
              "      <td>Langit Tidak Selalu Cerah</td>\n",
              "      <td>False</td>\n",
              "      <td>1981</td>\n",
              "      <td>NaN</td>\n",
              "      <td>NaN</td>\n",
              "      <td>Drama</td>\n",
              "      <td>NaN</td>\n",
              "      <td>NaN</td>\n",
              "      <td>NaN</td>\n",
              "    </tr>\n",
              "    <tr>\n",
              "      <th>43494</th>\n",
              "      <td>tt9899972</td>\n",
              "      <td>movie</td>\n",
              "      <td>Spring Comes Late</td>\n",
              "      <td>Chi dao de chun tian</td>\n",
              "      <td>False</td>\n",
              "      <td>1980</td>\n",
              "      <td>NaN</td>\n",
              "      <td>81.0</td>\n",
              "      <td>Drama</td>\n",
              "      <td>NaN</td>\n",
              "      <td>NaN</td>\n",
              "      <td>NaN</td>\n",
              "    </tr>\n",
              "    <tr>\n",
              "      <th>43495</th>\n",
              "      <td>tt9900354</td>\n",
              "      <td>movie</td>\n",
              "      <td>Anak Sulung Tujuh Keturunan</td>\n",
              "      <td>Anak Sulung Tujuh Keturunan</td>\n",
              "      <td>False</td>\n",
              "      <td>1982</td>\n",
              "      <td>NaN</td>\n",
              "      <td>NaN</td>\n",
              "      <td>Action</td>\n",
              "      <td>NaN</td>\n",
              "      <td>NaN</td>\n",
              "      <td>NaN</td>\n",
              "    </tr>\n",
              "    <tr>\n",
              "      <th>43496</th>\n",
              "      <td>tt9911750</td>\n",
              "      <td>movie</td>\n",
              "      <td>Chambu Gabale</td>\n",
              "      <td>Chambu Gabale</td>\n",
              "      <td>False</td>\n",
              "      <td>1989</td>\n",
              "      <td>NaN</td>\n",
              "      <td>131.0</td>\n",
              "      <td>Comedy</td>\n",
              "      <td>NaN</td>\n",
              "      <td>NaN</td>\n",
              "      <td>NaN</td>\n",
              "    </tr>\n",
              "  </tbody>\n",
              "</table>\n",
              "<p>43497 rows × 12 columns</p>\n",
              "</div>\n",
              "      <button class=\"colab-df-convert\" onclick=\"convertToInteractive('df-1628c51c-f89c-48d0-b91f-ac595f2463fe')\"\n",
              "              title=\"Convert this dataframe to an interactive table.\"\n",
              "              style=\"display:none;\">\n",
              "        \n",
              "  <svg xmlns=\"http://www.w3.org/2000/svg\" height=\"24px\"viewBox=\"0 0 24 24\"\n",
              "       width=\"24px\">\n",
              "    <path d=\"M0 0h24v24H0V0z\" fill=\"none\"/>\n",
              "    <path d=\"M18.56 5.44l.94 2.06.94-2.06 2.06-.94-2.06-.94-.94-2.06-.94 2.06-2.06.94zm-11 1L8.5 8.5l.94-2.06 2.06-.94-2.06-.94L8.5 2.5l-.94 2.06-2.06.94zm10 10l.94 2.06.94-2.06 2.06-.94-2.06-.94-.94-2.06-.94 2.06-2.06.94z\"/><path d=\"M17.41 7.96l-1.37-1.37c-.4-.4-.92-.59-1.43-.59-.52 0-1.04.2-1.43.59L10.3 9.45l-7.72 7.72c-.78.78-.78 2.05 0 2.83L4 21.41c.39.39.9.59 1.41.59.51 0 1.02-.2 1.41-.59l7.78-7.78 2.81-2.81c.8-.78.8-2.07 0-2.86zM5.41 20L4 18.59l7.72-7.72 1.47 1.35L5.41 20z\"/>\n",
              "  </svg>\n",
              "      </button>\n",
              "      \n",
              "  <style>\n",
              "    .colab-df-container {\n",
              "      display:flex;\n",
              "      flex-wrap:wrap;\n",
              "      gap: 12px;\n",
              "    }\n",
              "\n",
              "    .colab-df-convert {\n",
              "      background-color: #E8F0FE;\n",
              "      border: none;\n",
              "      border-radius: 50%;\n",
              "      cursor: pointer;\n",
              "      display: none;\n",
              "      fill: #1967D2;\n",
              "      height: 32px;\n",
              "      padding: 0 0 0 0;\n",
              "      width: 32px;\n",
              "    }\n",
              "\n",
              "    .colab-df-convert:hover {\n",
              "      background-color: #E2EBFA;\n",
              "      box-shadow: 0px 1px 2px rgba(60, 64, 67, 0.3), 0px 1px 3px 1px rgba(60, 64, 67, 0.15);\n",
              "      fill: #174EA6;\n",
              "    }\n",
              "\n",
              "    [theme=dark] .colab-df-convert {\n",
              "      background-color: #3B4455;\n",
              "      fill: #D2E3FC;\n",
              "    }\n",
              "\n",
              "    [theme=dark] .colab-df-convert:hover {\n",
              "      background-color: #434B5C;\n",
              "      box-shadow: 0px 1px 3px 1px rgba(0, 0, 0, 0.15);\n",
              "      filter: drop-shadow(0px 1px 2px rgba(0, 0, 0, 0.3));\n",
              "      fill: #FFFFFF;\n",
              "    }\n",
              "  </style>\n",
              "\n",
              "      <script>\n",
              "        const buttonEl =\n",
              "          document.querySelector('#df-1628c51c-f89c-48d0-b91f-ac595f2463fe button.colab-df-convert');\n",
              "        buttonEl.style.display =\n",
              "          google.colab.kernel.accessAllowed ? 'block' : 'none';\n",
              "\n",
              "        async function convertToInteractive(key) {\n",
              "          const element = document.querySelector('#df-1628c51c-f89c-48d0-b91f-ac595f2463fe');\n",
              "          const dataTable =\n",
              "            await google.colab.kernel.invokeFunction('convertToInteractive',\n",
              "                                                     [key], {});\n",
              "          if (!dataTable) return;\n",
              "\n",
              "          const docLinkHtml = 'Like what you see? Visit the ' +\n",
              "            '<a target=\"_blank\" href=https://colab.research.google.com/notebooks/data_table.ipynb>data table notebook</a>'\n",
              "            + ' to learn more about interactive tables.';\n",
              "          element.innerHTML = '';\n",
              "          dataTable['output_type'] = 'display_data';\n",
              "          await google.colab.output.renderOutput(dataTable, element);\n",
              "          const docLink = document.createElement('div');\n",
              "          docLink.innerHTML = docLinkHtml;\n",
              "          element.appendChild(docLink);\n",
              "        }\n",
              "      </script>\n",
              "    </div>\n",
              "  </div>\n",
              "  "
            ]
          },
          "metadata": {},
          "execution_count": 12
        }
      ]
    },
    {
      "cell_type": "markdown",
      "source": [
        "## Determine our film genres"
      ],
      "metadata": {
        "id": "PjC3Rj07mVra"
      }
    },
    {
      "cell_type": "markdown",
      "source": [
        "Drama, Comedy, Action,Romance, Crime, Thriller, Adventure, Horror, Family,Fantasy, War, Mystery, Sci-Fi,Animation"
      ],
      "metadata": {
        "id": "aIm3idWwmZlY"
      }
    },
    {
      "cell_type": "code",
      "source": [
        "df_ourmovies_rating['genres'].value_counts()"
      ],
      "metadata": {
        "id": "wqZauf5HmG03"
      },
      "execution_count": null,
      "outputs": []
    },
    {
      "cell_type": "markdown",
      "source": [
        "## Adventure"
      ],
      "metadata": {
        "id": "c8EDvWCxr0VZ"
      }
    },
    {
      "cell_type": "code",
      "source": [
        "df_adventure = df_ourmovies_rating[(df_ourmovies_rating.genres == 'Adventure') & (df_ourmovies_rating.originalTitle)]\n",
        "df_top_adventure = df_adventure.sort_values('weight_average', ascending=False).groupby('genres')['tconst','primaryTitle','weight_average'].head(10)\n",
        "df_top_adventure.rename(columns = {'primaryTitle':'Adventure Movies'},inplace = True)\n",
        "df_top_adventure"
      ],
      "metadata": {
        "id": "164oewnFsK_g"
      },
      "execution_count": null,
      "outputs": []
    },
    {
      "cell_type": "markdown",
      "source": [
        "## export csv for the top 10 adventure movies"
      ],
      "metadata": {
        "id": "ploW-SirsXHj"
      }
    },
    {
      "cell_type": "code",
      "source": [
        "df_top_adventure.to_csv('/content/drive/MyDrive/2209-Data/Projets/Projet2/MMA/00_CSV_files/df_top_adventure.csv',sep=',',index=False)"
      ],
      "metadata": {
        "id": "OIBsd1apsbFZ"
      },
      "execution_count": 157,
      "outputs": []
    },
    {
      "cell_type": "markdown",
      "source": [
        "## Horror"
      ],
      "metadata": {
        "id": "fuC_EeqXr2Md"
      }
    },
    {
      "cell_type": "code",
      "source": [
        "df_horror = df_ourmovies_rating[(df_ourmovies_rating.genres == 'Horror') & (df_ourmovies_rating.originalTitle)]\n",
        "df_top_horror = df_horror.sort_values('weight_average', ascending=False).groupby('genres')['tconst','primaryTitle','weight_average'].head(10)\n",
        "df_top_horror.rename(columns = {'primaryTitle':'Horror Movies'},inplace = True)\n",
        "df_top_horror"
      ],
      "metadata": {
        "id": "rlPrCuxxsiVr"
      },
      "execution_count": null,
      "outputs": []
    },
    {
      "cell_type": "markdown",
      "source": [
        "## export csv for the top 10 horror movies"
      ],
      "metadata": {
        "id": "l3JWP6YTsrEx"
      }
    },
    {
      "cell_type": "code",
      "source": [
        "df_top_horror.to_csv('/content/drive/MyDrive/2209-Data/Projets/Projet2/MMA/00_CSV_files/df_top_horror.csv',sep=',',index=False)"
      ],
      "metadata": {
        "id": "PV1jdnuvsuiQ"
      },
      "execution_count": 158,
      "outputs": []
    },
    {
      "cell_type": "markdown",
      "source": [
        "## Family"
      ],
      "metadata": {
        "id": "YOBKa5g2r34y"
      }
    },
    {
      "cell_type": "code",
      "source": [
        "df_family = df_ourmovies_rating[(df_ourmovies_rating.genres == 'Family') & (df_ourmovies_rating.originalTitle)]\n",
        "df_top_family = df_family.sort_values('weight_average', ascending=False).groupby('genres')['tconst','primaryTitle','weight_average'].head(10)\n",
        "df_top_family.rename(columns = {'primaryTitle':'Family Movies'},inplace = True)\n",
        "df_top_family"
      ],
      "metadata": {
        "id": "RBfTniE6s1q3"
      },
      "execution_count": null,
      "outputs": []
    },
    {
      "cell_type": "markdown",
      "source": [
        "## export csv for the top 10 family movies"
      ],
      "metadata": {
        "id": "HxljI7Jus_gW"
      }
    },
    {
      "cell_type": "code",
      "source": [
        "df_top_family.to_csv('/content/drive/MyDrive/2209-Data/Projets/Projet2/MMA/00_CSV_files/df_top_family.csv',sep=',',index=False)"
      ],
      "metadata": {
        "id": "mBU1bFTQtHdY"
      },
      "execution_count": 159,
      "outputs": []
    },
    {
      "cell_type": "markdown",
      "source": [
        "## Fantasy"
      ],
      "metadata": {
        "id": "su3XKVmRr6Kk"
      }
    },
    {
      "cell_type": "code",
      "source": [
        "df_fantasy = df_ourmovies_rating[(df_ourmovies_rating.genres == 'Fantasy') & (df_ourmovies_rating.originalTitle)]\n",
        "df_top_fantasy = df_fantasy.sort_values('weight_average', ascending=False).groupby('genres')['tconst','primaryTitle','weight_average'].head(10)\n",
        "df_top_fantasy.rename(columns = {'primaryTitle':'Fantasy Movies'},inplace = True)\n",
        "df_top_fantasy"
      ],
      "metadata": {
        "id": "kew9OypktOIw"
      },
      "execution_count": null,
      "outputs": []
    },
    {
      "cell_type": "markdown",
      "source": [
        "## sxport csv for the top 10 fantasy movies"
      ],
      "metadata": {
        "id": "u4tzLi5itWYy"
      }
    },
    {
      "cell_type": "code",
      "source": [
        "df_top_fantasy.to_csv('/content/drive/MyDrive/2209-Data/Projets/Projet2/MMA/00_CSV_files/df_top_fantasy.csv',sep=',',index=False)"
      ],
      "metadata": {
        "id": "R4wDYQo2ta3_"
      },
      "execution_count": 160,
      "outputs": []
    },
    {
      "cell_type": "markdown",
      "source": [
        "## WAR"
      ],
      "metadata": {
        "id": "3eO4gO6Mr8Wj"
      }
    },
    {
      "cell_type": "code",
      "source": [
        "df_war = df_ourmovies_rating[(df_ourmovies_rating.genres == 'War') & (df_ourmovies_rating.originalTitle)]\n",
        "df_top_war = df_war.sort_values('weight_average', ascending=False).groupby('genres')['tconst','primaryTitle','weight_average'].head(10)\n",
        "df_top_war.rename(columns = {'primaryTitle':'War Movies'},inplace = True)\n",
        "df_top_war"
      ],
      "metadata": {
        "id": "gkbYIFeZtgyd"
      },
      "execution_count": null,
      "outputs": []
    },
    {
      "cell_type": "markdown",
      "source": [
        "## export csv for the top 10 war movies"
      ],
      "metadata": {
        "id": "Fr8ohvNEtnsX"
      }
    },
    {
      "cell_type": "code",
      "source": [
        "df_top_war.to_csv('/content/drive/MyDrive/2209-Data/Projets/Projet2/MMA/00_CSV_files/df_top_war.csv',sep=',',index=False)"
      ],
      "metadata": {
        "id": "2yZLBOIztrXL"
      },
      "execution_count": 161,
      "outputs": []
    },
    {
      "cell_type": "markdown",
      "source": [
        "## Mystery"
      ],
      "metadata": {
        "id": "PYqGag_Rr9_x"
      }
    },
    {
      "cell_type": "code",
      "source": [
        "df_mystery = df_ourmovies_rating[(df_ourmovies_rating.genres == 'Mystery') & (df_ourmovies_rating.originalTitle)]\n",
        "df_top_mystery = df_mystery.sort_values('weight_average', ascending=False).groupby('genres')['tconst','primaryTitle','weight_average'].head(10)\n",
        "df_top_mystery.rename(columns = {'primaryTitle':'Mystery Movies'},inplace = True)\n",
        "df_top_mystery"
      ],
      "metadata": {
        "id": "ypyTYfG3tw5H"
      },
      "execution_count": null,
      "outputs": []
    },
    {
      "cell_type": "markdown",
      "source": [
        "## export csv for the top 10 mystery movies"
      ],
      "metadata": {
        "id": "NZ5VrND3t5VZ"
      }
    },
    {
      "cell_type": "code",
      "source": [
        "df_top_mystery.to_csv('/content/drive/MyDrive/2209-Data/Projets/Projet2/MMA/00_CSV_files/df_top_mystery.csv',sep=',',index=False)"
      ],
      "metadata": {
        "id": "BpxSIcbct9Ml"
      },
      "execution_count": 162,
      "outputs": []
    },
    {
      "cell_type": "markdown",
      "source": [
        "## Sci-Fi"
      ],
      "metadata": {
        "id": "fQ4IPgzkr_aM"
      }
    },
    {
      "cell_type": "code",
      "source": [
        "df_scifi = df_ourmovies_rating[(df_ourmovies_rating.genres == 'Sci-Fi') & (df_ourmovies_rating.originalTitle)]\n",
        "df_top_scifi = df_scifi.sort_values('weight_average', ascending=False).groupby('genres')['tconst','primaryTitle','weight_average'].head(10)\n",
        "df_top_scifi.rename(columns = {'primaryTitle':'Sci-Fi Movies'},inplace = True)\n",
        "df_top_scifi"
      ],
      "metadata": {
        "id": "cWxRXZ1BuCt5"
      },
      "execution_count": null,
      "outputs": []
    },
    {
      "cell_type": "markdown",
      "source": [
        "## export csv for the top 10 Sci-Fi movies"
      ],
      "metadata": {
        "id": "lAxf8VpGuNav"
      }
    },
    {
      "cell_type": "code",
      "source": [
        "df_top_scifi.to_csv('/content/drive/MyDrive/2209-Data/Projets/Projet2/MMA/00_CSV_files/df_top_scifi.csv',sep=',',index=False)"
      ],
      "metadata": {
        "id": "yU12YPmquRX9"
      },
      "execution_count": 163,
      "outputs": []
    },
    {
      "cell_type": "markdown",
      "source": [
        "## Animation"
      ],
      "metadata": {
        "id": "Sr6F1Wf9sBRA"
      }
    },
    {
      "cell_type": "code",
      "source": [
        "df_animation = df_ourmovies_rating[(df_ourmovies_rating.genres == 'Animation') & (df_ourmovies_rating.originalTitle)]\n",
        "df_top_animation = df_animation.sort_values('weight_average', ascending=False).groupby('genres')['tconst','primaryTitle','weight_average'].head(10)\n",
        "df_top_animation.rename(columns = {'primaryTitle':'Animation Movies'},inplace = True)\n",
        "df_top_animation"
      ],
      "metadata": {
        "id": "E8u5m6Jsucpg"
      },
      "execution_count": null,
      "outputs": []
    },
    {
      "cell_type": "markdown",
      "source": [
        "## export csv for the top 10 animation mavies"
      ],
      "metadata": {
        "id": "TplfDwvJulPc"
      }
    },
    {
      "cell_type": "code",
      "source": [
        "df_top_animation.to_csv('/content/drive/MyDrive/2209-Data/Projets/Projet2/MMA/00_CSV_files/df_top_animation.csv',sep=',',index=False)"
      ],
      "metadata": {
        "id": "glqMGcUVuo0D"
      },
      "execution_count": 164,
      "outputs": []
    },
    {
      "cell_type": "markdown",
      "source": [
        "## Thriller"
      ],
      "metadata": {
        "id": "MsFy3kiksFuC"
      }
    },
    {
      "cell_type": "code",
      "source": [
        "df_thriller = df_ourmovies_rating[(df_ourmovies_rating.genres == 'Thriller') & (df_ourmovies_rating.originalTitle)]"
      ],
      "metadata": {
        "id": "M2wgdf5RrWTU"
      },
      "execution_count": 52,
      "outputs": []
    },
    {
      "cell_type": "code",
      "source": [
        "df_top_thriller = df_thriller.sort_values('weight_average', ascending=False).groupby('genres')['tconst','primaryTitle','weight_average'].head(10)\n",
        "df_top_thriller.rename(columns = {'primaryTitle':'Thriller Movies'},inplace = True)\n",
        "df_top_thriller"
      ],
      "metadata": {
        "id": "_x8W4y83rbNm"
      },
      "execution_count": null,
      "outputs": []
    },
    {
      "cell_type": "markdown",
      "source": [
        "## export csv for the 10 top thriller movies"
      ],
      "metadata": {
        "id": "ot2te7cUrjQ0"
      }
    },
    {
      "cell_type": "code",
      "source": [
        "df_top_thriller.to_csv('/content/drive/MyDrive/2209-Data/Projets/Projet2/MMA/00_CSV_files/df_top_thriller.csv',sep=',',index=False)"
      ],
      "metadata": {
        "id": "7qAHyBHurmpB"
      },
      "execution_count": 165,
      "outputs": []
    },
    {
      "cell_type": "markdown",
      "source": [
        "## Crime"
      ],
      "metadata": {
        "id": "cGH4BBaGqlYq"
      }
    },
    {
      "cell_type": "code",
      "source": [
        "df_crime = df_ourmovies_rating[(df_ourmovies_rating.genres == 'Crime') & (df_ourmovies_rating.originalTitle)]"
      ],
      "metadata": {
        "id": "i40G3VFdqm8I"
      },
      "execution_count": 49,
      "outputs": []
    },
    {
      "cell_type": "code",
      "source": [
        "df_top_crime = df_crime.sort_values('weight_average', ascending=False).groupby('genres')['tconst','primaryTitle','weight_average'].head(10)\n",
        "df_top_crime.rename(columns = {'primaryTitle':'Crime Movies'},inplace = True)\n",
        "df_top_crime"
      ],
      "metadata": {
        "id": "jMWT2MUzqr1P"
      },
      "execution_count": null,
      "outputs": []
    },
    {
      "cell_type": "markdown",
      "source": [
        "## export csv for the top 10 crime movies"
      ],
      "metadata": {
        "id": "ZNvBV7EEq20Q"
      }
    },
    {
      "cell_type": "code",
      "source": [
        "df_top_crime.to_csv('/content/drive/MyDrive/2209-Data/Projets/Projet2/MMA/00_CSV_files/df_top_crime.csv',sep=',',index=False)"
      ],
      "metadata": {
        "id": "blRnkA2Nq7cF"
      },
      "execution_count": 166,
      "outputs": []
    },
    {
      "cell_type": "markdown",
      "source": [
        "## Romance"
      ],
      "metadata": {
        "id": "4N4hUscZqDDG"
      }
    },
    {
      "cell_type": "code",
      "source": [
        "df_romance = df_ourmovies_rating[(df_ourmovies_rating.genres == 'Romance') & (df_ourmovies_rating.originalTitle)]"
      ],
      "metadata": {
        "id": "g-0DqFL1qEr4"
      },
      "execution_count": 46,
      "outputs": []
    },
    {
      "cell_type": "code",
      "source": [
        "df_top_romance = df_romance.sort_values('weight_average', ascending=False).groupby('genres')['tconst','primaryTitle','weight_average'].head(10)\n",
        "df_top_romance.rename(columns = {'primaryTitle':'Romance Movies'},inplace = True)\n",
        "df_top_romance"
      ],
      "metadata": {
        "id": "iWuPXu2MqJ9p"
      },
      "execution_count": null,
      "outputs": []
    },
    {
      "cell_type": "markdown",
      "source": [
        "## export csv for the top 10 romance movies"
      ],
      "metadata": {
        "id": "Dfbqhk-EqR4D"
      }
    },
    {
      "cell_type": "code",
      "source": [
        "df_top_romance.to_csv('/content/drive/MyDrive/2209-Data/Projets/Projet2/MMA/00_CSV_files/df_top_romance.csv',sep=',',index=False)"
      ],
      "metadata": {
        "id": "BRZwknVMqVsC"
      },
      "execution_count": 167,
      "outputs": []
    },
    {
      "cell_type": "markdown",
      "source": [
        "## Comedy"
      ],
      "metadata": {
        "id": "woYFz3bCqAgM"
      }
    },
    {
      "cell_type": "code",
      "source": [
        "df_comedy = df_ourmovies_rating[(df_ourmovies_rating.genres == 'Comedy') & (df_ourmovies_rating.originalTitle)]"
      ],
      "metadata": {
        "id": "2baNurXCpPLf"
      },
      "execution_count": 43,
      "outputs": []
    },
    {
      "cell_type": "code",
      "source": [
        "df_top_comedy = df_comedy.sort_values('weight_average', ascending=False).groupby('genres')['tconst','primaryTitle','weight_average'].head(10)\n",
        "df_top_comedy.rename(columns = {'primaryTitle':'Comedy Movies'},inplace = True)\n",
        "df_top_comedy"
      ],
      "metadata": {
        "id": "JjsRjBsJpX3f"
      },
      "execution_count": null,
      "outputs": []
    },
    {
      "cell_type": "markdown",
      "source": [
        "## export csv for the top 10 comedy movies"
      ],
      "metadata": {
        "id": "9Y-SRAlDpp51"
      }
    },
    {
      "cell_type": "code",
      "source": [
        "df_top_comedy.to_csv('/content/drive/MyDrive/2209-Data/Projets/Projet2/MMA/00_CSV_files/df_top_comedy.csv',sep=',',index=False)"
      ],
      "metadata": {
        "id": "jCFrsdLkpvuv"
      },
      "execution_count": 168,
      "outputs": []
    },
    {
      "cell_type": "markdown",
      "source": [
        "## DRAMA"
      ],
      "metadata": {
        "id": "PJsYJpctp4qD"
      }
    },
    {
      "cell_type": "code",
      "source": [
        "df_drama = df_ourmovies_rating[(df_ourmovies_rating.genres == 'Drama') & (df_ourmovies_rating.originalTitle)]"
      ],
      "metadata": {
        "id": "vapYCj3soaYB"
      },
      "execution_count": 39,
      "outputs": []
    },
    {
      "cell_type": "code",
      "source": [
        "df_top_drama = df_drama.sort_values('weight_average', ascending=False).groupby('genres')['tconst','primaryTitle','weight_average'].head(10)\n",
        "df_top_drama.rename(columns = {'primaryTitle':'Drama Movies'},inplace = True)\n",
        "df_top_drama"
      ],
      "metadata": {
        "id": "dhHiMy_ioqgm"
      },
      "execution_count": null,
      "outputs": []
    },
    {
      "cell_type": "markdown",
      "source": [
        "## export csv for the top 10 drama movies"
      ],
      "metadata": {
        "id": "gZPfBB0bo8P2"
      }
    },
    {
      "cell_type": "code",
      "source": [
        "df_top_drama.to_csv('/content/drive/MyDrive/2209-Data/Projets/Projet2/MMA/00_CSV_files/df_top_drama.csv',sep=',',index=False)"
      ],
      "metadata": {
        "id": "EesQ7anipBO0"
      },
      "execution_count": 169,
      "outputs": []
    },
    {
      "cell_type": "markdown",
      "source": [
        "## Action"
      ],
      "metadata": {
        "id": "Z3xR_Wa4p7bL"
      }
    },
    {
      "cell_type": "code",
      "source": [
        "df_action = df_ourmovies_rating[(df_ourmovies_rating.genres == 'Action') & (df_ourmovies_rating.originalTitle)]\n",
        "df_action"
      ],
      "metadata": {
        "id": "QVeqC3BQjm13"
      },
      "execution_count": null,
      "outputs": []
    },
    {
      "cell_type": "code",
      "source": [
        "df_top_action = df_action.sort_values('weight_average', ascending=False).groupby('genres')['tconst','primaryTitle','weight_average'].head(10)\n",
        "df_top_action.rename(columns = {'primaryTitle':'Action Movies'},inplace = True)\n",
        "df_top_action"
      ],
      "metadata": {
        "id": "J4FqTmMGm8VY"
      },
      "execution_count": null,
      "outputs": []
    },
    {
      "cell_type": "markdown",
      "source": [
        "## export csv for the top 10 action movies"
      ],
      "metadata": {
        "id": "TqEZ1J8UoFuz"
      }
    },
    {
      "cell_type": "code",
      "source": [
        "df_top_action.to_csv('/content/drive/MyDrive/2209-Data/Projets/Projet2/MMA/00_CSV_files/df_top_action.csv',sep=',',index=False)"
      ],
      "metadata": {
        "id": "ceAKmSFsoJtV"
      },
      "execution_count": 170,
      "outputs": []
    },
    {
      "cell_type": "markdown",
      "source": [
        "## Create a dataframe with the top 10 movies for each category: the dataframe will contain the 'tconst','primaryTitle' and 'weight_average'\n",
        "## we can use this for the machine learning maybe...."
      ],
      "metadata": {
        "id": "xGAEHPGXy-7w"
      }
    },
    {
      "cell_type": "code",
      "source": [
        "import pandas as pd\n",
        "from functools import reduce\n",
        "\n",
        "# compile the list of dataframes you want to merge\n",
        "data_frames = [df_top_adventure, df_top_drama, df_top_mystery, df_top_horror, df_top_crime, df_top_thriller, df_top_family, df_top_fantasy, df_top_animation, df_top_comedy, df_top_scifi, df_top_action, df_top_romance, df_top_war]\n",
        "\n",
        "\n",
        "df_merged = reduce(lambda  left,right: pd.merge(left,right,on=['tconst'],\n",
        "                                            how='outer'), data_frames)\n",
        "df_merged"
      ],
      "metadata": {
        "id": "8iylVLOhzYVT"
      },
      "execution_count": null,
      "outputs": []
    },
    {
      "cell_type": "code",
      "source": [
        "#data_frames = [df_top_adventure, df_top_drama, df_top_mystery, df_top_horror, df_top_crime, df_top_thriller, df_top_family, df_top_fantasy, df_top_animation, df_top_comedy, df_top_scifi, df_top_action, df_top_romance, df_top_war]\n",
        "#data_frames = [df.set_index('tconst') for df in data_frames]\n",
        "#data_frames[0].join(data_frames[1:])"
      ],
      "metadata": {
        "id": "kdZuGbGV4Z3_"
      },
      "execution_count": null,
      "outputs": []
    },
    {
      "cell_type": "code",
      "source": [
        "#df_list = [df_top_adventure, df_top_drama, df_top_mystery, df_top_horror, df_top_crime, df_top_thriller, df_top_family, df_top_fantasy, df_top_animation, df_top_comedy, df_top_scifi, df_top_action, df_top_romance, df_top_war]\n",
        "#df = df_list[0]\n",
        "#for df_ in df_list[1:]:\n",
        "    #df = df.merge(df_, on='tconst')\n",
        "#print(df)"
      ],
      "metadata": {
        "id": "NX4QLRwr6JPk"
      },
      "execution_count": null,
      "outputs": []
    },
    {
      "cell_type": "code",
      "source": [
        "import pandas as pd\n",
        "import glob\n",
        "import os\n",
        "\n",
        "# setting the path for joining multiple files\n",
        "files = os.path.join(\"/content/drive/MyDrive/2209-Data/Projets/Projet2/MMA/00_CSV_files\",\"df_top*.csv\")\n",
        "\n",
        "# list of merged files returned\n",
        "files = glob.glob(files)\n",
        "\n",
        "print(\"Resultant CSV after joining all CSV files at a particular location...\");\n",
        "\n",
        "# joining files with concat and read_csv\n",
        "df_top_rated_movied_of_all_genres = pd.concat(map(pd.read_csv, files), ignore_index=True)\n",
        "print(df_top_rated_movied_of_all_genres.to_markdown())"
      ],
      "metadata": {
        "id": "jdLfPPPB926U"
      },
      "execution_count": null,
      "outputs": []
    },
    {
      "cell_type": "markdown",
      "source": [
        "## export csv with all top 10 movies per genre"
      ],
      "metadata": {
        "id": "DOBKfdirAgPS"
      }
    },
    {
      "cell_type": "code",
      "source": [
        "df_top_rated_movied_of_all_genres.to_csv('/content/drive/MyDrive/2209-Data/Projets/Projet2/MMA/00_CSV_files/df_top_rated_movied_of_all_genres.csv',sep=',',index=False)"
      ],
      "metadata": {
        "id": "N35jQ3DxAlq6"
      },
      "execution_count": 175,
      "outputs": []
    },
    {
      "cell_type": "markdown",
      "source": [
        "## top 10 movies per genre (using weight_average)"
      ],
      "metadata": {
        "id": "6I2PT9RWED7h"
      }
    },
    {
      "cell_type": "code",
      "source": [
        "#We separate all genres in different categories in order to get the value counts\n",
        "dummies = df_ourmovies_rating['genres'].str.get_dummies(sep='|')\n",
        "\n",
        "final = pd.concat([df_ourmovies_rating, dummies], axis=1)\n",
        "final"
      ],
      "metadata": {
        "colab": {
          "base_uri": "https://localhost:8080/",
          "height": 800
        },
        "id": "h5TmTbuGEs8j",
        "outputId": "b60aee6b-33a9-4835-9deb-501ec9d4110d"
      },
      "execution_count": 13,
      "outputs": [
        {
          "output_type": "execute_result",
          "data": {
            "text/plain": [
              "          tconst titleType                                    primaryTitle  \\\n",
              "793    tt0080684     movie  Star Wars: Episode V - The Empire Strikes Back   \n",
              "792    tt0080684     movie  Star Wars: Episode V - The Empire Strikes Back   \n",
              "791    tt0080684     movie  Star Wars: Episode V - The Empire Strikes Back   \n",
              "8248   tt0088763     movie                              Back to the Future   \n",
              "8249   tt0088763     movie                              Back to the Future   \n",
              "...          ...       ...                                             ...   \n",
              "43492  tt9866884     movie                            Samsaram O Sangeetam   \n",
              "43493  tt9898368     movie                       Langit Tidak Selalu Cerah   \n",
              "43494  tt9899972     movie                               Spring Comes Late   \n",
              "43495  tt9900354     movie                     Anak Sulung Tujuh Keturunan   \n",
              "43496  tt9911750     movie                                   Chambu Gabale   \n",
              "\n",
              "                     originalTitle  isAdult  startYear  endYear  \\\n",
              "793        The Empire Strikes Back    False       1980      NaN   \n",
              "792        The Empire Strikes Back    False       1980      NaN   \n",
              "791        The Empire Strikes Back    False       1980      NaN   \n",
              "8248            Back to the Future    False       1985      NaN   \n",
              "8249            Back to the Future    False       1985      NaN   \n",
              "...                            ...      ...        ...      ...   \n",
              "43492         Samsaram O Sangeetam    False       1985      NaN   \n",
              "43493    Langit Tidak Selalu Cerah    False       1981      NaN   \n",
              "43494         Chi dao de chun tian    False       1980      NaN   \n",
              "43495  Anak Sulung Tujuh Keturunan    False       1982      NaN   \n",
              "43496                Chambu Gabale    False       1989      NaN   \n",
              "\n",
              "       runtimeMinutes     genres  averageRating  ...  Crime  Drama  Family  \\\n",
              "793             124.0    Fantasy            8.7  ...      0      0       0   \n",
              "792             124.0  Adventure            8.7  ...      0      0       0   \n",
              "791             124.0     Action            8.7  ...      0      0       0   \n",
              "8248            116.0     Comedy            8.5  ...      0      0       0   \n",
              "8249            116.0     Sci-Fi            8.5  ...      0      0       0   \n",
              "...               ...        ...            ...  ...    ...    ...     ...   \n",
              "43492             NaN      Drama            NaN  ...      0      1       0   \n",
              "43493             NaN      Drama            NaN  ...      0      1       0   \n",
              "43494            81.0      Drama            NaN  ...      0      1       0   \n",
              "43495             NaN     Action            NaN  ...      0      0       0   \n",
              "43496           131.0     Comedy            NaN  ...      0      0       0   \n",
              "\n",
              "       Fantasy  Horror  Mystery  Romance  Sci-Fi  Thriller  War  \n",
              "793          1       0        0        0       0         0    0  \n",
              "792          0       0        0        0       0         0    0  \n",
              "791          0       0        0        0       0         0    0  \n",
              "8248         0       0        0        0       0         0    0  \n",
              "8249         0       0        0        0       1         0    0  \n",
              "...        ...     ...      ...      ...     ...       ...  ...  \n",
              "43492        0       0        0        0       0         0    0  \n",
              "43493        0       0        0        0       0         0    0  \n",
              "43494        0       0        0        0       0         0    0  \n",
              "43495        0       0        0        0       0         0    0  \n",
              "43496        0       0        0        0       0         0    0  \n",
              "\n",
              "[43497 rows x 26 columns]"
            ],
            "text/html": [
              "\n",
              "  <div id=\"df-48dbd355-6c2d-4c55-bd26-6bd193c865e8\">\n",
              "    <div class=\"colab-df-container\">\n",
              "      <div>\n",
              "<style scoped>\n",
              "    .dataframe tbody tr th:only-of-type {\n",
              "        vertical-align: middle;\n",
              "    }\n",
              "\n",
              "    .dataframe tbody tr th {\n",
              "        vertical-align: top;\n",
              "    }\n",
              "\n",
              "    .dataframe thead th {\n",
              "        text-align: right;\n",
              "    }\n",
              "</style>\n",
              "<table border=\"1\" class=\"dataframe\">\n",
              "  <thead>\n",
              "    <tr style=\"text-align: right;\">\n",
              "      <th></th>\n",
              "      <th>tconst</th>\n",
              "      <th>titleType</th>\n",
              "      <th>primaryTitle</th>\n",
              "      <th>originalTitle</th>\n",
              "      <th>isAdult</th>\n",
              "      <th>startYear</th>\n",
              "      <th>endYear</th>\n",
              "      <th>runtimeMinutes</th>\n",
              "      <th>genres</th>\n",
              "      <th>averageRating</th>\n",
              "      <th>...</th>\n",
              "      <th>Crime</th>\n",
              "      <th>Drama</th>\n",
              "      <th>Family</th>\n",
              "      <th>Fantasy</th>\n",
              "      <th>Horror</th>\n",
              "      <th>Mystery</th>\n",
              "      <th>Romance</th>\n",
              "      <th>Sci-Fi</th>\n",
              "      <th>Thriller</th>\n",
              "      <th>War</th>\n",
              "    </tr>\n",
              "  </thead>\n",
              "  <tbody>\n",
              "    <tr>\n",
              "      <th>793</th>\n",
              "      <td>tt0080684</td>\n",
              "      <td>movie</td>\n",
              "      <td>Star Wars: Episode V - The Empire Strikes Back</td>\n",
              "      <td>The Empire Strikes Back</td>\n",
              "      <td>False</td>\n",
              "      <td>1980</td>\n",
              "      <td>NaN</td>\n",
              "      <td>124.0</td>\n",
              "      <td>Fantasy</td>\n",
              "      <td>8.7</td>\n",
              "      <td>...</td>\n",
              "      <td>0</td>\n",
              "      <td>0</td>\n",
              "      <td>0</td>\n",
              "      <td>1</td>\n",
              "      <td>0</td>\n",
              "      <td>0</td>\n",
              "      <td>0</td>\n",
              "      <td>0</td>\n",
              "      <td>0</td>\n",
              "      <td>0</td>\n",
              "    </tr>\n",
              "    <tr>\n",
              "      <th>792</th>\n",
              "      <td>tt0080684</td>\n",
              "      <td>movie</td>\n",
              "      <td>Star Wars: Episode V - The Empire Strikes Back</td>\n",
              "      <td>The Empire Strikes Back</td>\n",
              "      <td>False</td>\n",
              "      <td>1980</td>\n",
              "      <td>NaN</td>\n",
              "      <td>124.0</td>\n",
              "      <td>Adventure</td>\n",
              "      <td>8.7</td>\n",
              "      <td>...</td>\n",
              "      <td>0</td>\n",
              "      <td>0</td>\n",
              "      <td>0</td>\n",
              "      <td>0</td>\n",
              "      <td>0</td>\n",
              "      <td>0</td>\n",
              "      <td>0</td>\n",
              "      <td>0</td>\n",
              "      <td>0</td>\n",
              "      <td>0</td>\n",
              "    </tr>\n",
              "    <tr>\n",
              "      <th>791</th>\n",
              "      <td>tt0080684</td>\n",
              "      <td>movie</td>\n",
              "      <td>Star Wars: Episode V - The Empire Strikes Back</td>\n",
              "      <td>The Empire Strikes Back</td>\n",
              "      <td>False</td>\n",
              "      <td>1980</td>\n",
              "      <td>NaN</td>\n",
              "      <td>124.0</td>\n",
              "      <td>Action</td>\n",
              "      <td>8.7</td>\n",
              "      <td>...</td>\n",
              "      <td>0</td>\n",
              "      <td>0</td>\n",
              "      <td>0</td>\n",
              "      <td>0</td>\n",
              "      <td>0</td>\n",
              "      <td>0</td>\n",
              "      <td>0</td>\n",
              "      <td>0</td>\n",
              "      <td>0</td>\n",
              "      <td>0</td>\n",
              "    </tr>\n",
              "    <tr>\n",
              "      <th>8248</th>\n",
              "      <td>tt0088763</td>\n",
              "      <td>movie</td>\n",
              "      <td>Back to the Future</td>\n",
              "      <td>Back to the Future</td>\n",
              "      <td>False</td>\n",
              "      <td>1985</td>\n",
              "      <td>NaN</td>\n",
              "      <td>116.0</td>\n",
              "      <td>Comedy</td>\n",
              "      <td>8.5</td>\n",
              "      <td>...</td>\n",
              "      <td>0</td>\n",
              "      <td>0</td>\n",
              "      <td>0</td>\n",
              "      <td>0</td>\n",
              "      <td>0</td>\n",
              "      <td>0</td>\n",
              "      <td>0</td>\n",
              "      <td>0</td>\n",
              "      <td>0</td>\n",
              "      <td>0</td>\n",
              "    </tr>\n",
              "    <tr>\n",
              "      <th>8249</th>\n",
              "      <td>tt0088763</td>\n",
              "      <td>movie</td>\n",
              "      <td>Back to the Future</td>\n",
              "      <td>Back to the Future</td>\n",
              "      <td>False</td>\n",
              "      <td>1985</td>\n",
              "      <td>NaN</td>\n",
              "      <td>116.0</td>\n",
              "      <td>Sci-Fi</td>\n",
              "      <td>8.5</td>\n",
              "      <td>...</td>\n",
              "      <td>0</td>\n",
              "      <td>0</td>\n",
              "      <td>0</td>\n",
              "      <td>0</td>\n",
              "      <td>0</td>\n",
              "      <td>0</td>\n",
              "      <td>0</td>\n",
              "      <td>1</td>\n",
              "      <td>0</td>\n",
              "      <td>0</td>\n",
              "    </tr>\n",
              "    <tr>\n",
              "      <th>...</th>\n",
              "      <td>...</td>\n",
              "      <td>...</td>\n",
              "      <td>...</td>\n",
              "      <td>...</td>\n",
              "      <td>...</td>\n",
              "      <td>...</td>\n",
              "      <td>...</td>\n",
              "      <td>...</td>\n",
              "      <td>...</td>\n",
              "      <td>...</td>\n",
              "      <td>...</td>\n",
              "      <td>...</td>\n",
              "      <td>...</td>\n",
              "      <td>...</td>\n",
              "      <td>...</td>\n",
              "      <td>...</td>\n",
              "      <td>...</td>\n",
              "      <td>...</td>\n",
              "      <td>...</td>\n",
              "      <td>...</td>\n",
              "      <td>...</td>\n",
              "    </tr>\n",
              "    <tr>\n",
              "      <th>43492</th>\n",
              "      <td>tt9866884</td>\n",
              "      <td>movie</td>\n",
              "      <td>Samsaram O Sangeetam</td>\n",
              "      <td>Samsaram O Sangeetam</td>\n",
              "      <td>False</td>\n",
              "      <td>1985</td>\n",
              "      <td>NaN</td>\n",
              "      <td>NaN</td>\n",
              "      <td>Drama</td>\n",
              "      <td>NaN</td>\n",
              "      <td>...</td>\n",
              "      <td>0</td>\n",
              "      <td>1</td>\n",
              "      <td>0</td>\n",
              "      <td>0</td>\n",
              "      <td>0</td>\n",
              "      <td>0</td>\n",
              "      <td>0</td>\n",
              "      <td>0</td>\n",
              "      <td>0</td>\n",
              "      <td>0</td>\n",
              "    </tr>\n",
              "    <tr>\n",
              "      <th>43493</th>\n",
              "      <td>tt9898368</td>\n",
              "      <td>movie</td>\n",
              "      <td>Langit Tidak Selalu Cerah</td>\n",
              "      <td>Langit Tidak Selalu Cerah</td>\n",
              "      <td>False</td>\n",
              "      <td>1981</td>\n",
              "      <td>NaN</td>\n",
              "      <td>NaN</td>\n",
              "      <td>Drama</td>\n",
              "      <td>NaN</td>\n",
              "      <td>...</td>\n",
              "      <td>0</td>\n",
              "      <td>1</td>\n",
              "      <td>0</td>\n",
              "      <td>0</td>\n",
              "      <td>0</td>\n",
              "      <td>0</td>\n",
              "      <td>0</td>\n",
              "      <td>0</td>\n",
              "      <td>0</td>\n",
              "      <td>0</td>\n",
              "    </tr>\n",
              "    <tr>\n",
              "      <th>43494</th>\n",
              "      <td>tt9899972</td>\n",
              "      <td>movie</td>\n",
              "      <td>Spring Comes Late</td>\n",
              "      <td>Chi dao de chun tian</td>\n",
              "      <td>False</td>\n",
              "      <td>1980</td>\n",
              "      <td>NaN</td>\n",
              "      <td>81.0</td>\n",
              "      <td>Drama</td>\n",
              "      <td>NaN</td>\n",
              "      <td>...</td>\n",
              "      <td>0</td>\n",
              "      <td>1</td>\n",
              "      <td>0</td>\n",
              "      <td>0</td>\n",
              "      <td>0</td>\n",
              "      <td>0</td>\n",
              "      <td>0</td>\n",
              "      <td>0</td>\n",
              "      <td>0</td>\n",
              "      <td>0</td>\n",
              "    </tr>\n",
              "    <tr>\n",
              "      <th>43495</th>\n",
              "      <td>tt9900354</td>\n",
              "      <td>movie</td>\n",
              "      <td>Anak Sulung Tujuh Keturunan</td>\n",
              "      <td>Anak Sulung Tujuh Keturunan</td>\n",
              "      <td>False</td>\n",
              "      <td>1982</td>\n",
              "      <td>NaN</td>\n",
              "      <td>NaN</td>\n",
              "      <td>Action</td>\n",
              "      <td>NaN</td>\n",
              "      <td>...</td>\n",
              "      <td>0</td>\n",
              "      <td>0</td>\n",
              "      <td>0</td>\n",
              "      <td>0</td>\n",
              "      <td>0</td>\n",
              "      <td>0</td>\n",
              "      <td>0</td>\n",
              "      <td>0</td>\n",
              "      <td>0</td>\n",
              "      <td>0</td>\n",
              "    </tr>\n",
              "    <tr>\n",
              "      <th>43496</th>\n",
              "      <td>tt9911750</td>\n",
              "      <td>movie</td>\n",
              "      <td>Chambu Gabale</td>\n",
              "      <td>Chambu Gabale</td>\n",
              "      <td>False</td>\n",
              "      <td>1989</td>\n",
              "      <td>NaN</td>\n",
              "      <td>131.0</td>\n",
              "      <td>Comedy</td>\n",
              "      <td>NaN</td>\n",
              "      <td>...</td>\n",
              "      <td>0</td>\n",
              "      <td>0</td>\n",
              "      <td>0</td>\n",
              "      <td>0</td>\n",
              "      <td>0</td>\n",
              "      <td>0</td>\n",
              "      <td>0</td>\n",
              "      <td>0</td>\n",
              "      <td>0</td>\n",
              "      <td>0</td>\n",
              "    </tr>\n",
              "  </tbody>\n",
              "</table>\n",
              "<p>43497 rows × 26 columns</p>\n",
              "</div>\n",
              "      <button class=\"colab-df-convert\" onclick=\"convertToInteractive('df-48dbd355-6c2d-4c55-bd26-6bd193c865e8')\"\n",
              "              title=\"Convert this dataframe to an interactive table.\"\n",
              "              style=\"display:none;\">\n",
              "        \n",
              "  <svg xmlns=\"http://www.w3.org/2000/svg\" height=\"24px\"viewBox=\"0 0 24 24\"\n",
              "       width=\"24px\">\n",
              "    <path d=\"M0 0h24v24H0V0z\" fill=\"none\"/>\n",
              "    <path d=\"M18.56 5.44l.94 2.06.94-2.06 2.06-.94-2.06-.94-.94-2.06-.94 2.06-2.06.94zm-11 1L8.5 8.5l.94-2.06 2.06-.94-2.06-.94L8.5 2.5l-.94 2.06-2.06.94zm10 10l.94 2.06.94-2.06 2.06-.94-2.06-.94-.94-2.06-.94 2.06-2.06.94z\"/><path d=\"M17.41 7.96l-1.37-1.37c-.4-.4-.92-.59-1.43-.59-.52 0-1.04.2-1.43.59L10.3 9.45l-7.72 7.72c-.78.78-.78 2.05 0 2.83L4 21.41c.39.39.9.59 1.41.59.51 0 1.02-.2 1.41-.59l7.78-7.78 2.81-2.81c.8-.78.8-2.07 0-2.86zM5.41 20L4 18.59l7.72-7.72 1.47 1.35L5.41 20z\"/>\n",
              "  </svg>\n",
              "      </button>\n",
              "      \n",
              "  <style>\n",
              "    .colab-df-container {\n",
              "      display:flex;\n",
              "      flex-wrap:wrap;\n",
              "      gap: 12px;\n",
              "    }\n",
              "\n",
              "    .colab-df-convert {\n",
              "      background-color: #E8F0FE;\n",
              "      border: none;\n",
              "      border-radius: 50%;\n",
              "      cursor: pointer;\n",
              "      display: none;\n",
              "      fill: #1967D2;\n",
              "      height: 32px;\n",
              "      padding: 0 0 0 0;\n",
              "      width: 32px;\n",
              "    }\n",
              "\n",
              "    .colab-df-convert:hover {\n",
              "      background-color: #E2EBFA;\n",
              "      box-shadow: 0px 1px 2px rgba(60, 64, 67, 0.3), 0px 1px 3px 1px rgba(60, 64, 67, 0.15);\n",
              "      fill: #174EA6;\n",
              "    }\n",
              "\n",
              "    [theme=dark] .colab-df-convert {\n",
              "      background-color: #3B4455;\n",
              "      fill: #D2E3FC;\n",
              "    }\n",
              "\n",
              "    [theme=dark] .colab-df-convert:hover {\n",
              "      background-color: #434B5C;\n",
              "      box-shadow: 0px 1px 3px 1px rgba(0, 0, 0, 0.15);\n",
              "      filter: drop-shadow(0px 1px 2px rgba(0, 0, 0, 0.3));\n",
              "      fill: #FFFFFF;\n",
              "    }\n",
              "  </style>\n",
              "\n",
              "      <script>\n",
              "        const buttonEl =\n",
              "          document.querySelector('#df-48dbd355-6c2d-4c55-bd26-6bd193c865e8 button.colab-df-convert');\n",
              "        buttonEl.style.display =\n",
              "          google.colab.kernel.accessAllowed ? 'block' : 'none';\n",
              "\n",
              "        async function convertToInteractive(key) {\n",
              "          const element = document.querySelector('#df-48dbd355-6c2d-4c55-bd26-6bd193c865e8');\n",
              "          const dataTable =\n",
              "            await google.colab.kernel.invokeFunction('convertToInteractive',\n",
              "                                                     [key], {});\n",
              "          if (!dataTable) return;\n",
              "\n",
              "          const docLinkHtml = 'Like what you see? Visit the ' +\n",
              "            '<a target=\"_blank\" href=https://colab.research.google.com/notebooks/data_table.ipynb>data table notebook</a>'\n",
              "            + ' to learn more about interactive tables.';\n",
              "          element.innerHTML = '';\n",
              "          dataTable['output_type'] = 'display_data';\n",
              "          await google.colab.output.renderOutput(dataTable, element);\n",
              "          const docLink = document.createElement('div');\n",
              "          docLink.innerHTML = docLinkHtml;\n",
              "          element.appendChild(docLink);\n",
              "        }\n",
              "      </script>\n",
              "    </div>\n",
              "  </div>\n",
              "  "
            ]
          },
          "metadata": {},
          "execution_count": 13
        }
      ]
    },
    {
      "cell_type": "code",
      "source": [],
      "metadata": {
        "id": "J2g174YHi7ZD"
      },
      "execution_count": null,
      "outputs": []
    },
    {
      "cell_type": "markdown",
      "source": [
        "## Determine the top rated movie(by weight_average) for each genre"
      ],
      "metadata": {
        "id": "Aij65dyu_otX"
      }
    },
    {
      "cell_type": "code",
      "source": [
        "top_rated_genre = df_ourmovies_rating.sort_values('weight_average', ascending=False).groupby('genres')['primaryTitle','weight_average'].first()"
      ],
      "metadata": {
        "colab": {
          "base_uri": "https://localhost:8080/"
        },
        "id": "gltI0kEC_yBY",
        "outputId": "5dec60f6-dc4e-4772-fe5f-b45f1a04f534"
      },
      "execution_count": null,
      "outputs": [
        {
          "output_type": "stream",
          "name": "stderr",
          "text": [
            "/usr/local/lib/python3.7/dist-packages/ipykernel_launcher.py:1: FutureWarning: Indexing with multiple keys (implicitly converted to a tuple of keys) will be deprecated, use a list instead.\n",
            "  \"\"\"Entry point for launching an IPython kernel.\n"
          ]
        }
      ]
    },
    {
      "cell_type": "code",
      "source": [
        "top_rated_genre"
      ],
      "metadata": {
        "colab": {
          "base_uri": "https://localhost:8080/",
          "height": 520
        },
        "id": "q4dUI8NuDfKX",
        "outputId": "343a9ce8-1e10-4522-f178-043c36074028"
      },
      "execution_count": null,
      "outputs": [
        {
          "output_type": "execute_result",
          "data": {
            "text/plain": [
              "                                             primaryTitle  weight_average\n",
              "genres                                                                   \n",
              "Action     Star Wars: Episode V - The Empire Strikes Back         0.07245\n",
              "Adventure  Star Wars: Episode V - The Empire Strikes Back         0.07245\n",
              "Animation                              My Neighbor Totoro         0.01775\n",
              "Comedy                                 Back to the Future         0.06585\n",
              "Crime                                            Scarface         0.04497\n",
              "Drama                                         The Shining         0.05522\n",
              "Family                                 The Princess Bride         0.02217\n",
              "Fantasy    Star Wars: Episode V - The Empire Strikes Back         0.07245\n",
              "Horror                                        The Shining         0.05522\n",
              "Mystery                                         The Thing         0.02249\n",
              "Romance                                   Cinema Paradiso         0.01437\n",
              "Sci-Fi                                 Back to the Future         0.06585\n",
              "Thriller                                         Die Hard         0.04642\n",
              "War                                     Full Metal Jacket         0.03984"
            ],
            "text/html": [
              "\n",
              "  <div id=\"df-9ede2b81-da02-4c59-a189-fff7a6ca3392\">\n",
              "    <div class=\"colab-df-container\">\n",
              "      <div>\n",
              "<style scoped>\n",
              "    .dataframe tbody tr th:only-of-type {\n",
              "        vertical-align: middle;\n",
              "    }\n",
              "\n",
              "    .dataframe tbody tr th {\n",
              "        vertical-align: top;\n",
              "    }\n",
              "\n",
              "    .dataframe thead th {\n",
              "        text-align: right;\n",
              "    }\n",
              "</style>\n",
              "<table border=\"1\" class=\"dataframe\">\n",
              "  <thead>\n",
              "    <tr style=\"text-align: right;\">\n",
              "      <th></th>\n",
              "      <th>primaryTitle</th>\n",
              "      <th>weight_average</th>\n",
              "    </tr>\n",
              "    <tr>\n",
              "      <th>genres</th>\n",
              "      <th></th>\n",
              "      <th></th>\n",
              "    </tr>\n",
              "  </thead>\n",
              "  <tbody>\n",
              "    <tr>\n",
              "      <th>Action</th>\n",
              "      <td>Star Wars: Episode V - The Empire Strikes Back</td>\n",
              "      <td>0.07245</td>\n",
              "    </tr>\n",
              "    <tr>\n",
              "      <th>Adventure</th>\n",
              "      <td>Star Wars: Episode V - The Empire Strikes Back</td>\n",
              "      <td>0.07245</td>\n",
              "    </tr>\n",
              "    <tr>\n",
              "      <th>Animation</th>\n",
              "      <td>My Neighbor Totoro</td>\n",
              "      <td>0.01775</td>\n",
              "    </tr>\n",
              "    <tr>\n",
              "      <th>Comedy</th>\n",
              "      <td>Back to the Future</td>\n",
              "      <td>0.06585</td>\n",
              "    </tr>\n",
              "    <tr>\n",
              "      <th>Crime</th>\n",
              "      <td>Scarface</td>\n",
              "      <td>0.04497</td>\n",
              "    </tr>\n",
              "    <tr>\n",
              "      <th>Drama</th>\n",
              "      <td>The Shining</td>\n",
              "      <td>0.05522</td>\n",
              "    </tr>\n",
              "    <tr>\n",
              "      <th>Family</th>\n",
              "      <td>The Princess Bride</td>\n",
              "      <td>0.02217</td>\n",
              "    </tr>\n",
              "    <tr>\n",
              "      <th>Fantasy</th>\n",
              "      <td>Star Wars: Episode V - The Empire Strikes Back</td>\n",
              "      <td>0.07245</td>\n",
              "    </tr>\n",
              "    <tr>\n",
              "      <th>Horror</th>\n",
              "      <td>The Shining</td>\n",
              "      <td>0.05522</td>\n",
              "    </tr>\n",
              "    <tr>\n",
              "      <th>Mystery</th>\n",
              "      <td>The Thing</td>\n",
              "      <td>0.02249</td>\n",
              "    </tr>\n",
              "    <tr>\n",
              "      <th>Romance</th>\n",
              "      <td>Cinema Paradiso</td>\n",
              "      <td>0.01437</td>\n",
              "    </tr>\n",
              "    <tr>\n",
              "      <th>Sci-Fi</th>\n",
              "      <td>Back to the Future</td>\n",
              "      <td>0.06585</td>\n",
              "    </tr>\n",
              "    <tr>\n",
              "      <th>Thriller</th>\n",
              "      <td>Die Hard</td>\n",
              "      <td>0.04642</td>\n",
              "    </tr>\n",
              "    <tr>\n",
              "      <th>War</th>\n",
              "      <td>Full Metal Jacket</td>\n",
              "      <td>0.03984</td>\n",
              "    </tr>\n",
              "  </tbody>\n",
              "</table>\n",
              "</div>\n",
              "      <button class=\"colab-df-convert\" onclick=\"convertToInteractive('df-9ede2b81-da02-4c59-a189-fff7a6ca3392')\"\n",
              "              title=\"Convert this dataframe to an interactive table.\"\n",
              "              style=\"display:none;\">\n",
              "        \n",
              "  <svg xmlns=\"http://www.w3.org/2000/svg\" height=\"24px\"viewBox=\"0 0 24 24\"\n",
              "       width=\"24px\">\n",
              "    <path d=\"M0 0h24v24H0V0z\" fill=\"none\"/>\n",
              "    <path d=\"M18.56 5.44l.94 2.06.94-2.06 2.06-.94-2.06-.94-.94-2.06-.94 2.06-2.06.94zm-11 1L8.5 8.5l.94-2.06 2.06-.94-2.06-.94L8.5 2.5l-.94 2.06-2.06.94zm10 10l.94 2.06.94-2.06 2.06-.94-2.06-.94-.94-2.06-.94 2.06-2.06.94z\"/><path d=\"M17.41 7.96l-1.37-1.37c-.4-.4-.92-.59-1.43-.59-.52 0-1.04.2-1.43.59L10.3 9.45l-7.72 7.72c-.78.78-.78 2.05 0 2.83L4 21.41c.39.39.9.59 1.41.59.51 0 1.02-.2 1.41-.59l7.78-7.78 2.81-2.81c.8-.78.8-2.07 0-2.86zM5.41 20L4 18.59l7.72-7.72 1.47 1.35L5.41 20z\"/>\n",
              "  </svg>\n",
              "      </button>\n",
              "      \n",
              "  <style>\n",
              "    .colab-df-container {\n",
              "      display:flex;\n",
              "      flex-wrap:wrap;\n",
              "      gap: 12px;\n",
              "    }\n",
              "\n",
              "    .colab-df-convert {\n",
              "      background-color: #E8F0FE;\n",
              "      border: none;\n",
              "      border-radius: 50%;\n",
              "      cursor: pointer;\n",
              "      display: none;\n",
              "      fill: #1967D2;\n",
              "      height: 32px;\n",
              "      padding: 0 0 0 0;\n",
              "      width: 32px;\n",
              "    }\n",
              "\n",
              "    .colab-df-convert:hover {\n",
              "      background-color: #E2EBFA;\n",
              "      box-shadow: 0px 1px 2px rgba(60, 64, 67, 0.3), 0px 1px 3px 1px rgba(60, 64, 67, 0.15);\n",
              "      fill: #174EA6;\n",
              "    }\n",
              "\n",
              "    [theme=dark] .colab-df-convert {\n",
              "      background-color: #3B4455;\n",
              "      fill: #D2E3FC;\n",
              "    }\n",
              "\n",
              "    [theme=dark] .colab-df-convert:hover {\n",
              "      background-color: #434B5C;\n",
              "      box-shadow: 0px 1px 3px 1px rgba(0, 0, 0, 0.15);\n",
              "      filter: drop-shadow(0px 1px 2px rgba(0, 0, 0, 0.3));\n",
              "      fill: #FFFFFF;\n",
              "    }\n",
              "  </style>\n",
              "\n",
              "      <script>\n",
              "        const buttonEl =\n",
              "          document.querySelector('#df-9ede2b81-da02-4c59-a189-fff7a6ca3392 button.colab-df-convert');\n",
              "        buttonEl.style.display =\n",
              "          google.colab.kernel.accessAllowed ? 'block' : 'none';\n",
              "\n",
              "        async function convertToInteractive(key) {\n",
              "          const element = document.querySelector('#df-9ede2b81-da02-4c59-a189-fff7a6ca3392');\n",
              "          const dataTable =\n",
              "            await google.colab.kernel.invokeFunction('convertToInteractive',\n",
              "                                                     [key], {});\n",
              "          if (!dataTable) return;\n",
              "\n",
              "          const docLinkHtml = 'Like what you see? Visit the ' +\n",
              "            '<a target=\"_blank\" href=https://colab.research.google.com/notebooks/data_table.ipynb>data table notebook</a>'\n",
              "            + ' to learn more about interactive tables.';\n",
              "          element.innerHTML = '';\n",
              "          dataTable['output_type'] = 'display_data';\n",
              "          await google.colab.output.renderOutput(dataTable, element);\n",
              "          const docLink = document.createElement('div');\n",
              "          docLink.innerHTML = docLinkHtml;\n",
              "          element.appendChild(docLink);\n",
              "        }\n",
              "      </script>\n",
              "    </div>\n",
              "  </div>\n",
              "  "
            ]
          },
          "metadata": {},
          "execution_count": 28
        }
      ]
    },
    {
      "cell_type": "markdown",
      "source": [
        "## export csv for the top rated movie(by weight_average) for each genre"
      ],
      "metadata": {
        "id": "iZjD4G9eDNWc"
      }
    },
    {
      "cell_type": "code",
      "source": [
        "top_rated_genre.to_csv('/content/drive/MyDrive/2209-Data/Projets/Projet2/MMA/00_CSV_files/2022_10_31_top_rated_movie_per_genre.csv',sep=',',index=False)"
      ],
      "metadata": {
        "id": "RMKdHmAaDU9_"
      },
      "execution_count": null,
      "outputs": []
    },
    {
      "cell_type": "markdown",
      "source": [
        "## Average movie duration per genre"
      ],
      "metadata": {
        "id": "DjbXG8lf-A7O"
      }
    },
    {
      "cell_type": "code",
      "source": [
        "df_avg_duration_genres = df_ourmovies_rating.groupby('genres').runtimeMinutes.mean()"
      ],
      "metadata": {
        "id": "ywZbRzs79ekC"
      },
      "execution_count": null,
      "outputs": []
    },
    {
      "cell_type": "code",
      "source": [
        "print(df_avg_duration_genres)"
      ],
      "metadata": {
        "colab": {
          "base_uri": "https://localhost:8080/"
        },
        "id": "Yacuo3xc-Uux",
        "outputId": "e56c8476-0c82-4424-e704-f4e7cfb5e337"
      },
      "execution_count": null,
      "outputs": [
        {
          "output_type": "stream",
          "name": "stdout",
          "text": [
            "genres\n",
            "Action       101.666667\n",
            "Adventure     94.983093\n",
            "Animation     80.804196\n",
            "Comedy        95.048610\n",
            "Crime         99.434187\n",
            "Drama        101.221017\n",
            "Family        94.349562\n",
            "Fantasy       94.121547\n",
            "Horror        90.902487\n",
            "Mystery       98.769448\n",
            "Romance      103.046749\n",
            "Sci-Fi        92.190547\n",
            "Thriller      97.925428\n",
            "War          103.648609\n",
            "Name: runtimeMinutes, dtype: float64\n"
          ]
        }
      ]
    },
    {
      "cell_type": "markdown",
      "source": [
        "## export csv for average movie duration per genre"
      ],
      "metadata": {
        "id": "kfAgmSAP-gdn"
      }
    },
    {
      "cell_type": "code",
      "source": [
        "df_avg_duration_genres.to_csv('/content/drive/MyDrive/2209-Data/Projets/Projet2/MMA/00_CSV_files/2022_10_31_avg_duration_genres.csv',sep=',',index=False)"
      ],
      "metadata": {
        "id": "ZiNnLqEN-lzC"
      },
      "execution_count": null,
      "outputs": []
    }
  ]
}