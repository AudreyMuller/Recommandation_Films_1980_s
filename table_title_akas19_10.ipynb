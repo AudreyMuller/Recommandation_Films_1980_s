{
  "cells": [
    {
      "cell_type": "markdown",
      "metadata": {
        "id": "view-in-github",
        "colab_type": "text"
      },
      "source": [
        "<a href=\"https://colab.research.google.com/github/AudreyMuller/Recommandation_Films_1980_s/blob/Maria/table_title_akas19_10.ipynb\" target=\"_parent\"><img src=\"https://colab.research.google.com/assets/colab-badge.svg\" alt=\"Open In Colab\"/></a>"
      ]
    },
    {
      "cell_type": "markdown",
      "metadata": {
        "id": "ViMeG8jOMK3k"
      },
      "source": [
        "We can use a **group by** to display the titles per region\n",
        "So that way we can see which titles where used in which regions\n"
      ]
    },
    {
      "cell_type": "code",
      "execution_count": null,
      "metadata": {
        "colab": {
          "base_uri": "https://localhost:8080/"
        },
        "id": "t1MyduOO_5tS",
        "outputId": "ed0f1cb6-93db-479f-adb1-6a2e85d0f733"
      },
      "outputs": [
        {
          "output_type": "stream",
          "name": "stdout",
          "text": [
            "Drive already mounted at /content/drive/; to attempt to forcibly remount, call drive.mount(\"/content/drive/\", force_remount=True).\n"
          ]
        }
      ],
      "source": [
        "import pandas as pd\n",
        "\n",
        "from google.colab import drive\n",
        "drive.mount('/content/drive/')\n"
      ]
    },
    {
      "cell_type": "markdown",
      "metadata": {
        "id": "aPCns83TMW8U"
      },
      "source": [
        "## READ CSV"
      ]
    },
    {
      "cell_type": "code",
      "execution_count": null,
      "metadata": {
        "id": "3Ec15NPMAamV",
        "colab": {
          "base_uri": "https://localhost:8080/"
        },
        "outputId": "fe42acc1-d1f1-496e-ffc3-15b9b8fd6e8a"
      },
      "outputs": [
        {
          "output_type": "stream",
          "name": "stderr",
          "text": [
            "/usr/local/lib/python3.7/dist-packages/IPython/core/interactiveshell.py:3326: DtypeWarning: Columns (7) have mixed types.Specify dtype option on import or set low_memory=False.\n",
            "  exec(code_obj, self.user_global_ns, self.user_ns)\n"
          ]
        }
      ],
      "source": [
        "df_akas=pd.read_csv('https://datasets.imdbws.com/title.akas.tsv.gz',sep='\\t')"
      ]
    },
    {
      "cell_type": "markdown",
      "metadata": {
        "id": "6XCedzrQM6i6"
      },
      "source": [
        "## REPLACE \\N and DROP LINES \\N"
      ]
    },
    {
      "cell_type": "code",
      "execution_count": null,
      "metadata": {
        "id": "VRJTMpHtbmnw"
      },
      "outputs": [],
      "source": [
        "## Remplace the \\N by None \n",
        "df_akas.replace({r'\\N': None},inplace =True)"
      ]
    },
    {
      "cell_type": "code",
      "execution_count": null,
      "metadata": {
        "id": "cSCRkxKDeYPU"
      },
      "outputs": [],
      "source": [
        "#drop \\N in some columns\n",
        "df_akas.dropna(how = 'all',subset = ['title','region','language','types','isOriginalTitle'], inplace=True)\n"
      ]
    },
    {
      "cell_type": "code",
      "execution_count": null,
      "metadata": {
        "id": "w-TsFZ1dpxPE"
      },
      "outputs": [],
      "source": [
        "del df_akas['attributes']"
      ]
    },
    {
      "cell_type": "code",
      "source": [
        "del df_akas['isOriginalTitle']"
      ],
      "metadata": {
        "id": "zLjPJN7rn2EC"
      },
      "execution_count": null,
      "outputs": []
    },
    {
      "cell_type": "code",
      "source": [
        "del df_akas['types']"
      ],
      "metadata": {
        "id": "Y9c3CRMLoZi3"
      },
      "execution_count": null,
      "outputs": []
    },
    {
      "cell_type": "code",
      "source": [
        "df_akas.info()"
      ],
      "metadata": {
        "colab": {
          "base_uri": "https://localhost:8080/"
        },
        "id": "gqCBdR2FoQdg",
        "outputId": "bcff571e-2833-49f0-afc7-10f2a8538a5f"
      },
      "execution_count": null,
      "outputs": [
        {
          "output_type": "stream",
          "name": "stdout",
          "text": [
            "<class 'pandas.core.frame.DataFrame'>\n",
            "Int64Index: 33616065 entries, 0 to 33616064\n",
            "Data columns (total 5 columns):\n",
            " #   Column    Dtype \n",
            "---  ------    ----- \n",
            " 0   titleId   object\n",
            " 1   ordering  int64 \n",
            " 2   title     object\n",
            " 3   region    object\n",
            " 4   language  object\n",
            "dtypes: int64(1), object(4)\n",
            "memory usage: 1.5+ GB\n"
          ]
        }
      ]
    },
    {
      "cell_type": "markdown",
      "metadata": {
        "id": "jgpvvcuAwaPE"
      },
      "source": [
        "## We decided to keep the movies that their title is in FR, EN or the 'isOriginalTitle' = TRUE"
      ]
    },
    {
      "cell_type": "code",
      "source": [
        "condition= df_akas.region.isin(['US', 'FR','GB'])\n",
        "df_region_filtered = df_akas[condition]\n",
        "print(df_region_filtered.head(20).to_markdown())"
      ],
      "metadata": {
        "colab": {
          "base_uri": "https://localhost:8080/"
        },
        "id": "xGTG78y8osYg",
        "outputId": "7689e90f-c01a-4292-b728-4bb3b436f01e"
      },
      "execution_count": null,
      "outputs": [
        {
          "output_type": "stream",
          "name": "stdout",
          "text": [
            "|    | titleId   |   ordering | title                                                     | region   | language   |\n",
            "|---:|:----------|-----------:|:----------------------------------------------------------|:---------|:-----------|\n",
            "|  5 | tt0000001 |          6 | Carmencita                                                | US       |            |\n",
            "|  9 | tt0000002 |          2 | Le clown et ses chiens                                    | FR       |            |\n",
            "| 14 | tt0000002 |          7 | The Clown and His Dogs                                    | US       |            |\n",
            "| 22 | tt0000003 |          7 | Poor Pierrot                                              | GB       |            |\n",
            "| 23 | tt0000003 |          8 | Pauvre Pierrot                                            | FR       |            |\n",
            "| 26 | tt0000004 |          2 | Un bon bock                                               | FR       |            |\n",
            "| 33 | tt0000005 |         10 | Blacksmith Scene                                          | US       |            |\n",
            "| 35 | tt0000005 |         12 | The Blacksmith's Forge                                    | GB       |            |\n",
            "| 36 | tt0000005 |          1 | Blacksmithing Scene                                       | US       |            |\n",
            "| 40 | tt0000005 |          5 | Blacksmith Shop                                           | GB       |            |\n",
            "| 41 | tt0000005 |          6 | Blacksmith Scene #1                                       | US       |            |\n",
            "| 42 | tt0000005 |          7 | Blacksmithing                                             | US       |            |\n",
            "| 47 | tt0000006 |          3 | Chinese Opium Den                                         | US       |            |\n",
            "| 51 | tt0000007 |          1 | Corbett and Courtney Before the Kinetograph               | US       |            |\n",
            "| 55 | tt0000007 |          5 | The Corbett-Courtney Fight                                | US       |            |\n",
            "| 56 | tt0000007 |          6 | Jim Corbett vs. Peter Courtney                            | US       |            |\n",
            "| 64 | tt0000008 |          3 | Edison Kinetoscopic Record of a Sneeze, January 7, 1894   | US       |            |\n",
            "| 65 | tt0000008 |          4 | Edison Kinetoscopic Record of a Sneeze                    | US       |            |\n",
            "| 69 | tt0000008 |          8 | The Films of Thomas A Edison presented by Raymond Rohauer | US       |            |\n",
            "| 74 | tt0000009 |          4 | Miss Jerry                                                | US       |            |\n"
          ]
        }
      ]
    },
    {
      "cell_type": "code",
      "source": [
        "df_region_filtered.sort_values(['titleId', 'region'],ascending = [True, False],inplace = True)\n"
      ],
      "metadata": {
        "colab": {
          "base_uri": "https://localhost:8080/"
        },
        "id": "370qqD6DpGEI",
        "outputId": "65cb3e59-b7b5-4303-8f5a-77ce86b7b166"
      },
      "execution_count": null,
      "outputs": [
        {
          "output_type": "stream",
          "name": "stderr",
          "text": [
            "/usr/local/lib/python3.7/dist-packages/pandas/util/_decorators.py:311: SettingWithCopyWarning: \n",
            "A value is trying to be set on a copy of a slice from a DataFrame\n",
            "\n",
            "See the caveats in the documentation: https://pandas.pydata.org/pandas-docs/stable/user_guide/indexing.html#returning-a-view-versus-a-copy\n",
            "  return func(*args, **kwargs)\n"
          ]
        }
      ]
    },
    {
      "cell_type": "code",
      "source": [
        "df_region_filtered['region'].value_counts()"
      ],
      "metadata": {
        "colab": {
          "base_uri": "https://localhost:8080/"
        },
        "id": "q_ju8rNApiEz",
        "outputId": "5dff07c7-a2ec-4b1a-807f-5e45c3981082"
      },
      "execution_count": null,
      "outputs": [
        {
          "output_type": "execute_result",
          "data": {
            "text/plain": [
              "FR    4011959\n",
              "US    1362165\n",
              "GB     422822\n",
              "Name: region, dtype: int64"
            ]
          },
          "metadata": {},
          "execution_count": 34
        }
      ]
    },
    {
      "cell_type": "code",
      "source": [
        "df_akas_region=df_region_filtered.drop_duplicates(subset = 'titleId')"
      ],
      "metadata": {
        "id": "Omm4BvJbpoJB"
      },
      "execution_count": null,
      "outputs": []
    },
    {
      "cell_type": "code",
      "source": [
        "df_akas_region['region'].value_counts()"
      ],
      "metadata": {
        "colab": {
          "base_uri": "https://localhost:8080/"
        },
        "id": "k-YELEWErjnT",
        "outputId": "60625bce-daef-4968-b66b-09601d832f25"
      },
      "execution_count": null,
      "outputs": [
        {
          "output_type": "execute_result",
          "data": {
            "text/plain": [
              "FR    3915639\n",
              "US    1282476\n",
              "GB     238571\n",
              "Name: region, dtype: int64"
            ]
          },
          "metadata": {},
          "execution_count": 36
        }
      ]
    },
    {
      "cell_type": "code",
      "source": [
        "del df_akas_region['language']"
      ],
      "metadata": {
        "id": "BqPEFCtpsh7a"
      },
      "execution_count": null,
      "outputs": []
    },
    {
      "cell_type": "code",
      "source": [
        "del df_akas_region['ordering']"
      ],
      "metadata": {
        "id": "F1wlCujMugOS"
      },
      "execution_count": null,
      "outputs": []
    },
    {
      "cell_type": "code",
      "execution_count": null,
      "metadata": {
        "id": "iIb-Sw1xq6P2"
      },
      "outputs": [],
      "source": [
        "df_akas_region.to_csv('/content/drive/MyDrive/2209-Data/Projets/Projet2/MMA/2022_10_25_database_AKAS_region.csv',sep=';')"
      ]
    }
  ],
  "metadata": {
    "colab": {
      "provenance": [],
      "collapsed_sections": [],
      "authorship_tag": "ABX9TyPg72bx6YXthE86Y4Bjszq0",
      "include_colab_link": true
    },
    "kernelspec": {
      "display_name": "Python 3",
      "name": "python3"
    },
    "language_info": {
      "name": "python"
    }
  },
  "nbformat": 4,
  "nbformat_minor": 0
}