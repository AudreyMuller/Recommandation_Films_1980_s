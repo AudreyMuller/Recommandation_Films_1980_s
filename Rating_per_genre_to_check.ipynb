{
  "nbformat": 4,
  "nbformat_minor": 0,
  "metadata": {
    "colab": {
      "provenance": [],
      "collapsed_sections": [],
      "include_colab_link": true
    },
    "kernelspec": {
      "name": "python3",
      "display_name": "Python 3"
    },
    "language_info": {
      "name": "python"
    }
  },
  "cells": [
    {
      "cell_type": "markdown",
      "metadata": {
        "id": "view-in-github",
        "colab_type": "text"
      },
      "source": [
        "<a href=\"https://colab.research.google.com/github/AudreyMuller/Recommandation_Films_1980_s/blob/Maria/Rating_per_genre_to_check.ipynb\" target=\"_parent\"><img src=\"https://colab.research.google.com/assets/colab-badge.svg\" alt=\"Open In Colab\"/></a>"
      ]
    },
    {
      "cell_type": "code",
      "execution_count": 1,
      "metadata": {
        "colab": {
          "base_uri": "https://localhost:8080/"
        },
        "id": "Wgfxaxkwqy25",
        "outputId": "f992f1f2-1b30-4960-8d5b-7799a2de9eb9"
      },
      "outputs": [
        {
          "output_type": "stream",
          "name": "stdout",
          "text": [
            "Mounted at /content/drive/\n"
          ]
        }
      ],
      "source": [
        "import pandas as pd\n",
        "\n",
        "from google.colab import drive\n",
        "drive.mount('/content/drive/')"
      ]
    },
    {
      "cell_type": "markdown",
      "source": [
        "#read CSV"
      ],
      "metadata": {
        "id": "9MpwxZx-zFiA"
      }
    },
    {
      "cell_type": "code",
      "source": [
        "df_1980_movie=pd.read_csv(\"/content/drive/MyDrive/2209-Data/Projets/Projet2/MMA/00_CSV_files/2022_10_25_database_AKAS_region_BASICS.csv\",sep=';')"
      ],
      "metadata": {
        "id": "8nGMoXITrK6K"
      },
      "execution_count": 2,
      "outputs": []
    },
    {
      "cell_type": "code",
      "source": [
        "df_1980_movie.info()"
      ],
      "metadata": {
        "colab": {
          "base_uri": "https://localhost:8080/"
        },
        "id": "0P1VITt4sGV6",
        "outputId": "8be06a8d-fc9f-47b6-aafe-30c786704886"
      },
      "execution_count": 3,
      "outputs": [
        {
          "output_type": "stream",
          "name": "stdout",
          "text": [
            "<class 'pandas.core.frame.DataFrame'>\n",
            "RangeIndex: 11145 entries, 0 to 11144\n",
            "Data columns (total 8 columns):\n",
            " #   Column          Non-Null Count  Dtype  \n",
            "---  ------          --------------  -----  \n",
            " 0   Unnamed: 0      11145 non-null  int64  \n",
            " 1   tconst          11145 non-null  object \n",
            " 2   primaryTitle    11145 non-null  object \n",
            " 3   originalTitle   11145 non-null  object \n",
            " 4   startYear       11145 non-null  int64  \n",
            " 5   runtimeMinutes  10561 non-null  float64\n",
            " 6   genres          11145 non-null  object \n",
            " 7   region          11145 non-null  object \n",
            "dtypes: float64(1), int64(2), object(5)\n",
            "memory usage: 696.7+ KB\n"
          ]
        }
      ]
    },
    {
      "cell_type": "code",
      "source": [
        "df_Rating=pd.read_csv(\"https://datasets.imdbws.com/title.ratings.tsv.gz\",sep='\\t')"
      ],
      "metadata": {
        "id": "bmDROw4PrZiA"
      },
      "execution_count": 9,
      "outputs": []
    },
    {
      "cell_type": "markdown",
      "source": [
        "#Keep 'Tconst' in Ratings that also in the 1980's Movies CSV"
      ],
      "metadata": {
        "id": "x-Wfje3PzKJe"
      }
    },
    {
      "cell_type": "code",
      "source": [
        "df_Rating=df_Rating[df_Rating['tconst'].isin(df_1980_movie['tconst'])]"
      ],
      "metadata": {
        "id": "2Nzy9B_pr_8B"
      },
      "execution_count": 10,
      "outputs": []
    },
    {
      "cell_type": "markdown",
      "source": [
        "#Merge the 2 Dataframe.\n",
        "To add the averagerating & nomVote in the 1980's Movies CSV"
      ],
      "metadata": {
        "id": "WY37zq1ozbf4"
      }
    },
    {
      "cell_type": "code",
      "source": [
        "df_movie_1980_rating=df_1980_movie.merge(df_Rating, on='tconst',how='left')"
      ],
      "metadata": {
        "id": "QbJ7Tkudtp_R"
      },
      "execution_count": 11,
      "outputs": []
    },
    {
      "cell_type": "code",
      "source": [
        "df_movie_1980_rating"
      ],
      "metadata": {
        "colab": {
          "base_uri": "https://localhost:8080/",
          "height": 424
        },
        "id": "iUxEJ6JMv97_",
        "outputId": "51ad0cf5-5b67-4770-d06d-94521e85f217"
      },
      "execution_count": 12,
      "outputs": [
        {
          "output_type": "execute_result",
          "data": {
            "text/plain": [
              "       Unnamed: 0     tconst                           primaryTitle  \\\n",
              "0               0  tt0036606            Another Time, Another Place   \n",
              "1               1  tt0038687                     Let There Be Light   \n",
              "2               2  tt0062181                           Rece do góry   \n",
              "3               3  tt0064820                 The Plot Against Harry   \n",
              "4               4  tt0065530                 Le cercle des passions   \n",
              "...           ...        ...                                    ...   \n",
              "11140       11140  tt9828802                      Vaya luna de miel   \n",
              "11141       11141  tt9843632  We Didn't Know Love During First Love   \n",
              "11142       11142  tt9844604                              Séduction   \n",
              "11143       11143  tt9855210                      An Actress' Dream   \n",
              "11144       11144  tt9899972                      Spring Comes Late   \n",
              "\n",
              "                              originalTitle  startYear  runtimeMinutes  \\\n",
              "0               Another Time, Another Place       1983           118.0   \n",
              "1                        Let There Be Light       1980            58.0   \n",
              "2                              Rece do góry       1981            76.0   \n",
              "3                    The Plot Against Harry       1989            81.0   \n",
              "4                    Le cercle des passions       1983           108.0   \n",
              "...                                     ...        ...             ...   \n",
              "11140                     Vaya luna de miel       1980            93.0   \n",
              "11141  Chu lian shi, wo men bu dong ai qing       1987            98.0   \n",
              "11142                             Séduction       1984            70.0   \n",
              "11143             Yi ge nü yan yuan de meng       1985            91.0   \n",
              "11144                  Chi dao de chun tian       1980            81.0   \n",
              "\n",
              "                        genres region  averageRating  numVotes  \n",
              "0             ['Drama', 'War']     US            6.5     326.0  \n",
              "1       ['Documentary', 'War']     US            7.5    1893.0  \n",
              "2                    ['Drama']     FR            6.6     357.0  \n",
              "3          ['Comedy', 'Crime']     US            6.9     334.0  \n",
              "4                    ['Drama']     FR            6.8      56.0  \n",
              "...                        ...    ...            ...       ...  \n",
              "11140  ['Adventure', 'Comedy']     US            5.9      53.0  \n",
              "11141     ['Drama', 'Romance']     US            NaN       NaN  \n",
              "11142                ['Drama']     FR            NaN       NaN  \n",
              "11143       ['Crime', 'Drama']     US            7.8       5.0  \n",
              "11144                ['Drama']     US            NaN       NaN  \n",
              "\n",
              "[11145 rows x 10 columns]"
            ],
            "text/html": [
              "\n",
              "  <div id=\"df-b39c1018-98aa-499f-a118-1041cd0e07f4\">\n",
              "    <div class=\"colab-df-container\">\n",
              "      <div>\n",
              "<style scoped>\n",
              "    .dataframe tbody tr th:only-of-type {\n",
              "        vertical-align: middle;\n",
              "    }\n",
              "\n",
              "    .dataframe tbody tr th {\n",
              "        vertical-align: top;\n",
              "    }\n",
              "\n",
              "    .dataframe thead th {\n",
              "        text-align: right;\n",
              "    }\n",
              "</style>\n",
              "<table border=\"1\" class=\"dataframe\">\n",
              "  <thead>\n",
              "    <tr style=\"text-align: right;\">\n",
              "      <th></th>\n",
              "      <th>Unnamed: 0</th>\n",
              "      <th>tconst</th>\n",
              "      <th>primaryTitle</th>\n",
              "      <th>originalTitle</th>\n",
              "      <th>startYear</th>\n",
              "      <th>runtimeMinutes</th>\n",
              "      <th>genres</th>\n",
              "      <th>region</th>\n",
              "      <th>averageRating</th>\n",
              "      <th>numVotes</th>\n",
              "    </tr>\n",
              "  </thead>\n",
              "  <tbody>\n",
              "    <tr>\n",
              "      <th>0</th>\n",
              "      <td>0</td>\n",
              "      <td>tt0036606</td>\n",
              "      <td>Another Time, Another Place</td>\n",
              "      <td>Another Time, Another Place</td>\n",
              "      <td>1983</td>\n",
              "      <td>118.0</td>\n",
              "      <td>['Drama', 'War']</td>\n",
              "      <td>US</td>\n",
              "      <td>6.5</td>\n",
              "      <td>326.0</td>\n",
              "    </tr>\n",
              "    <tr>\n",
              "      <th>1</th>\n",
              "      <td>1</td>\n",
              "      <td>tt0038687</td>\n",
              "      <td>Let There Be Light</td>\n",
              "      <td>Let There Be Light</td>\n",
              "      <td>1980</td>\n",
              "      <td>58.0</td>\n",
              "      <td>['Documentary', 'War']</td>\n",
              "      <td>US</td>\n",
              "      <td>7.5</td>\n",
              "      <td>1893.0</td>\n",
              "    </tr>\n",
              "    <tr>\n",
              "      <th>2</th>\n",
              "      <td>2</td>\n",
              "      <td>tt0062181</td>\n",
              "      <td>Rece do góry</td>\n",
              "      <td>Rece do góry</td>\n",
              "      <td>1981</td>\n",
              "      <td>76.0</td>\n",
              "      <td>['Drama']</td>\n",
              "      <td>FR</td>\n",
              "      <td>6.6</td>\n",
              "      <td>357.0</td>\n",
              "    </tr>\n",
              "    <tr>\n",
              "      <th>3</th>\n",
              "      <td>3</td>\n",
              "      <td>tt0064820</td>\n",
              "      <td>The Plot Against Harry</td>\n",
              "      <td>The Plot Against Harry</td>\n",
              "      <td>1989</td>\n",
              "      <td>81.0</td>\n",
              "      <td>['Comedy', 'Crime']</td>\n",
              "      <td>US</td>\n",
              "      <td>6.9</td>\n",
              "      <td>334.0</td>\n",
              "    </tr>\n",
              "    <tr>\n",
              "      <th>4</th>\n",
              "      <td>4</td>\n",
              "      <td>tt0065530</td>\n",
              "      <td>Le cercle des passions</td>\n",
              "      <td>Le cercle des passions</td>\n",
              "      <td>1983</td>\n",
              "      <td>108.0</td>\n",
              "      <td>['Drama']</td>\n",
              "      <td>FR</td>\n",
              "      <td>6.8</td>\n",
              "      <td>56.0</td>\n",
              "    </tr>\n",
              "    <tr>\n",
              "      <th>...</th>\n",
              "      <td>...</td>\n",
              "      <td>...</td>\n",
              "      <td>...</td>\n",
              "      <td>...</td>\n",
              "      <td>...</td>\n",
              "      <td>...</td>\n",
              "      <td>...</td>\n",
              "      <td>...</td>\n",
              "      <td>...</td>\n",
              "      <td>...</td>\n",
              "    </tr>\n",
              "    <tr>\n",
              "      <th>11140</th>\n",
              "      <td>11140</td>\n",
              "      <td>tt9828802</td>\n",
              "      <td>Vaya luna de miel</td>\n",
              "      <td>Vaya luna de miel</td>\n",
              "      <td>1980</td>\n",
              "      <td>93.0</td>\n",
              "      <td>['Adventure', 'Comedy']</td>\n",
              "      <td>US</td>\n",
              "      <td>5.9</td>\n",
              "      <td>53.0</td>\n",
              "    </tr>\n",
              "    <tr>\n",
              "      <th>11141</th>\n",
              "      <td>11141</td>\n",
              "      <td>tt9843632</td>\n",
              "      <td>We Didn't Know Love During First Love</td>\n",
              "      <td>Chu lian shi, wo men bu dong ai qing</td>\n",
              "      <td>1987</td>\n",
              "      <td>98.0</td>\n",
              "      <td>['Drama', 'Romance']</td>\n",
              "      <td>US</td>\n",
              "      <td>NaN</td>\n",
              "      <td>NaN</td>\n",
              "    </tr>\n",
              "    <tr>\n",
              "      <th>11142</th>\n",
              "      <td>11142</td>\n",
              "      <td>tt9844604</td>\n",
              "      <td>Séduction</td>\n",
              "      <td>Séduction</td>\n",
              "      <td>1984</td>\n",
              "      <td>70.0</td>\n",
              "      <td>['Drama']</td>\n",
              "      <td>FR</td>\n",
              "      <td>NaN</td>\n",
              "      <td>NaN</td>\n",
              "    </tr>\n",
              "    <tr>\n",
              "      <th>11143</th>\n",
              "      <td>11143</td>\n",
              "      <td>tt9855210</td>\n",
              "      <td>An Actress' Dream</td>\n",
              "      <td>Yi ge nü yan yuan de meng</td>\n",
              "      <td>1985</td>\n",
              "      <td>91.0</td>\n",
              "      <td>['Crime', 'Drama']</td>\n",
              "      <td>US</td>\n",
              "      <td>7.8</td>\n",
              "      <td>5.0</td>\n",
              "    </tr>\n",
              "    <tr>\n",
              "      <th>11144</th>\n",
              "      <td>11144</td>\n",
              "      <td>tt9899972</td>\n",
              "      <td>Spring Comes Late</td>\n",
              "      <td>Chi dao de chun tian</td>\n",
              "      <td>1980</td>\n",
              "      <td>81.0</td>\n",
              "      <td>['Drama']</td>\n",
              "      <td>US</td>\n",
              "      <td>NaN</td>\n",
              "      <td>NaN</td>\n",
              "    </tr>\n",
              "  </tbody>\n",
              "</table>\n",
              "<p>11145 rows × 10 columns</p>\n",
              "</div>\n",
              "      <button class=\"colab-df-convert\" onclick=\"convertToInteractive('df-b39c1018-98aa-499f-a118-1041cd0e07f4')\"\n",
              "              title=\"Convert this dataframe to an interactive table.\"\n",
              "              style=\"display:none;\">\n",
              "        \n",
              "  <svg xmlns=\"http://www.w3.org/2000/svg\" height=\"24px\"viewBox=\"0 0 24 24\"\n",
              "       width=\"24px\">\n",
              "    <path d=\"M0 0h24v24H0V0z\" fill=\"none\"/>\n",
              "    <path d=\"M18.56 5.44l.94 2.06.94-2.06 2.06-.94-2.06-.94-.94-2.06-.94 2.06-2.06.94zm-11 1L8.5 8.5l.94-2.06 2.06-.94-2.06-.94L8.5 2.5l-.94 2.06-2.06.94zm10 10l.94 2.06.94-2.06 2.06-.94-2.06-.94-.94-2.06-.94 2.06-2.06.94z\"/><path d=\"M17.41 7.96l-1.37-1.37c-.4-.4-.92-.59-1.43-.59-.52 0-1.04.2-1.43.59L10.3 9.45l-7.72 7.72c-.78.78-.78 2.05 0 2.83L4 21.41c.39.39.9.59 1.41.59.51 0 1.02-.2 1.41-.59l7.78-7.78 2.81-2.81c.8-.78.8-2.07 0-2.86zM5.41 20L4 18.59l7.72-7.72 1.47 1.35L5.41 20z\"/>\n",
              "  </svg>\n",
              "      </button>\n",
              "      \n",
              "  <style>\n",
              "    .colab-df-container {\n",
              "      display:flex;\n",
              "      flex-wrap:wrap;\n",
              "      gap: 12px;\n",
              "    }\n",
              "\n",
              "    .colab-df-convert {\n",
              "      background-color: #E8F0FE;\n",
              "      border: none;\n",
              "      border-radius: 50%;\n",
              "      cursor: pointer;\n",
              "      display: none;\n",
              "      fill: #1967D2;\n",
              "      height: 32px;\n",
              "      padding: 0 0 0 0;\n",
              "      width: 32px;\n",
              "    }\n",
              "\n",
              "    .colab-df-convert:hover {\n",
              "      background-color: #E2EBFA;\n",
              "      box-shadow: 0px 1px 2px rgba(60, 64, 67, 0.3), 0px 1px 3px 1px rgba(60, 64, 67, 0.15);\n",
              "      fill: #174EA6;\n",
              "    }\n",
              "\n",
              "    [theme=dark] .colab-df-convert {\n",
              "      background-color: #3B4455;\n",
              "      fill: #D2E3FC;\n",
              "    }\n",
              "\n",
              "    [theme=dark] .colab-df-convert:hover {\n",
              "      background-color: #434B5C;\n",
              "      box-shadow: 0px 1px 3px 1px rgba(0, 0, 0, 0.15);\n",
              "      filter: drop-shadow(0px 1px 2px rgba(0, 0, 0, 0.3));\n",
              "      fill: #FFFFFF;\n",
              "    }\n",
              "  </style>\n",
              "\n",
              "      <script>\n",
              "        const buttonEl =\n",
              "          document.querySelector('#df-b39c1018-98aa-499f-a118-1041cd0e07f4 button.colab-df-convert');\n",
              "        buttonEl.style.display =\n",
              "          google.colab.kernel.accessAllowed ? 'block' : 'none';\n",
              "\n",
              "        async function convertToInteractive(key) {\n",
              "          const element = document.querySelector('#df-b39c1018-98aa-499f-a118-1041cd0e07f4');\n",
              "          const dataTable =\n",
              "            await google.colab.kernel.invokeFunction('convertToInteractive',\n",
              "                                                     [key], {});\n",
              "          if (!dataTable) return;\n",
              "\n",
              "          const docLinkHtml = 'Like what you see? Visit the ' +\n",
              "            '<a target=\"_blank\" href=https://colab.research.google.com/notebooks/data_table.ipynb>data table notebook</a>'\n",
              "            + ' to learn more about interactive tables.';\n",
              "          element.innerHTML = '';\n",
              "          dataTable['output_type'] = 'display_data';\n",
              "          await google.colab.output.renderOutput(dataTable, element);\n",
              "          const docLink = document.createElement('div');\n",
              "          docLink.innerHTML = docLinkHtml;\n",
              "          element.appendChild(docLink);\n",
              "        }\n",
              "      </script>\n",
              "    </div>\n",
              "  </div>\n",
              "  "
            ]
          },
          "metadata": {},
          "execution_count": 12
        }
      ]
    },
    {
      "cell_type": "code",
      "source": [
        "df_movie_1980_rating.drop(df_movie_1980_rating.filter(regex=\"Unname\"),axis=1, inplace=True)"
      ],
      "metadata": {
        "id": "n6Esah3pUVs9"
      },
      "execution_count": 13,
      "outputs": []
    },
    {
      "cell_type": "code",
      "source": [
        "# determine the top rated movie (by averageRating) for each genre\n",
        "df_movie_1980_rating.sort_values('averageRating', ascending=False).groupby('genres')['primaryTitle','averageRating'].first()"
      ],
      "metadata": {
        "id": "4ExZy3gGfQmb",
        "colab": {
          "base_uri": "https://localhost:8080/",
          "height": 490
        },
        "outputId": "04676c6c-3190-49ca-9fca-f74341df2435"
      },
      "execution_count": 14,
      "outputs": [
        {
          "output_type": "stream",
          "name": "stderr",
          "text": [
            "/usr/local/lib/python3.7/dist-packages/ipykernel_launcher.py:2: FutureWarning: Indexing with multiple keys (implicitly converted to a tuple of keys) will be deprecated, use a list instead.\n",
            "  \n"
          ]
        },
        {
          "output_type": "execute_result",
          "data": {
            "text/plain": [
              "                                                                           primaryTitle  \\\n",
              "genres                                                                                    \n",
              "['Action', 'Adventure', 'Animation']                     Macross: Do You Remember Love?   \n",
              "['Action', 'Adventure', 'Biography']                             Caligula and Messalina   \n",
              "['Action', 'Adventure', 'Comedy']                                    The Blues Brothers   \n",
              "['Action', 'Adventure', 'Crime']                                                  Shaan   \n",
              "['Action', 'Adventure', 'Drama']      Kamen Rider (Skyrider): Eight Riders vs. Galax...   \n",
              "...                                                                                 ...   \n",
              "['Sci-Fi', 'Thriller']                              The War of the Worlds: Next Century   \n",
              "['Sci-Fi', 'Western']                                                      Alien Outlaw   \n",
              "['Sci-Fi']                                Edgar Allan Poe's Plan 13: The House of Elvis   \n",
              "['Thriller']                                                                Post Mortem   \n",
              "['War']                                                    The Stars Are Bright Tonight   \n",
              "\n",
              "                                      averageRating  \n",
              "genres                                               \n",
              "['Action', 'Adventure', 'Animation']            7.7  \n",
              "['Action', 'Adventure', 'Biography']            3.5  \n",
              "['Action', 'Adventure', 'Comedy']               7.9  \n",
              "['Action', 'Adventure', 'Crime']                7.1  \n",
              "['Action', 'Adventure', 'Drama']                7.4  \n",
              "...                                             ...  \n",
              "['Sci-Fi', 'Thriller']                          6.9  \n",
              "['Sci-Fi', 'Western']                           3.0  \n",
              "['Sci-Fi']                                      8.9  \n",
              "['Thriller']                                    8.3  \n",
              "['War']                                         7.6  \n",
              "\n",
              "[494 rows x 2 columns]"
            ],
            "text/html": [
              "\n",
              "  <div id=\"df-23c52475-f9c7-4090-ab30-ef80459b433a\">\n",
              "    <div class=\"colab-df-container\">\n",
              "      <div>\n",
              "<style scoped>\n",
              "    .dataframe tbody tr th:only-of-type {\n",
              "        vertical-align: middle;\n",
              "    }\n",
              "\n",
              "    .dataframe tbody tr th {\n",
              "        vertical-align: top;\n",
              "    }\n",
              "\n",
              "    .dataframe thead th {\n",
              "        text-align: right;\n",
              "    }\n",
              "</style>\n",
              "<table border=\"1\" class=\"dataframe\">\n",
              "  <thead>\n",
              "    <tr style=\"text-align: right;\">\n",
              "      <th></th>\n",
              "      <th>primaryTitle</th>\n",
              "      <th>averageRating</th>\n",
              "    </tr>\n",
              "    <tr>\n",
              "      <th>genres</th>\n",
              "      <th></th>\n",
              "      <th></th>\n",
              "    </tr>\n",
              "  </thead>\n",
              "  <tbody>\n",
              "    <tr>\n",
              "      <th>['Action', 'Adventure', 'Animation']</th>\n",
              "      <td>Macross: Do You Remember Love?</td>\n",
              "      <td>7.7</td>\n",
              "    </tr>\n",
              "    <tr>\n",
              "      <th>['Action', 'Adventure', 'Biography']</th>\n",
              "      <td>Caligula and Messalina</td>\n",
              "      <td>3.5</td>\n",
              "    </tr>\n",
              "    <tr>\n",
              "      <th>['Action', 'Adventure', 'Comedy']</th>\n",
              "      <td>The Blues Brothers</td>\n",
              "      <td>7.9</td>\n",
              "    </tr>\n",
              "    <tr>\n",
              "      <th>['Action', 'Adventure', 'Crime']</th>\n",
              "      <td>Shaan</td>\n",
              "      <td>7.1</td>\n",
              "    </tr>\n",
              "    <tr>\n",
              "      <th>['Action', 'Adventure', 'Drama']</th>\n",
              "      <td>Kamen Rider (Skyrider): Eight Riders vs. Galax...</td>\n",
              "      <td>7.4</td>\n",
              "    </tr>\n",
              "    <tr>\n",
              "      <th>...</th>\n",
              "      <td>...</td>\n",
              "      <td>...</td>\n",
              "    </tr>\n",
              "    <tr>\n",
              "      <th>['Sci-Fi', 'Thriller']</th>\n",
              "      <td>The War of the Worlds: Next Century</td>\n",
              "      <td>6.9</td>\n",
              "    </tr>\n",
              "    <tr>\n",
              "      <th>['Sci-Fi', 'Western']</th>\n",
              "      <td>Alien Outlaw</td>\n",
              "      <td>3.0</td>\n",
              "    </tr>\n",
              "    <tr>\n",
              "      <th>['Sci-Fi']</th>\n",
              "      <td>Edgar Allan Poe's Plan 13: The House of Elvis</td>\n",
              "      <td>8.9</td>\n",
              "    </tr>\n",
              "    <tr>\n",
              "      <th>['Thriller']</th>\n",
              "      <td>Post Mortem</td>\n",
              "      <td>8.3</td>\n",
              "    </tr>\n",
              "    <tr>\n",
              "      <th>['War']</th>\n",
              "      <td>The Stars Are Bright Tonight</td>\n",
              "      <td>7.6</td>\n",
              "    </tr>\n",
              "  </tbody>\n",
              "</table>\n",
              "<p>494 rows × 2 columns</p>\n",
              "</div>\n",
              "      <button class=\"colab-df-convert\" onclick=\"convertToInteractive('df-23c52475-f9c7-4090-ab30-ef80459b433a')\"\n",
              "              title=\"Convert this dataframe to an interactive table.\"\n",
              "              style=\"display:none;\">\n",
              "        \n",
              "  <svg xmlns=\"http://www.w3.org/2000/svg\" height=\"24px\"viewBox=\"0 0 24 24\"\n",
              "       width=\"24px\">\n",
              "    <path d=\"M0 0h24v24H0V0z\" fill=\"none\"/>\n",
              "    <path d=\"M18.56 5.44l.94 2.06.94-2.06 2.06-.94-2.06-.94-.94-2.06-.94 2.06-2.06.94zm-11 1L8.5 8.5l.94-2.06 2.06-.94-2.06-.94L8.5 2.5l-.94 2.06-2.06.94zm10 10l.94 2.06.94-2.06 2.06-.94-2.06-.94-.94-2.06-.94 2.06-2.06.94z\"/><path d=\"M17.41 7.96l-1.37-1.37c-.4-.4-.92-.59-1.43-.59-.52 0-1.04.2-1.43.59L10.3 9.45l-7.72 7.72c-.78.78-.78 2.05 0 2.83L4 21.41c.39.39.9.59 1.41.59.51 0 1.02-.2 1.41-.59l7.78-7.78 2.81-2.81c.8-.78.8-2.07 0-2.86zM5.41 20L4 18.59l7.72-7.72 1.47 1.35L5.41 20z\"/>\n",
              "  </svg>\n",
              "      </button>\n",
              "      \n",
              "  <style>\n",
              "    .colab-df-container {\n",
              "      display:flex;\n",
              "      flex-wrap:wrap;\n",
              "      gap: 12px;\n",
              "    }\n",
              "\n",
              "    .colab-df-convert {\n",
              "      background-color: #E8F0FE;\n",
              "      border: none;\n",
              "      border-radius: 50%;\n",
              "      cursor: pointer;\n",
              "      display: none;\n",
              "      fill: #1967D2;\n",
              "      height: 32px;\n",
              "      padding: 0 0 0 0;\n",
              "      width: 32px;\n",
              "    }\n",
              "\n",
              "    .colab-df-convert:hover {\n",
              "      background-color: #E2EBFA;\n",
              "      box-shadow: 0px 1px 2px rgba(60, 64, 67, 0.3), 0px 1px 3px 1px rgba(60, 64, 67, 0.15);\n",
              "      fill: #174EA6;\n",
              "    }\n",
              "\n",
              "    [theme=dark] .colab-df-convert {\n",
              "      background-color: #3B4455;\n",
              "      fill: #D2E3FC;\n",
              "    }\n",
              "\n",
              "    [theme=dark] .colab-df-convert:hover {\n",
              "      background-color: #434B5C;\n",
              "      box-shadow: 0px 1px 3px 1px rgba(0, 0, 0, 0.15);\n",
              "      filter: drop-shadow(0px 1px 2px rgba(0, 0, 0, 0.3));\n",
              "      fill: #FFFFFF;\n",
              "    }\n",
              "  </style>\n",
              "\n",
              "      <script>\n",
              "        const buttonEl =\n",
              "          document.querySelector('#df-23c52475-f9c7-4090-ab30-ef80459b433a button.colab-df-convert');\n",
              "        buttonEl.style.display =\n",
              "          google.colab.kernel.accessAllowed ? 'block' : 'none';\n",
              "\n",
              "        async function convertToInteractive(key) {\n",
              "          const element = document.querySelector('#df-23c52475-f9c7-4090-ab30-ef80459b433a');\n",
              "          const dataTable =\n",
              "            await google.colab.kernel.invokeFunction('convertToInteractive',\n",
              "                                                     [key], {});\n",
              "          if (!dataTable) return;\n",
              "\n",
              "          const docLinkHtml = 'Like what you see? Visit the ' +\n",
              "            '<a target=\"_blank\" href=https://colab.research.google.com/notebooks/data_table.ipynb>data table notebook</a>'\n",
              "            + ' to learn more about interactive tables.';\n",
              "          element.innerHTML = '';\n",
              "          dataTable['output_type'] = 'display_data';\n",
              "          await google.colab.output.renderOutput(dataTable, element);\n",
              "          const docLink = document.createElement('div');\n",
              "          docLink.innerHTML = docLinkHtml;\n",
              "          element.appendChild(docLink);\n",
              "        }\n",
              "      </script>\n",
              "    </div>\n",
              "  </div>\n",
              "  "
            ]
          },
          "metadata": {},
          "execution_count": 14
        }
      ]
    },
    {
      "cell_type": "code",
      "source": [
        "# visualize the relationship between averageRating and runtimeMinutes\n",
        "df_movie_1980_rating.boxplot(column='runtimeMinutes', by='averageRating')\n",
        "df_movie_1980_rating.runtimeMinutes.hist(by=df_movie_1980_rating.averageRating, sharex=True)"
      ],
      "metadata": {
        "id": "R2wCBaxufto_",
        "colab": {
          "base_uri": "https://localhost:8080/",
          "height": 1000
        },
        "outputId": "9ec866b9-0365-4489-eb74-834a45900efc"
      },
      "execution_count": 37,
      "outputs": [
        {
          "output_type": "stream",
          "name": "stderr",
          "text": [
            "/usr/local/lib/python3.7/dist-packages/matplotlib/cbook/__init__.py:1376: VisibleDeprecationWarning: Creating an ndarray from ragged nested sequences (which is a list-or-tuple of lists-or-tuples-or ndarrays with different lengths or shapes) is deprecated. If you meant to do this, you must specify 'dtype=object' when creating the ndarray.\n",
            "  X = np.atleast_1d(X.T if isinstance(X, np.ndarray) else np.asarray(X))\n"
          ]
        },
        {
          "output_type": "execute_result",
          "data": {
            "text/plain": [
              "array([[<matplotlib.axes._subplots.AxesSubplot object at 0x7f933e55f090>,\n",
              "        <matplotlib.axes._subplots.AxesSubplot object at 0x7f934649f9d0>,\n",
              "        <matplotlib.axes._subplots.AxesSubplot object at 0x7f9346585050>,\n",
              "        <matplotlib.axes._subplots.AxesSubplot object at 0x7f9346bff9d0>,\n",
              "        <matplotlib.axes._subplots.AxesSubplot object at 0x7f9346c52910>,\n",
              "        <matplotlib.axes._subplots.AxesSubplot object at 0x7f93465f8f90>,\n",
              "        <matplotlib.axes._subplots.AxesSubplot object at 0x7f9346c575d0>,\n",
              "        <matplotlib.axes._subplots.AxesSubplot object at 0x7f93474b0e10>,\n",
              "        <matplotlib.axes._subplots.AxesSubplot object at 0x7f93474b0ed0>],\n",
              "       [<matplotlib.axes._subplots.AxesSubplot object at 0x7f93442661d0>,\n",
              "        <matplotlib.axes._subplots.AxesSubplot object at 0x7f9346c7b150>,\n",
              "        <matplotlib.axes._subplots.AxesSubplot object at 0x7f934643fc10>,\n",
              "        <matplotlib.axes._subplots.AxesSubplot object at 0x7f9344258ed0>,\n",
              "        <matplotlib.axes._subplots.AxesSubplot object at 0x7f9346605c50>,\n",
              "        <matplotlib.axes._subplots.AxesSubplot object at 0x7f934668fc50>,\n",
              "        <matplotlib.axes._subplots.AxesSubplot object at 0x7f93441e0ad0>,\n",
              "        <matplotlib.axes._subplots.AxesSubplot object at 0x7f9346688f90>,\n",
              "        <matplotlib.axes._subplots.AxesSubplot object at 0x7f93465f3390>],\n",
              "       [<matplotlib.axes._subplots.AxesSubplot object at 0x7f9346283b10>,\n",
              "        <matplotlib.axes._subplots.AxesSubplot object at 0x7f933edc3690>,\n",
              "        <matplotlib.axes._subplots.AxesSubplot object at 0x7f9343ca5c90>,\n",
              "        <matplotlib.axes._subplots.AxesSubplot object at 0x7f933ed76110>,\n",
              "        <matplotlib.axes._subplots.AxesSubplot object at 0x7f933ecf9790>,\n",
              "        <matplotlib.axes._subplots.AxesSubplot object at 0x7f933ec965d0>,\n",
              "        <matplotlib.axes._subplots.AxesSubplot object at 0x7f933ef9ec90>,\n",
              "        <matplotlib.axes._subplots.AxesSubplot object at 0x7f933ec20f90>,\n",
              "        <matplotlib.axes._subplots.AxesSubplot object at 0x7f933ec45490>],\n",
              "       [<matplotlib.axes._subplots.AxesSubplot object at 0x7f933ebf9610>,\n",
              "        <matplotlib.axes._subplots.AxesSubplot object at 0x7f933ef28a90>,\n",
              "        <matplotlib.axes._subplots.AxesSubplot object at 0x7f933eef2550>,\n",
              "        <matplotlib.axes._subplots.AxesSubplot object at 0x7f933eec39d0>,\n",
              "        <matplotlib.axes._subplots.AxesSubplot object at 0x7f933ee14710>,\n",
              "        <matplotlib.axes._subplots.AxesSubplot object at 0x7f933f51c910>,\n",
              "        <matplotlib.axes._subplots.AxesSubplot object at 0x7f93463bb290>,\n",
              "        <matplotlib.axes._subplots.AxesSubplot object at 0x7f934740ee90>,\n",
              "        <matplotlib.axes._subplots.AxesSubplot object at 0x7f93473dc710>],\n",
              "       [<matplotlib.axes._subplots.AxesSubplot object at 0x7f9345529950>,\n",
              "        <matplotlib.axes._subplots.AxesSubplot object at 0x7f9342880810>,\n",
              "        <matplotlib.axes._subplots.AxesSubplot object at 0x7f9342919210>,\n",
              "        <matplotlib.axes._subplots.AxesSubplot object at 0x7f9342a11850>,\n",
              "        <matplotlib.axes._subplots.AxesSubplot object at 0x7f9342a37910>,\n",
              "        <matplotlib.axes._subplots.AxesSubplot object at 0x7f93443fbd10>,\n",
              "        <matplotlib.axes._subplots.AxesSubplot object at 0x7f934731c810>,\n",
              "        <matplotlib.axes._subplots.AxesSubplot object at 0x7f9347322190>,\n",
              "        <matplotlib.axes._subplots.AxesSubplot object at 0x7f9347325290>],\n",
              "       [<matplotlib.axes._subplots.AxesSubplot object at 0x7f9347331c50>,\n",
              "        <matplotlib.axes._subplots.AxesSubplot object at 0x7f9345dcff50>,\n",
              "        <matplotlib.axes._subplots.AxesSubplot object at 0x7f93473430d0>,\n",
              "        <matplotlib.axes._subplots.AxesSubplot object at 0x7f9347345fd0>,\n",
              "        <matplotlib.axes._subplots.AxesSubplot object at 0x7f9347337a50>,\n",
              "        <matplotlib.axes._subplots.AxesSubplot object at 0x7f93472d5a10>,\n",
              "        <matplotlib.axes._subplots.AxesSubplot object at 0x7f93472dad10>,\n",
              "        <matplotlib.axes._subplots.AxesSubplot object at 0x7f9346e9cc10>,\n",
              "        <matplotlib.axes._subplots.AxesSubplot object at 0x7f93472e7490>],\n",
              "       [<matplotlib.axes._subplots.AxesSubplot object at 0x7f93475e06d0>,\n",
              "        <matplotlib.axes._subplots.AxesSubplot object at 0x7f9345dbe250>,\n",
              "        <matplotlib.axes._subplots.AxesSubplot object at 0x7f9347598a50>,\n",
              "        <matplotlib.axes._subplots.AxesSubplot object at 0x7f93473d53d0>,\n",
              "        <matplotlib.axes._subplots.AxesSubplot object at 0x7f93473d6550>,\n",
              "        <matplotlib.axes._subplots.AxesSubplot object at 0x7f9345db8a50>,\n",
              "        <matplotlib.axes._subplots.AxesSubplot object at 0x7f9345db5150>,\n",
              "        <matplotlib.axes._subplots.AxesSubplot object at 0x7f9345db35d0>,\n",
              "        <matplotlib.axes._subplots.AxesSubplot object at 0x7f9345db0e50>],\n",
              "       [<matplotlib.axes._subplots.AxesSubplot object at 0x7f9345d1e0d0>,\n",
              "        <matplotlib.axes._subplots.AxesSubplot object at 0x7f9345d15990>,\n",
              "        <matplotlib.axes._subplots.AxesSubplot object at 0x7f9345528650>,\n",
              "        <matplotlib.axes._subplots.AxesSubplot object at 0x7f9343c78a50>,\n",
              "        <matplotlib.axes._subplots.AxesSubplot object at 0x7f9345d77290>,\n",
              "        <matplotlib.axes._subplots.AxesSubplot object at 0x7f934551a7d0>,\n",
              "        <matplotlib.axes._subplots.AxesSubplot object at 0x7f9345cde710>,\n",
              "        <matplotlib.axes._subplots.AxesSubplot object at 0x7f9345cd9f10>,\n",
              "        <matplotlib.axes._subplots.AxesSubplot object at 0x7f9343ccab50>],\n",
              "       [<matplotlib.axes._subplots.AxesSubplot object at 0x7f9345d49d50>,\n",
              "        <matplotlib.axes._subplots.AxesSubplot object at 0x7f9345d44710>,\n",
              "        <matplotlib.axes._subplots.AxesSubplot object at 0x7f9345d3e910>,\n",
              "        <matplotlib.axes._subplots.AxesSubplot object at 0x7f9342aa8dd0>,\n",
              "        <matplotlib.axes._subplots.AxesSubplot object at 0x7f9342a94290>,\n",
              "        <matplotlib.axes._subplots.AxesSubplot object at 0x7f9342b01710>,\n",
              "        <matplotlib.axes._subplots.AxesSubplot object at 0x7f9342aefed0>,\n",
              "        <matplotlib.axes._subplots.AxesSubplot object at 0x7f9342ada290>,\n",
              "        <matplotlib.axes._subplots.AxesSubplot object at 0x7f9342b3df50>],\n",
              "       [<matplotlib.axes._subplots.AxesSubplot object at 0x7f9342b2b210>,\n",
              "        <matplotlib.axes._subplots.AxesSubplot object at 0x7f9342b8f490>,\n",
              "        <matplotlib.axes._subplots.AxesSubplot object at 0x7f9342b6f350>,\n",
              "        <matplotlib.axes._subplots.AxesSubplot object at 0x7f9342b67a90>,\n",
              "        <matplotlib.axes._subplots.AxesSubplot object at 0x7f9342b5b250>,\n",
              "        <matplotlib.axes._subplots.AxesSubplot object at 0x7f9342bc55d0>,\n",
              "        <matplotlib.axes._subplots.AxesSubplot object at 0x7f9342bb5b10>,\n",
              "        <matplotlib.axes._subplots.AxesSubplot object at 0x7f9342baa4d0>,\n",
              "        <matplotlib.axes._subplots.AxesSubplot object at 0x7f9342b9de50>]],\n",
              "      dtype=object)"
            ]
          },
          "metadata": {},
          "execution_count": 37
        },
        {
          "output_type": "display_data",
          "data": {
            "text/plain": [
              "<Figure size 432x288 with 1 Axes>"
            ],
            "image/png": "[encoded data removed]"
          },
          "metadata": {
            "needs_background": "light"
          }
        },
        {
          "output_type": "display_data",
          "data": {
            "text/plain": [
              "<Figure size 432x288 with 90 Axes>"
            ],
            "image/png": "[encoded data removed]"
          },
          "metadata": {
            "needs_background": "light"
          }
        }
      ]
    },
    {
      "cell_type": "code",
      "source": [
        "# calculate the average star rating for each genre, but only include genres with at least 10 movies\n",
        "genre_counts = df_movie_1980_rating.genres.value_counts()\n",
        "top_genres = genre_counts[genre_counts >= 10].index\n",
        "df_movie_1980_rating[df_movie_1980_rating.genres.isin(top_genres)].groupby('genres').averageRating.mean()\n"
      ],
      "metadata": {
        "colab": {
          "base_uri": "https://localhost:8080/"
        },
        "id": "DK1JqusqW8XC",
        "outputId": "6b3416ff-1d51-46ea-cea0-759ebb063e8e"
      },
      "execution_count": 31,
      "outputs": [
        {
          "output_type": "execute_result",
          "data": {
            "text/plain": [
              "genres\n",
              "['Action', 'Adventure', 'Animation']    6.417857\n",
              "['Action', 'Adventure', 'Comedy']       5.530263\n",
              "['Action', 'Adventure', 'Crime']        5.391176\n",
              "['Action', 'Adventure', 'Drama']        5.300000\n",
              "['Action', 'Adventure', 'Fantasy']      5.080435\n",
              "                                          ...   \n",
              "['Romance']                             5.815789\n",
              "['Sci-Fi', 'Thriller']                  5.129412\n",
              "['Sci-Fi']                              5.105128\n",
              "['Thriller']                            5.179231\n",
              "['War']                                 5.704762\n",
              "Name: averageRating, Length: 151, dtype: float64"
            ]
          },
          "metadata": {},
          "execution_count": 31
        }
      ]
    },
    {
      "cell_type": "code",
      "source": [
        "#calculate the average star rating for all genres, then filter using a boolean Series\n",
        "df_movie_1980_rating.groupby('genres').averageRating.mean()[df_movie_1980_rating.genres.value_counts() >= 10]"
      ],
      "metadata": {
        "colab": {
          "base_uri": "https://localhost:8080/"
        },
        "id": "tVoyXDypYA9Q",
        "outputId": "09c5b5a1-274c-4510-ae8f-f23e4446e8a8"
      },
      "execution_count": 32,
      "outputs": [
        {
          "output_type": "execute_result",
          "data": {
            "text/plain": [
              "genres\n",
              "['Action', 'Adventure', 'Animation']    6.417857\n",
              "['Action', 'Adventure', 'Comedy']       5.530263\n",
              "['Action', 'Adventure', 'Crime']        5.391176\n",
              "['Action', 'Adventure', 'Drama']        5.300000\n",
              "['Action', 'Adventure', 'Fantasy']      5.080435\n",
              "                                          ...   \n",
              "['Romance']                             5.815789\n",
              "['Sci-Fi', 'Thriller']                  5.129412\n",
              "['Sci-Fi']                              5.105128\n",
              "['Thriller']                            5.179231\n",
              "['War']                                 5.704762\n",
              "Name: averageRating, Length: 151, dtype: float64"
            ]
          },
          "metadata": {},
          "execution_count": 32
        }
      ]
    },
    {
      "cell_type": "code",
      "source": [
        "# determine the top rated movie (by star rating) for each genre\n",
        "\n",
        "df_movie_1980_rating.sort_values('averageRating', ascending=False).groupby('genres').primaryTitle.first()\n",
        "df_movie_1980_rating.groupby('genres').primaryTitle.first() "
      ],
      "metadata": {
        "colab": {
          "base_uri": "https://localhost:8080/"
        },
        "id": "juUyOyUNVaTe",
        "outputId": "17449dbc-b07a-45be-c366-2c8f4305ad3e"
      },
      "execution_count": 28,
      "outputs": [
        {
          "output_type": "execute_result",
          "data": {
            "text/plain": [
              "genres\n",
              "['Action', 'Adventure', 'Animation']                           Queen Millennia\n",
              "['Action', 'Adventure', 'Biography']                    Caligula and Messalina\n",
              "['Action', 'Adventure', 'Comedy']                        Fantasy Mission Force\n",
              "['Action', 'Adventure', 'Crime']                                   Cabo Blanco\n",
              "['Action', 'Adventure', 'Drama']                            Tennessee Stallion\n",
              "                                                         ...                  \n",
              "['Sci-Fi', 'Thriller']                                      Image of the Beast\n",
              "['Sci-Fi', 'Western']                                             Alien Outlaw\n",
              "['Sci-Fi']                                                Music of the Spheres\n",
              "['Thriller']                            Two Female Spies with Flowered Panties\n",
              "['War']                                            Treasure of the Lost Desert\n",
              "Name: primaryTitle, Length: 494, dtype: object"
            ]
          },
          "metadata": {},
          "execution_count": 28
        }
      ]
    },
    {
      "cell_type": "markdown",
      "source": [
        "#export CSV"
      ],
      "metadata": {
        "id": "gkgDdJNpznBi"
      }
    },
    {
      "cell_type": "code",
      "source": [],
      "metadata": {
        "id": "kibXDU15yPDN"
      },
      "execution_count": null,
      "outputs": []
    }
  ]
}